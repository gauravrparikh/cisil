{
 "cells": [
  {
   "cell_type": "code",
   "execution_count": 1,
   "id": "ea5ba543",
   "metadata": {},
   "outputs": [],
   "source": [
    "import pandas as pd\n",
    "import pyarrow as pa\n",
    "import pyarrow.csv as csv\n",
    "import datetime\n",
    "import folium\n",
    "import time\n",
    "import geopandas"
   ]
  },
  {
   "cell_type": "code",
   "execution_count": 2,
   "id": "ddc2bbb3",
   "metadata": {},
   "outputs": [],
   "source": [
    "data=pd.read_csv('../../../data/stop_activity_granular_2020-09-01_2020-10-31.csv', engine='pyarrow')"
   ]
  },
  {
   "cell_type": "code",
   "execution_count": 3,
   "id": "5d7035e3",
   "metadata": {},
   "outputs": [],
   "source": [
    "df=data.copy()"
   ]
  },
  {
   "cell_type": "code",
   "execution_count": 4,
   "id": "c4e6f6b1",
   "metadata": {},
   "outputs": [
    {
     "data": {
      "text/plain": [
       "22506627"
      ]
     },
     "execution_count": 4,
     "metadata": {},
     "output_type": "execute_result"
    }
   ],
   "source": [
    "len(df)"
   ]
  },
  {
   "cell_type": "code",
   "execution_count": 5,
   "id": "9d2adeca",
   "metadata": {},
   "outputs": [
    {
     "data": {
      "text/html": [
       "<div>\n",
       "<style scoped>\n",
       "    .dataframe tbody tr th:only-of-type {\n",
       "        vertical-align: middle;\n",
       "    }\n",
       "\n",
       "    .dataframe tbody tr th {\n",
       "        vertical-align: top;\n",
       "    }\n",
       "\n",
       "    .dataframe thead th {\n",
       "        text-align: right;\n",
       "    }\n",
       "</style>\n",
       "<table border=\"1\" class=\"dataframe\">\n",
       "  <thead>\n",
       "    <tr style=\"text-align: right;\">\n",
       "      <th></th>\n",
       "      <th>OPERATION_DATE</th>\n",
       "      <th>BOOKING_ID</th>\n",
       "      <th>SCHED_DAY_TYPE_CODED_NUM</th>\n",
       "      <th>SERVICE_RTE_LIST</th>\n",
       "      <th>TRIP_COMPASS_DIR_CD</th>\n",
       "      <th>KEY_BLOCK_NUM</th>\n",
       "      <th>STOP_SEQUENCE_NUM</th>\n",
       "      <th>STOP_ID</th>\n",
       "      <th>STOP_NM</th>\n",
       "      <th>SCHED_ARRIVAL_SECS_AFTER_MIDNT</th>\n",
       "      <th>FULL_DATE</th>\n",
       "      <th>ACTUAL_ARRIVAL_SECS_AFTER_MIDNT</th>\n",
       "      <th>ACTUAL_DEPARTURE_SECS_AFTER_MIDNT</th>\n",
       "      <th>PSNGR_BOARDINGS</th>\n",
       "      <th>PSNGR_ALIGHTINGS</th>\n",
       "      <th>TRIP_ID</th>\n",
       "      <th>DEP_PSNGR_LOAD</th>\n",
       "    </tr>\n",
       "  </thead>\n",
       "  <tbody>\n",
       "    <tr>\n",
       "      <th>0</th>\n",
       "      <td>2020-09-01</td>\n",
       "      <td>SUM20</td>\n",
       "      <td>0</td>\n",
       "      <td>65</td>\n",
       "      <td>North</td>\n",
       "      <td>6503</td>\n",
       "      <td>13.0</td>\n",
       "      <td>10020</td>\n",
       "      <td>NE 55TH ST &amp; 37TH AVE NE</td>\n",
       "      <td>NaN</td>\n",
       "      <td>09/01/2020</td>\n",
       "      <td>110709</td>\n",
       "      <td>110709</td>\n",
       "      <td>0</td>\n",
       "      <td>0</td>\n",
       "      <td>46931260</td>\n",
       "      <td>2</td>\n",
       "    </tr>\n",
       "    <tr>\n",
       "      <th>1</th>\n",
       "      <td>2020-09-01</td>\n",
       "      <td>SUM20</td>\n",
       "      <td>0</td>\n",
       "      <td>120</td>\n",
       "      <td>North</td>\n",
       "      <td>12011</td>\n",
       "      <td>32.0</td>\n",
       "      <td>21560</td>\n",
       "      <td>DELRIDGE WAY SW &amp; SW HUDSON ST</td>\n",
       "      <td>NaN</td>\n",
       "      <td>09/01/2020</td>\n",
       "      <td>123209</td>\n",
       "      <td>123209</td>\n",
       "      <td>0</td>\n",
       "      <td>0</td>\n",
       "      <td>47583182</td>\n",
       "      <td>0</td>\n",
       "    </tr>\n",
       "    <tr>\n",
       "      <th>2</th>\n",
       "      <td>2020-09-01</td>\n",
       "      <td>SUM20</td>\n",
       "      <td>0</td>\n",
       "      <td>107</td>\n",
       "      <td>NULL</td>\n",
       "      <td>10714</td>\n",
       "      <td>0.0</td>\n",
       "      <td>41890</td>\n",
       "      <td>S LANDER ST &amp; 15TH AVE S</td>\n",
       "      <td>155200.0</td>\n",
       "      <td>09/01/2020</td>\n",
       "      <td>155345</td>\n",
       "      <td>155345</td>\n",
       "      <td>0</td>\n",
       "      <td>0</td>\n",
       "      <td>47801614</td>\n",
       "      <td>0</td>\n",
       "    </tr>\n",
       "    <tr>\n",
       "      <th>3</th>\n",
       "      <td>2020-09-01</td>\n",
       "      <td>SUM20</td>\n",
       "      <td>0</td>\n",
       "      <td>120</td>\n",
       "      <td>NULL</td>\n",
       "      <td>12024</td>\n",
       "      <td>1.0</td>\n",
       "      <td>98141</td>\n",
       "      <td>2ND AVE &amp; LENORA ST</td>\n",
       "      <td>124400.0</td>\n",
       "      <td>09/01/2020</td>\n",
       "      <td>124003</td>\n",
       "      <td>124003</td>\n",
       "      <td>0</td>\n",
       "      <td>0</td>\n",
       "      <td>47583379</td>\n",
       "      <td>0</td>\n",
       "    </tr>\n",
       "    <tr>\n",
       "      <th>4</th>\n",
       "      <td>2020-09-01</td>\n",
       "      <td>SUM20</td>\n",
       "      <td>0</td>\n",
       "      <td>671</td>\n",
       "      <td>South</td>\n",
       "      <td>67111</td>\n",
       "      <td>5.0</td>\n",
       "      <td>61100</td>\n",
       "      <td>INTERNATIONAL BLVD &amp; S 188TH ST</td>\n",
       "      <td>NaN</td>\n",
       "      <td>09/01/2020</td>\n",
       "      <td>133751</td>\n",
       "      <td>133818</td>\n",
       "      <td>4</td>\n",
       "      <td>0</td>\n",
       "      <td>47799588</td>\n",
       "      <td>5</td>\n",
       "    </tr>\n",
       "  </tbody>\n",
       "</table>\n",
       "</div>"
      ],
      "text/plain": [
       "  OPERATION_DATE BOOKING_ID  SCHED_DAY_TYPE_CODED_NUM  SERVICE_RTE_LIST  \\\n",
       "0     2020-09-01      SUM20                         0                65   \n",
       "1     2020-09-01      SUM20                         0               120   \n",
       "2     2020-09-01      SUM20                         0               107   \n",
       "3     2020-09-01      SUM20                         0               120   \n",
       "4     2020-09-01      SUM20                         0               671   \n",
       "\n",
       "  TRIP_COMPASS_DIR_CD  KEY_BLOCK_NUM  STOP_SEQUENCE_NUM  STOP_ID  \\\n",
       "0               North           6503               13.0    10020   \n",
       "1               North          12011               32.0    21560   \n",
       "2                NULL          10714                0.0    41890   \n",
       "3                NULL          12024                1.0    98141   \n",
       "4               South          67111                5.0    61100   \n",
       "\n",
       "                           STOP_NM  SCHED_ARRIVAL_SECS_AFTER_MIDNT  \\\n",
       "0         NE 55TH ST & 37TH AVE NE                             NaN   \n",
       "1   DELRIDGE WAY SW & SW HUDSON ST                             NaN   \n",
       "2         S LANDER ST & 15TH AVE S                        155200.0   \n",
       "3              2ND AVE & LENORA ST                        124400.0   \n",
       "4  INTERNATIONAL BLVD & S 188TH ST                             NaN   \n",
       "\n",
       "    FULL_DATE  ACTUAL_ARRIVAL_SECS_AFTER_MIDNT  \\\n",
       "0  09/01/2020                           110709   \n",
       "1  09/01/2020                           123209   \n",
       "2  09/01/2020                           155345   \n",
       "3  09/01/2020                           124003   \n",
       "4  09/01/2020                           133751   \n",
       "\n",
       "   ACTUAL_DEPARTURE_SECS_AFTER_MIDNT  PSNGR_BOARDINGS  PSNGR_ALIGHTINGS  \\\n",
       "0                             110709                0                 0   \n",
       "1                             123209                0                 0   \n",
       "2                             155345                0                 0   \n",
       "3                             124003                0                 0   \n",
       "4                             133818                4                 0   \n",
       "\n",
       "    TRIP_ID  DEP_PSNGR_LOAD  \n",
       "0  46931260               2  \n",
       "1  47583182               0  \n",
       "2  47801614               0  \n",
       "3  47583379               0  \n",
       "4  47799588               5  "
      ]
     },
     "execution_count": 5,
     "metadata": {},
     "output_type": "execute_result"
    }
   ],
   "source": [
    "df.head()"
   ]
  },
  {
   "cell_type": "code",
   "execution_count": 6,
   "id": "ec40066d",
   "metadata": {},
   "outputs": [
    {
     "data": {
      "text/plain": [
       "60"
      ]
     },
     "execution_count": 6,
     "metadata": {},
     "output_type": "execute_result"
    }
   ],
   "source": [
    "len(set(df['FULL_DATE']))"
   ]
  },
  {
   "cell_type": "code",
   "execution_count": 7,
   "id": "fe8a91f8",
   "metadata": {},
   "outputs": [
    {
     "data": {
      "text/plain": [
       "5993"
      ]
     },
     "execution_count": 7,
     "metadata": {},
     "output_type": "execute_result"
    }
   ],
   "source": [
    "len(set(df['STOP_ID']))"
   ]
  },
  {
   "cell_type": "code",
   "execution_count": 8,
   "id": "7f0c2510",
   "metadata": {},
   "outputs": [
    {
     "data": {
      "text/plain": [
       "152"
      ]
     },
     "execution_count": 8,
     "metadata": {},
     "output_type": "execute_result"
    }
   ],
   "source": [
    "len(set(df['SERVICE_RTE_LIST']))"
   ]
  },
  {
   "cell_type": "code",
   "execution_count": 9,
   "id": "927de33c",
   "metadata": {},
   "outputs": [
    {
     "data": {
      "text/plain": [
       "82027"
      ]
     },
     "execution_count": 9,
     "metadata": {},
     "output_type": "execute_result"
    }
   ],
   "source": [
    "len(set(df['TRIP_ID']))"
   ]
  },
  {
   "cell_type": "code",
   "execution_count": 10,
   "id": "ca388406",
   "metadata": {},
   "outputs": [
    {
     "data": {
      "text/plain": [
       "count    2.250663e+07\n",
       "mean     2.784130e-01\n",
       "std      9.474394e-01\n",
       "min      0.000000e+00\n",
       "25%      0.000000e+00\n",
       "50%      0.000000e+00\n",
       "75%      0.000000e+00\n",
       "max      2.080000e+02\n",
       "Name: PSNGR_ALIGHTINGS, dtype: float64"
      ]
     },
     "execution_count": 10,
     "metadata": {},
     "output_type": "execute_result"
    }
   ],
   "source": [
    "df['PSNGR_ALIGHTINGS'].describe()"
   ]
  },
  {
   "cell_type": "code",
   "execution_count": 11,
   "id": "40d15ffa",
   "metadata": {},
   "outputs": [
    {
     "data": {
      "text/plain": [
       "OPERATION_DATE                              0\n",
       "BOOKING_ID                                  0\n",
       "SCHED_DAY_TYPE_CODED_NUM                    0\n",
       "SERVICE_RTE_LIST                            0\n",
       "TRIP_COMPASS_DIR_CD                         0\n",
       "KEY_BLOCK_NUM                               0\n",
       "STOP_SEQUENCE_NUM                        2441\n",
       "STOP_ID                                     0\n",
       "STOP_NM                                     0\n",
       "SCHED_ARRIVAL_SECS_AFTER_MIDNT       17238389\n",
       "FULL_DATE                                   0\n",
       "ACTUAL_ARRIVAL_SECS_AFTER_MIDNT             0\n",
       "ACTUAL_DEPARTURE_SECS_AFTER_MIDNT           0\n",
       "PSNGR_BOARDINGS                             0\n",
       "PSNGR_ALIGHTINGS                            0\n",
       "TRIP_ID                                     0\n",
       "DEP_PSNGR_LOAD                              0\n",
       "dtype: int64"
      ]
     },
     "execution_count": 11,
     "metadata": {},
     "output_type": "execute_result"
    }
   ],
   "source": [
    "df.isnull().sum()"
   ]
  },
  {
   "cell_type": "code",
   "execution_count": 12,
   "id": "1b089b0e",
   "metadata": {},
   "outputs": [],
   "source": [
    "df['PSNGR_ACTIVITY']=df['PSNGR_ALIGHTINGS']+df['PSNGR_BOARDINGS']"
   ]
  },
  {
   "cell_type": "code",
   "execution_count": 13,
   "id": "f945cc89",
   "metadata": {},
   "outputs": [],
   "source": [
    "df['FULL_DATE']=pd.to_datetime(df['FULL_DATE'])"
   ]
  },
  {
   "cell_type": "code",
   "execution_count": 14,
   "id": "449dcc73",
   "metadata": {},
   "outputs": [],
   "source": [
    "df['OPERATION_DATE']=pd.to_datetime(df['OPERATION_DATE'])"
   ]
  },
  {
   "cell_type": "code",
   "execution_count": 15,
   "id": "4efdd0d3",
   "metadata": {},
   "outputs": [],
   "source": [
    "df['ACTUAL_DEPARTURE_SECS_AFTER_MIDNT']=pd.to_datetime(df['ACTUAL_DEPARTURE_SECS_AFTER_MIDNT'],unit='s')"
   ]
  },
  {
   "cell_type": "markdown",
   "id": "d01167de",
   "metadata": {},
   "source": [
    "Looking for most popular stops for morning and evening rush hours. To see where people commute to and from work, this should align with data on work tract and household tract. \n",
    "\n",
    "Where do we want to focus on\n"
   ]
  },
  {
   "cell_type": "code",
   "execution_count": 16,
   "id": "9892b201",
   "metadata": {},
   "outputs": [],
   "source": [
    "df['ACTUAL_DEPARTURE_SECS_AFTER_MIDNT']=df['ACTUAL_DEPARTURE_SECS_AFTER_MIDNT'].dt.time"
   ]
  },
  {
   "cell_type": "code",
   "execution_count": 17,
   "id": "3ab0bcde",
   "metadata": {},
   "outputs": [
    {
     "data": {
      "text/plain": [
       "<AxesSubplot:xlabel='OPERATION_DATE'>"
      ]
     },
     "execution_count": 17,
     "metadata": {},
     "output_type": "execute_result"
    },
    {
     "data": {
      "image/png": "[encoded data removed]",
      "text/plain": [
       "<Figure size 432x288 with 1 Axes>"
      ]
     },
     "metadata": {
      "needs_background": "light"
     },
     "output_type": "display_data"
    }
   ],
   "source": [
    "df.value_counts('OPERATION_DATE').plot()"
   ]
  },
  {
   "cell_type": "code",
   "execution_count": 18,
   "id": "adcafcd8",
   "metadata": {},
   "outputs": [],
   "source": [
    "m_start=datetime.time(6,30,0)\n",
    "m_end=datetime.time(9,0,0)\n",
    "e_start=datetime.time(17,0,0)\n",
    "e_end=datetime.time(19,0,0)"
   ]
  },
  {
   "cell_type": "code",
   "execution_count": null,
   "id": "20580f0c",
   "metadata": {},
   "outputs": [],
   "source": [
    "df['ACTUAL_DEPARTURE_SECS_AFTER_MIDNT']"
   ]
  },
  {
   "cell_type": "code",
   "execution_count": null,
   "id": "d3e6eea9",
   "metadata": {},
   "outputs": [],
   "source": [
    "df_m_rush=df[(df['ACTUAL_DEPARTURE_SECS_AFTER_MIDNT']>m_start) & (df['ACTUAL_DEPARTURE_SECS_AFTER_MIDNT']<m_end)]"
   ]
  },
  {
   "cell_type": "code",
   "execution_count": null,
   "id": "cbc6f43e",
   "metadata": {},
   "outputs": [],
   "source": [
    "filtered_df = df_m_rush.loc[(df_m_rush['OPERATION_DATE'] == '2020-09-01')]"
   ]
  },
  {
   "cell_type": "code",
   "execution_count": null,
   "id": "0582d4a5",
   "metadata": {},
   "outputs": [],
   "source": [
    "top_morning=filtered_df.groupby('STOP_ID').agg({'PSNGR_ACTIVITY':'mean','STOP_NM':'first'}).nlargest(10,'PSNGR_ACTIVITY')"
   ]
  },
  {
   "cell_type": "code",
   "execution_count": null,
   "id": "62e04fcf",
   "metadata": {},
   "outputs": [],
   "source": [
    "top_morning"
   ]
  },
  {
   "cell_type": "code",
   "execution_count": null,
   "id": "a9647439",
   "metadata": {},
   "outputs": [],
   "source": [
    "geoloc=pd.read_csv('FinalData/raw_data/1_gtfs/stops.txt')\n",
    "geoloc['geometry'] = geopandas.points_from_xy(geoloc['stop_lon'], geoloc['stop_lat'])"
   ]
  },
  {
   "cell_type": "code",
   "execution_count": null,
   "id": "d19949b6",
   "metadata": {},
   "outputs": [],
   "source": [
    "morning=geoloc.merge(top_morning, how='inner', right_on='STOP_ID',left_on=\"stop_id\")\n",
    "morning"
   ]
  },
  {
   "cell_type": "code",
   "execution_count": null,
   "id": "88299a9e",
   "metadata": {},
   "outputs": [],
   "source": [
    "geo_df_list = [[point.xy[1][0], point.xy[0][0]] for point in morning.geometry ]\n",
    "mapping = folium.Map(location = [47.59789702474227, -122.31735261797544], tiles = \"Stamen Terrain\", zoom_start = 10)\n",
    "i=0\n",
    "for coordinates in geo_df_list[:10]:\n",
    "    mapping.add_child(folium.Marker(location = coordinates,popup =\n",
    "                            \"Name: \" + str(morning.stop_name[i]) + '<br>',\n",
    "                            icon = folium.Icon()))\n",
    "    i = i + 1"
   ]
  },
  {
   "cell_type": "code",
   "execution_count": null,
   "id": "afb5841c",
   "metadata": {},
   "outputs": [],
   "source": [
    "mapping"
   ]
  },
  {
   "cell_type": "markdown",
   "id": "eabd1454",
   "metadata": {},
   "source": [
    "Repeating the same process for evening rush hours for the first date"
   ]
  },
  {
   "cell_type": "code",
   "execution_count": null,
   "id": "4b4e7624",
   "metadata": {},
   "outputs": [],
   "source": [
    "df_e_rush=df[(df['ACTUAL_DEPARTURE_SECS_AFTER_MIDNT']>e_start) & (df['ACTUAL_DEPARTURE_SECS_AFTER_MIDNT']<e_end)]"
   ]
  },
  {
   "cell_type": "code",
   "execution_count": null,
   "id": "8a5dde54",
   "metadata": {},
   "outputs": [],
   "source": [
    "top_evening=df_e_rush.loc[(df_e_rush['OPERATION_DATE'] == '2020-09-01')].groupby('STOP_ID').agg({'PSNGR_ACTIVITY':'mean','STOP_NM':'first'}).nlargest(10,'PSNGR_ACTIVITY')"
   ]
  },
  {
   "cell_type": "code",
   "execution_count": null,
   "id": "900fe838",
   "metadata": {},
   "outputs": [],
   "source": [
    "evening=geoloc.merge(top_evening, how='inner', right_on='STOP_ID',left_on=\"stop_id\")\n",
    "evening"
   ]
  },
  {
   "cell_type": "code",
   "execution_count": null,
   "id": "b86966eb",
   "metadata": {},
   "outputs": [],
   "source": [
    "geo_df_list = [[point.xy[1][0], point.xy[0][0]] for point in evening.geometry ]\n",
    "mapping = folium.Map(location = [47.59789702474227, -122.31735261797544], tiles = \"OpenStreetMap\", zoom_start = 10)\n",
    "i=0\n",
    "for coordinates in geo_df_list[:10]:\n",
    "    mapping.add_child(folium.Marker(location = coordinates,popup =\n",
    "                            \"Name: \" + str(evening.stop_name[i]) + '<br>',\n",
    "                            icon = folium.Icon()))\n",
    "    i = i + 1"
   ]
  },
  {
   "cell_type": "code",
   "execution_count": null,
   "id": "59af96b3",
   "metadata": {},
   "outputs": [],
   "source": [
    "mapping"
   ]
  },
  {
   "cell_type": "code",
   "execution_count": null,
   "id": "0780d356",
   "metadata": {},
   "outputs": [],
   "source": [
    "df_e_rush=df[(df['ACTUAL_DEPARTURE_SECS_AFTER_MIDNT']>e_start) & (df['ACTUAL_DEPARTURE_SECS_AFTER_MIDNT']<e_end)]\n",
    "\n",
    "top_evening=df_e_rush.groupby('STOP_ID').agg({'PSNGR_ACTIVITY':'mean','STOP_NM':'first'}).nlargest(10,'PSNGR_ACTIVITY')\n",
    "\n",
    "evening=geoloc.merge(top_evening, how='inner', right_on='STOP_ID',left_on=\"stop_id\")\n",
    "evening\n",
    "\n",
    "geo_df_list = [[point.xy[1][0], point.xy[0][0]] for point in evening.geometry ]\n",
    "mapping = folium.Map(location = [47.59789702474227, -122.31735261797544], tiles = \"OpenStreetMap\", zoom_start = 10)\n",
    "i=0\n",
    "for coordinates in geo_df_list[:10]:\n",
    "    mapping.add_child(folium.Marker(location = coordinates,popup =\n",
    "                            \"Name: \" + str(evening.stop_name[i]) + '<br>',\n",
    "                            icon = folium.Icon()))\n",
    "    i = i + 1\n",
    "\n",
    "mapping"
   ]
  },
  {
   "cell_type": "code",
   "execution_count": null,
   "id": "d35d0578",
   "metadata": {},
   "outputs": [],
   "source": [
    "df_e_rush=df[(df['ACTUAL_DEPARTURE_SECS_AFTER_MIDNT']>e_start) & (df['ACTUAL_DEPARTURE_SECS_AFTER_MIDNT']<e_end)]\n",
    "\n",
    "top_evening=df_e_rush.loc[(df_e_rush['OPERATION_DATE'] == '2020-09-01')].groupby('STOP_ID').agg({'PSNGR_ALIGHTINGS':'mean','STOP_NM':'first'}).nlargest(10,'PSNGR_ALIGHTINGS')\n",
    "\n",
    "evening=geoloc.merge(top_evening, how='inner', right_on='STOP_ID',left_on=\"stop_id\")\n",
    "evening\n",
    "\n",
    "geo_df_list = [[point.xy[1][0], point.xy[0][0]] for point in evening.geometry ]\n",
    "mapping = folium.Map(location = [47.59789702474227, -122.31735261797544], tiles = \"OpenStreetMap\", zoom_start = 10)\n",
    "i=0\n",
    "for coordinates in geo_df_list[:10]:\n",
    "    mapping.add_child(folium.Marker(location = coordinates,popup =\n",
    "                            \"Name: \" + str(evening.stop_name[i]) + '<br>',\n",
    "                            icon = folium.Icon()))\n",
    "    i = i + 1\n",
    "\n",
    "mapping"
   ]
  },
  {
   "cell_type": "code",
   "execution_count": null,
   "id": "ea4e8675",
   "metadata": {},
   "outputs": [],
   "source": [
    "df_e_rush=df[(df['ACTUAL_DEPARTURE_SECS_AFTER_MIDNT']>e_start) & (df['ACTUAL_DEPARTURE_SECS_AFTER_MIDNT']<e_end)]\n",
    "\n",
    "top_evening=df_e_rush.groupby('STOP_ID').agg({'PSNGR_BOARDINGS':'mean','STOP_NM':'first'}).nlargest(10,'PSNGR_BOARDINGS')\n",
    "\n",
    "evening=geoloc.merge(top_evening, how='inner', right_on='STOP_ID',left_on=\"stop_id\")\n",
    "evening\n",
    "\n",
    "geo_df_list = [[point.xy[1][0], point.xy[0][0]] for point in evening.geometry ]\n",
    "mapping = folium.Map(location = [47.59789702474227, -122.31735261797544], tiles = \"OpenStreetMap\", zoom_start = 10)\n",
    "i=0\n",
    "for coordinates in geo_df_list[:10]:\n",
    "    mapping.add_child(folium.Marker(location = coordinates,popup =\n",
    "                            \"Name: \" + str(evening.stop_name[i]) + '<br>',\n",
    "                            icon = folium.Icon()))\n",
    "    i = i + 1\n",
    "\n",
    "mapping"
   ]
  },
  {
   "cell_type": "code",
   "execution_count": null,
   "id": "1b01e191",
   "metadata": {},
   "outputs": [],
   "source": [
    "df_m_rush=df[(df['ACTUAL_DEPARTURE_SECS_AFTER_MIDNT']>m_start) & (df['ACTUAL_DEPARTURE_SECS_AFTER_MIDNT']<m_end)]\n",
    "\n",
    "top_evening=df_m_rush.loc[(df_m_rush['OPERATION_DATE'] == '2020-09-01')].groupby('STOP_ID').agg({'PSNGR_ALIGHTINGS':'mean','STOP_NM':'first'}).nlargest(10,'PSNGR_ALIGHTINGS')\n",
    "\n",
    "morning=geoloc.merge(top_evening, how='inner', right_on='STOP_ID',left_on=\"stop_id\")\n",
    "\n",
    "\n",
    "geo_df_list = [[point.xy[1][0], point.xy[0][0]] for point in morning.geometry ]\n",
    "mapping = folium.Map(location = [47.59789702474227, -122.31735261797544], tiles = \"OpenStreetMap\", zoom_start = 10)\n",
    "i=0\n",
    "for coordinates in geo_df_list[:10]:\n",
    "    mapping.add_child(folium.Marker(location = coordinates,popup =\n",
    "                            \"Name: \" + str(evening.stop_name[i]) + '<br>',\n",
    "                            icon = folium.Icon()))\n",
    "    i = i + 1\n",
    "\n",
    "mapping"
   ]
  },
  {
   "cell_type": "code",
   "execution_count": null,
   "id": "11fde8fc",
   "metadata": {},
   "outputs": [],
   "source": [
    "df_m_rush=df[(df['ACTUAL_DEPARTURE_SECS_AFTER_MIDNT']>m_start) & (df['ACTUAL_DEPARTURE_SECS_AFTER_MIDNT']<m_end)]\n",
    "\n",
    "top_evening=df_m_rush.loc[(df_m_rush['OPERATION_DATE'] == '2020-09-01')].groupby('STOP_ID').agg({'PSNGR_BOARDINGS':'mean','STOP_NM':'first'}).nlargest(10,'PSNGR_BOARDINGS')\n",
    "\n",
    "morning=geoloc.merge(top_evening, how='inner', right_on='STOP_ID',left_on=\"stop_id\")\n",
    "\n",
    "\n",
    "geo_df_list = [[point.xy[1][0], point.xy[0][0]] for point in morning.geometry ]\n",
    "mapping = folium.Map(location = [47.59789702474227, -122.31735261797544], tiles = \"OpenStreetMap\", zoom_start = 10)\n",
    "i=0\n",
    "for coordinates in geo_df_list[:10]:\n",
    "    mapping.add_child(folium.Marker(location = coordinates,popup =\n",
    "                            \"Name: \" + str(evening.stop_name[i]) + '<br>',\n",
    "                            icon = folium.Icon()))\n",
    "    i = i + 1\n",
    "\n",
    "mapping"
   ]
  },
  {
   "cell_type": "code",
   "execution_count": null,
   "id": "2390499c",
   "metadata": {},
   "outputs": [],
   "source": []
  }
 ],
 "metadata": {
  "kernelspec": {
   "display_name": "Python 3",
   "language": "python",
   "name": "python3"
  },
  "language_info": {
   "codemirror_mode": {
    "name": "ipython",
    "version": 3
   },
   "file_extension": ".py",
   "mimetype": "text/x-python",
   "name": "python",
   "nbconvert_exporter": "python",
   "pygments_lexer": "ipython3",
   "version": "3.8.8"
  }
 },
 "nbformat": 4,
 "nbformat_minor": 5
}
