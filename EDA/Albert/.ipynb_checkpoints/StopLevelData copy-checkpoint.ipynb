{
 "cells": [
  {
   "cell_type": "code",
   "execution_count": 1,
   "id": "ea5ba543",
   "metadata": {},
   "outputs": [
    {
     "ename": "ModuleNotFoundError",
     "evalue": "No module named 'pyarrow'",
     "output_type": "error",
     "traceback": [
      "\u001b[0;31m---------------------------------------------------------------------------\u001b[0m",
      "\u001b[0;31mModuleNotFoundError\u001b[0m                       Traceback (most recent call last)",
      "\u001b[0;32m<ipython-input-1-f516db043a64>\u001b[0m in \u001b[0;36m<module>\u001b[0;34m\u001b[0m\n\u001b[1;32m      1\u001b[0m \u001b[0;32mimport\u001b[0m \u001b[0mpandas\u001b[0m \u001b[0;32mas\u001b[0m \u001b[0mpd\u001b[0m\u001b[0;34m\u001b[0m\u001b[0;34m\u001b[0m\u001b[0m\n\u001b[0;32m----> 2\u001b[0;31m \u001b[0;32mimport\u001b[0m \u001b[0mpyarrow\u001b[0m \u001b[0;32mas\u001b[0m \u001b[0mpa\u001b[0m\u001b[0;34m\u001b[0m\u001b[0;34m\u001b[0m\u001b[0m\n\u001b[0m\u001b[1;32m      3\u001b[0m \u001b[0;32mimport\u001b[0m \u001b[0mpyarrow\u001b[0m\u001b[0;34m.\u001b[0m\u001b[0mcsv\u001b[0m \u001b[0;32mas\u001b[0m \u001b[0mcsv\u001b[0m\u001b[0;34m\u001b[0m\u001b[0;34m\u001b[0m\u001b[0m\n\u001b[1;32m      4\u001b[0m \u001b[0;32mimport\u001b[0m \u001b[0mdatetime\u001b[0m\u001b[0;34m\u001b[0m\u001b[0;34m\u001b[0m\u001b[0m\n\u001b[1;32m      5\u001b[0m \u001b[0;32mimport\u001b[0m \u001b[0mfolium\u001b[0m\u001b[0;34m\u001b[0m\u001b[0;34m\u001b[0m\u001b[0m\n",
      "\u001b[0;31mModuleNotFoundError\u001b[0m: No module named 'pyarrow'"
     ]
    }
   ],
   "source": [
    "import pandas as pd\n",
    "import pyarrow as pa\n",
    "import pyarrow.csv as csv\n",
    "import datetime\n",
    "import folium\n",
    "import time\n",
    "import geopandas"
   ]
  },
  {
   "cell_type": "code",
   "execution_count": null,
   "id": "ddc2bbb3",
   "metadata": {},
   "outputs": [],
   "source": [
    "data=pd.read_csv('../../../data/stop_activity_granular_2020-09-01_2020-10-31.csv', engine='pyarrow')"
   ]
  },
  {
   "cell_type": "code",
   "execution_count": 4,
   "id": "5d7035e3",
   "metadata": {},
   "outputs": [],
   "source": [
    "df=data"
   ]
  },
  {
   "cell_type": "code",
   "execution_count": 115,
   "id": "c4e6f6b1",
   "metadata": {},
   "outputs": [
    {
     "data": {
      "text/plain": [
       "22506627"
      ]
     },
     "execution_count": 115,
     "metadata": {},
     "output_type": "execute_result"
    }
   ],
   "source": [
    "len(df)"
   ]
  },
  {
   "cell_type": "code",
   "execution_count": 5,
   "id": "9d2adeca",
   "metadata": {},
   "outputs": [
    {
     "data": {
      "text/html": [
       "<div>\n",
       "<style scoped>\n",
       "    .dataframe tbody tr th:only-of-type {\n",
       "        vertical-align: middle;\n",
       "    }\n",
       "\n",
       "    .dataframe tbody tr th {\n",
       "        vertical-align: top;\n",
       "    }\n",
       "\n",
       "    .dataframe thead th {\n",
       "        text-align: right;\n",
       "    }\n",
       "</style>\n",
       "<table border=\"1\" class=\"dataframe\">\n",
       "  <thead>\n",
       "    <tr style=\"text-align: right;\">\n",
       "      <th></th>\n",
       "      <th>OPERATION_DATE</th>\n",
       "      <th>BOOKING_ID</th>\n",
       "      <th>SCHED_DAY_TYPE_CODED_NUM</th>\n",
       "      <th>SERVICE_RTE_LIST</th>\n",
       "      <th>TRIP_COMPASS_DIR_CD</th>\n",
       "      <th>KEY_BLOCK_NUM</th>\n",
       "      <th>STOP_SEQUENCE_NUM</th>\n",
       "      <th>STOP_ID</th>\n",
       "      <th>STOP_NM</th>\n",
       "      <th>SCHED_ARRIVAL_SECS_AFTER_MIDNT</th>\n",
       "      <th>FULL_DATE</th>\n",
       "      <th>ACTUAL_ARRIVAL_SECS_AFTER_MIDNT</th>\n",
       "      <th>ACTUAL_DEPARTURE_SECS_AFTER_MIDNT</th>\n",
       "      <th>PSNGR_BOARDINGS</th>\n",
       "      <th>PSNGR_ALIGHTINGS</th>\n",
       "      <th>TRIP_ID</th>\n",
       "      <th>DEP_PSNGR_LOAD</th>\n",
       "    </tr>\n",
       "  </thead>\n",
       "  <tbody>\n",
       "    <tr>\n",
       "      <th>0</th>\n",
       "      <td>2020-09-01</td>\n",
       "      <td>SUM20</td>\n",
       "      <td>0</td>\n",
       "      <td>65</td>\n",
       "      <td>North</td>\n",
       "      <td>6503</td>\n",
       "      <td>13.0</td>\n",
       "      <td>10020</td>\n",
       "      <td>NE 55TH ST &amp; 37TH AVE NE</td>\n",
       "      <td>NaN</td>\n",
       "      <td>09/01/2020</td>\n",
       "      <td>110709</td>\n",
       "      <td>110709</td>\n",
       "      <td>0</td>\n",
       "      <td>0</td>\n",
       "      <td>46931260</td>\n",
       "      <td>2</td>\n",
       "    </tr>\n",
       "    <tr>\n",
       "      <th>1</th>\n",
       "      <td>2020-09-01</td>\n",
       "      <td>SUM20</td>\n",
       "      <td>0</td>\n",
       "      <td>120</td>\n",
       "      <td>North</td>\n",
       "      <td>12011</td>\n",
       "      <td>32.0</td>\n",
       "      <td>21560</td>\n",
       "      <td>DELRIDGE WAY SW &amp; SW HUDSON ST</td>\n",
       "      <td>NaN</td>\n",
       "      <td>09/01/2020</td>\n",
       "      <td>123209</td>\n",
       "      <td>123209</td>\n",
       "      <td>0</td>\n",
       "      <td>0</td>\n",
       "      <td>47583182</td>\n",
       "      <td>0</td>\n",
       "    </tr>\n",
       "    <tr>\n",
       "      <th>2</th>\n",
       "      <td>2020-09-01</td>\n",
       "      <td>SUM20</td>\n",
       "      <td>0</td>\n",
       "      <td>107</td>\n",
       "      <td>NULL</td>\n",
       "      <td>10714</td>\n",
       "      <td>0.0</td>\n",
       "      <td>41890</td>\n",
       "      <td>S LANDER ST &amp; 15TH AVE S</td>\n",
       "      <td>155200.0</td>\n",
       "      <td>09/01/2020</td>\n",
       "      <td>155345</td>\n",
       "      <td>155345</td>\n",
       "      <td>0</td>\n",
       "      <td>0</td>\n",
       "      <td>47801614</td>\n",
       "      <td>0</td>\n",
       "    </tr>\n",
       "    <tr>\n",
       "      <th>3</th>\n",
       "      <td>2020-09-01</td>\n",
       "      <td>SUM20</td>\n",
       "      <td>0</td>\n",
       "      <td>120</td>\n",
       "      <td>NULL</td>\n",
       "      <td>12024</td>\n",
       "      <td>1.0</td>\n",
       "      <td>98141</td>\n",
       "      <td>2ND AVE &amp; LENORA ST</td>\n",
       "      <td>124400.0</td>\n",
       "      <td>09/01/2020</td>\n",
       "      <td>124003</td>\n",
       "      <td>124003</td>\n",
       "      <td>0</td>\n",
       "      <td>0</td>\n",
       "      <td>47583379</td>\n",
       "      <td>0</td>\n",
       "    </tr>\n",
       "    <tr>\n",
       "      <th>4</th>\n",
       "      <td>2020-09-01</td>\n",
       "      <td>SUM20</td>\n",
       "      <td>0</td>\n",
       "      <td>671</td>\n",
       "      <td>South</td>\n",
       "      <td>67111</td>\n",
       "      <td>5.0</td>\n",
       "      <td>61100</td>\n",
       "      <td>INTERNATIONAL BLVD &amp; S 188TH ST</td>\n",
       "      <td>NaN</td>\n",
       "      <td>09/01/2020</td>\n",
       "      <td>133751</td>\n",
       "      <td>133818</td>\n",
       "      <td>4</td>\n",
       "      <td>0</td>\n",
       "      <td>47799588</td>\n",
       "      <td>5</td>\n",
       "    </tr>\n",
       "  </tbody>\n",
       "</table>\n",
       "</div>"
      ],
      "text/plain": [
       "  OPERATION_DATE BOOKING_ID  SCHED_DAY_TYPE_CODED_NUM  SERVICE_RTE_LIST  \\\n",
       "0     2020-09-01      SUM20                         0                65   \n",
       "1     2020-09-01      SUM20                         0               120   \n",
       "2     2020-09-01      SUM20                         0               107   \n",
       "3     2020-09-01      SUM20                         0               120   \n",
       "4     2020-09-01      SUM20                         0               671   \n",
       "\n",
       "  TRIP_COMPASS_DIR_CD  KEY_BLOCK_NUM  STOP_SEQUENCE_NUM  STOP_ID  \\\n",
       "0               North           6503               13.0    10020   \n",
       "1               North          12011               32.0    21560   \n",
       "2                NULL          10714                0.0    41890   \n",
       "3                NULL          12024                1.0    98141   \n",
       "4               South          67111                5.0    61100   \n",
       "\n",
       "                           STOP_NM  SCHED_ARRIVAL_SECS_AFTER_MIDNT  \\\n",
       "0         NE 55TH ST & 37TH AVE NE                             NaN   \n",
       "1   DELRIDGE WAY SW & SW HUDSON ST                             NaN   \n",
       "2         S LANDER ST & 15TH AVE S                        155200.0   \n",
       "3              2ND AVE & LENORA ST                        124400.0   \n",
       "4  INTERNATIONAL BLVD & S 188TH ST                             NaN   \n",
       "\n",
       "    FULL_DATE  ACTUAL_ARRIVAL_SECS_AFTER_MIDNT  \\\n",
       "0  09/01/2020                           110709   \n",
       "1  09/01/2020                           123209   \n",
       "2  09/01/2020                           155345   \n",
       "3  09/01/2020                           124003   \n",
       "4  09/01/2020                           133751   \n",
       "\n",
       "   ACTUAL_DEPARTURE_SECS_AFTER_MIDNT  PSNGR_BOARDINGS  PSNGR_ALIGHTINGS  \\\n",
       "0                             110709                0                 0   \n",
       "1                             123209                0                 0   \n",
       "2                             155345                0                 0   \n",
       "3                             124003                0                 0   \n",
       "4                             133818                4                 0   \n",
       "\n",
       "    TRIP_ID  DEP_PSNGR_LOAD  \n",
       "0  46931260               2  \n",
       "1  47583182               0  \n",
       "2  47801614               0  \n",
       "3  47583379               0  \n",
       "4  47799588               5  "
      ]
     },
     "execution_count": 5,
     "metadata": {},
     "output_type": "execute_result"
    }
   ],
   "source": [
    "df.head()"
   ]
  },
  {
   "cell_type": "code",
   "execution_count": 6,
   "id": "ec40066d",
   "metadata": {},
   "outputs": [
    {
     "data": {
      "text/plain": [
       "60"
      ]
     },
     "execution_count": 6,
     "metadata": {},
     "output_type": "execute_result"
    }
   ],
   "source": [
    "len(set(df['FULL_DATE']))"
   ]
  },
  {
   "cell_type": "code",
   "execution_count": 7,
   "id": "fe8a91f8",
   "metadata": {},
   "outputs": [
    {
     "data": {
      "text/plain": [
       "5993"
      ]
     },
     "execution_count": 7,
     "metadata": {},
     "output_type": "execute_result"
    }
   ],
   "source": [
    "len(set(df['STOP_ID']))"
   ]
  },
  {
   "cell_type": "code",
   "execution_count": 8,
   "id": "7f0c2510",
   "metadata": {},
   "outputs": [
    {
     "data": {
      "text/plain": [
       "152"
      ]
     },
     "execution_count": 8,
     "metadata": {},
     "output_type": "execute_result"
    }
   ],
   "source": [
    "len(set(df['SERVICE_RTE_LIST']))"
   ]
  },
  {
   "cell_type": "code",
   "execution_count": 9,
   "id": "927de33c",
   "metadata": {},
   "outputs": [
    {
     "data": {
      "text/plain": [
       "82027"
      ]
     },
     "execution_count": 9,
     "metadata": {},
     "output_type": "execute_result"
    }
   ],
   "source": [
    "len(set(df['TRIP_ID']))"
   ]
  },
  {
   "cell_type": "code",
   "execution_count": 10,
   "id": "ca388406",
   "metadata": {},
   "outputs": [
    {
     "data": {
      "text/plain": [
       "count    2.250663e+07\n",
       "mean     2.784130e-01\n",
       "std      9.474394e-01\n",
       "min      0.000000e+00\n",
       "25%      0.000000e+00\n",
       "50%      0.000000e+00\n",
       "75%      0.000000e+00\n",
       "max      2.080000e+02\n",
       "Name: PSNGR_ALIGHTINGS, dtype: float64"
      ]
     },
     "execution_count": 10,
     "metadata": {},
     "output_type": "execute_result"
    }
   ],
   "source": [
    "df['PSNGR_ALIGHTINGS'].describe()"
   ]
  },
  {
   "cell_type": "code",
   "execution_count": 11,
   "id": "40d15ffa",
   "metadata": {},
   "outputs": [
    {
     "data": {
      "text/plain": [
       "OPERATION_DATE                              0\n",
       "BOOKING_ID                                  0\n",
       "SCHED_DAY_TYPE_CODED_NUM                    0\n",
       "SERVICE_RTE_LIST                            0\n",
       "TRIP_COMPASS_DIR_CD                         0\n",
       "KEY_BLOCK_NUM                               0\n",
       "STOP_SEQUENCE_NUM                        2441\n",
       "STOP_ID                                     0\n",
       "STOP_NM                                     0\n",
       "SCHED_ARRIVAL_SECS_AFTER_MIDNT       17238389\n",
       "FULL_DATE                                   0\n",
       "ACTUAL_ARRIVAL_SECS_AFTER_MIDNT             0\n",
       "ACTUAL_DEPARTURE_SECS_AFTER_MIDNT           0\n",
       "PSNGR_BOARDINGS                             0\n",
       "PSNGR_ALIGHTINGS                            0\n",
       "TRIP_ID                                     0\n",
       "DEP_PSNGR_LOAD                              0\n",
       "dtype: int64"
      ]
     },
     "execution_count": 11,
     "metadata": {},
     "output_type": "execute_result"
    }
   ],
   "source": [
    "df.isnull().sum()"
   ]
  },
  {
   "cell_type": "code",
   "execution_count": 12,
   "id": "1b089b0e",
   "metadata": {},
   "outputs": [],
   "source": [
    "df['PSNGR_ACTIVITY']=df['PSNGR_ALIGHTINGS']+df['PSNGR_BOARDINGS']"
   ]
  },
  {
   "cell_type": "code",
   "execution_count": 13,
   "id": "f945cc89",
   "metadata": {},
   "outputs": [],
   "source": [
    "df['FULL_DATE']=pd.to_datetime(df['FULL_DATE'])"
   ]
  },
  {
   "cell_type": "code",
   "execution_count": 14,
   "id": "449dcc73",
   "metadata": {},
   "outputs": [],
   "source": [
    "df['OPERATION_DATE']=pd.to_datetime(df['OPERATION_DATE'])"
   ]
  },
  {
   "cell_type": "code",
   "execution_count": 15,
   "id": "4efdd0d3",
   "metadata": {},
   "outputs": [],
   "source": [
    "df['ACTUAL_DEPARTURE_SECS_AFTER_MIDNT']=pd.to_datetime(df['ACTUAL_DEPARTURE_SECS_AFTER_MIDNT'],unit='s')"
   ]
  },
  {
   "cell_type": "markdown",
   "id": "d01167de",
   "metadata": {},
   "source": [
    "Looking for most popular stops for morning and evening rush hours. To see where people commute to and from work, this should align with data on work tract and household tract. \n",
    "\n",
    "Where do we want to focus on\n"
   ]
  },
  {
   "cell_type": "code",
   "execution_count": 17,
   "id": "9892b201",
   "metadata": {},
   "outputs": [],
   "source": [
    "df['ACTUAL_DEPARTURE_SECS_AFTER_MIDNT']=df['ACTUAL_DEPARTURE_SECS_AFTER_MIDNT'].dt.time"
   ]
  },
  {
   "cell_type": "code",
   "execution_count": 120,
   "id": "3ab0bcde",
   "metadata": {},
   "outputs": [
    {
     "data": {
      "text/plain": [
       "<AxesSubplot:xlabel='OPERATION_DATE'>"
      ]
     },
     "execution_count": 120,
     "metadata": {},
     "output_type": "execute_result"
    },
    {
     "data": {
      "image/png": "[encoded data removed]",
      "text/plain": [
       "<Figure size 432x288 with 1 Axes>"
      ]
     },
     "metadata": {
      "needs_background": "light"
     },
     "output_type": "display_data"
    }
   ],
   "source": [
    "df.value_counts('OPERATION_DATE').plot()"
   ]
  },
  {
   "cell_type": "code",
   "execution_count": 18,
   "id": "adcafcd8",
   "metadata": {},
   "outputs": [],
   "source": [
    "m_start=datetime.time(6,30,0)\n",
    "m_end=datetime.time(9,0,0)\n",
    "e_start=datetime.time(17,0,0)\n",
    "e_end=datetime.time(19,0,0)"
   ]
  },
  {
   "cell_type": "code",
   "execution_count": 19,
   "id": "20580f0c",
   "metadata": {},
   "outputs": [
    {
     "data": {
      "text/plain": [
       "0           06:45:09\n",
       "1           10:13:29\n",
       "2           19:09:05\n",
       "3           10:26:43\n",
       "4           13:10:18\n",
       "              ...   \n",
       "22506622    13:35:44\n",
       "22506623    06:42:25\n",
       "22506624    11:28:24\n",
       "22506625    15:07:34\n",
       "22506626    17:57:31\n",
       "Name: ACTUAL_DEPARTURE_SECS_AFTER_MIDNT, Length: 22506627, dtype: object"
      ]
     },
     "execution_count": 19,
     "metadata": {},
     "output_type": "execute_result"
    }
   ],
   "source": [
    "df['ACTUAL_DEPARTURE_SECS_AFTER_MIDNT']"
   ]
  },
  {
   "cell_type": "code",
   "execution_count": 20,
   "id": "d3e6eea9",
   "metadata": {},
   "outputs": [],
   "source": [
    "df_m_rush=df[(df['ACTUAL_DEPARTURE_SECS_AFTER_MIDNT']>m_start) & (df['ACTUAL_DEPARTURE_SECS_AFTER_MIDNT']<m_end)]"
   ]
  },
  {
   "cell_type": "code",
   "execution_count": 85,
   "id": "cbc6f43e",
   "metadata": {},
   "outputs": [],
   "source": [
    "filtered_df = df_m_rush.loc[(df_m_rush['OPERATION_DATE'] == '2020-09-01')]"
   ]
  },
  {
   "cell_type": "code",
   "execution_count": 86,
   "id": "0582d4a5",
   "metadata": {},
   "outputs": [],
   "source": [
    "top_morning=filtered_df.groupby('STOP_ID').agg({'PSNGR_ACTIVITY':'mean','STOP_NM':'first'}).nlargest(10,'PSNGR_ACTIVITY')"
   ]
  },
  {
   "cell_type": "code",
   "execution_count": 87,
   "id": "62e04fcf",
   "metadata": {},
   "outputs": [
    {
     "data": {
      "text/html": [
       "<div>\n",
       "<style scoped>\n",
       "    .dataframe tbody tr th:only-of-type {\n",
       "        vertical-align: middle;\n",
       "    }\n",
       "\n",
       "    .dataframe tbody tr th {\n",
       "        vertical-align: top;\n",
       "    }\n",
       "\n",
       "    .dataframe thead th {\n",
       "        text-align: right;\n",
       "    }\n",
       "</style>\n",
       "<table border=\"1\" class=\"dataframe\">\n",
       "  <thead>\n",
       "    <tr style=\"text-align: right;\">\n",
       "      <th></th>\n",
       "      <th>PSNGR_ACTIVITY</th>\n",
       "      <th>STOP_NM</th>\n",
       "    </tr>\n",
       "    <tr>\n",
       "      <th>STOP_ID</th>\n",
       "      <th></th>\n",
       "      <th></th>\n",
       "    </tr>\n",
       "  </thead>\n",
       "  <tbody>\n",
       "    <tr>\n",
       "      <th>20041</th>\n",
       "      <td>7.100000</td>\n",
       "      <td>SW ALASKA ST &amp; CALIFORNIA AVE SW BAY #3</td>\n",
       "    </tr>\n",
       "    <tr>\n",
       "      <th>57774</th>\n",
       "      <td>6.500000</td>\n",
       "      <td>AUBURN TRANSIT CENTER BAY #2</td>\n",
       "    </tr>\n",
       "    <tr>\n",
       "      <th>59314</th>\n",
       "      <td>6.428571</td>\n",
       "      <td>ANDOVER PARK W &amp; BAKER BLVD BAY #3</td>\n",
       "    </tr>\n",
       "    <tr>\n",
       "      <th>61070</th>\n",
       "      <td>6.400000</td>\n",
       "      <td>INTERNATIONAL BLVD &amp; S 170TH ST</td>\n",
       "    </tr>\n",
       "    <tr>\n",
       "      <th>29270</th>\n",
       "      <td>6.388889</td>\n",
       "      <td>E JOHN ST &amp; BROADWAY  E</td>\n",
       "    </tr>\n",
       "    <tr>\n",
       "      <th>12880</th>\n",
       "      <td>6.333333</td>\n",
       "      <td>JEFFERSON ST &amp; 9TH AVE</td>\n",
       "    </tr>\n",
       "    <tr>\n",
       "      <th>57459</th>\n",
       "      <td>6.250000</td>\n",
       "      <td>KENT SOUNDER STATION BAY #9</td>\n",
       "    </tr>\n",
       "    <tr>\n",
       "      <th>578</th>\n",
       "      <td>6.151515</td>\n",
       "      <td>3RD AVE &amp; PIKE ST</td>\n",
       "    </tr>\n",
       "    <tr>\n",
       "      <th>32011</th>\n",
       "      <td>6.125000</td>\n",
       "      <td>SW ALASKA ST &amp; 44TH AVE SW BAY #4</td>\n",
       "    </tr>\n",
       "    <tr>\n",
       "      <th>57458</th>\n",
       "      <td>6.100000</td>\n",
       "      <td>KENT SOUNDER STATION BAY #8</td>\n",
       "    </tr>\n",
       "  </tbody>\n",
       "</table>\n",
       "</div>"
      ],
      "text/plain": [
       "         PSNGR_ACTIVITY                                  STOP_NM\n",
       "STOP_ID                                                         \n",
       "20041          7.100000  SW ALASKA ST & CALIFORNIA AVE SW BAY #3\n",
       "57774          6.500000             AUBURN TRANSIT CENTER BAY #2\n",
       "59314          6.428571       ANDOVER PARK W & BAKER BLVD BAY #3\n",
       "61070          6.400000          INTERNATIONAL BLVD & S 170TH ST\n",
       "29270          6.388889                  E JOHN ST & BROADWAY  E\n",
       "12880          6.333333                   JEFFERSON ST & 9TH AVE\n",
       "57459          6.250000              KENT SOUNDER STATION BAY #9\n",
       "578            6.151515                        3RD AVE & PIKE ST\n",
       "32011          6.125000        SW ALASKA ST & 44TH AVE SW BAY #4\n",
       "57458          6.100000              KENT SOUNDER STATION BAY #8"
      ]
     },
     "execution_count": 87,
     "metadata": {},
     "output_type": "execute_result"
    }
   ],
   "source": [
    "top_morning"
   ]
  },
  {
   "cell_type": "code",
   "execution_count": 88,
   "id": "a9647439",
   "metadata": {},
   "outputs": [],
   "source": [
    "geoloc=pd.read_csv('FinalData/raw_data/1_gtfs/stops.txt')\n",
    "geoloc['geometry'] = geopandas.points_from_xy(geoloc['stop_lon'], geoloc['stop_lat'])"
   ]
  },
  {
   "cell_type": "code",
   "execution_count": 89,
   "id": "d19949b6",
   "metadata": {},
   "outputs": [
    {
     "data": {
      "text/html": [
       "<div>\n",
       "<style scoped>\n",
       "    .dataframe tbody tr th:only-of-type {\n",
       "        vertical-align: middle;\n",
       "    }\n",
       "\n",
       "    .dataframe tbody tr th {\n",
       "        vertical-align: top;\n",
       "    }\n",
       "\n",
       "    .dataframe thead th {\n",
       "        text-align: right;\n",
       "    }\n",
       "</style>\n",
       "<table border=\"1\" class=\"dataframe\">\n",
       "  <thead>\n",
       "    <tr style=\"text-align: right;\">\n",
       "      <th></th>\n",
       "      <th>stop_id</th>\n",
       "      <th>stop_name</th>\n",
       "      <th>stop_lat</th>\n",
       "      <th>stop_lon</th>\n",
       "      <th>stop_code</th>\n",
       "      <th>zone_id</th>\n",
       "      <th>stop_timezone</th>\n",
       "      <th>geometry</th>\n",
       "      <th>PSNGR_ACTIVITY</th>\n",
       "      <th>STOP_NM</th>\n",
       "    </tr>\n",
       "  </thead>\n",
       "  <tbody>\n",
       "    <tr>\n",
       "      <th>0</th>\n",
       "      <td>12880</td>\n",
       "      <td>Jefferson St &amp; 9th Ave</td>\n",
       "      <td>47.604935</td>\n",
       "      <td>-122.324089</td>\n",
       "      <td>12880.0</td>\n",
       "      <td>1.0</td>\n",
       "      <td>America/Los_Angeles</td>\n",
       "      <td>POINT (-122.32409 47.60493)</td>\n",
       "      <td>6.333333</td>\n",
       "      <td>JEFFERSON ST &amp; 9TH AVE</td>\n",
       "    </tr>\n",
       "    <tr>\n",
       "      <th>1</th>\n",
       "      <td>20041</td>\n",
       "      <td>SW Alaska St &amp; California Ave SW - Bay 3</td>\n",
       "      <td>47.561203</td>\n",
       "      <td>-122.387383</td>\n",
       "      <td>20041.0</td>\n",
       "      <td>1.0</td>\n",
       "      <td>America/Los_Angeles</td>\n",
       "      <td>POINT (-122.38738 47.56120)</td>\n",
       "      <td>7.100000</td>\n",
       "      <td>SW ALASKA ST &amp; CALIFORNIA AVE SW BAY #3</td>\n",
       "    </tr>\n",
       "    <tr>\n",
       "      <th>2</th>\n",
       "      <td>29270</td>\n",
       "      <td>E John St &amp; Broadway  E</td>\n",
       "      <td>47.619846</td>\n",
       "      <td>-122.320473</td>\n",
       "      <td>29270.0</td>\n",
       "      <td>1.0</td>\n",
       "      <td>America/Los_Angeles</td>\n",
       "      <td>POINT (-122.32047 47.61985)</td>\n",
       "      <td>6.388889</td>\n",
       "      <td>E JOHN ST &amp; BROADWAY  E</td>\n",
       "    </tr>\n",
       "    <tr>\n",
       "      <th>3</th>\n",
       "      <td>32011</td>\n",
       "      <td>SW Alaska St &amp; 44th Ave SW - Bay 4</td>\n",
       "      <td>47.561207</td>\n",
       "      <td>-122.387955</td>\n",
       "      <td>32011.0</td>\n",
       "      <td>1.0</td>\n",
       "      <td>America/Los_Angeles</td>\n",
       "      <td>POINT (-122.38796 47.56121)</td>\n",
       "      <td>6.125000</td>\n",
       "      <td>SW ALASKA ST &amp; 44TH AVE SW BAY #4</td>\n",
       "    </tr>\n",
       "    <tr>\n",
       "      <th>4</th>\n",
       "      <td>57458</td>\n",
       "      <td>Kent Sounder Station - Bay 8</td>\n",
       "      <td>47.383881</td>\n",
       "      <td>-122.232483</td>\n",
       "      <td>57458.0</td>\n",
       "      <td>24.0</td>\n",
       "      <td>America/Los_Angeles</td>\n",
       "      <td>POINT (-122.23248 47.38388)</td>\n",
       "      <td>6.100000</td>\n",
       "      <td>KENT SOUNDER STATION BAY #8</td>\n",
       "    </tr>\n",
       "    <tr>\n",
       "      <th>5</th>\n",
       "      <td>57459</td>\n",
       "      <td>Kent Sounder Station - Bay 9</td>\n",
       "      <td>47.383431</td>\n",
       "      <td>-122.232483</td>\n",
       "      <td>57459.0</td>\n",
       "      <td>24.0</td>\n",
       "      <td>America/Los_Angeles</td>\n",
       "      <td>POINT (-122.23248 47.38343)</td>\n",
       "      <td>6.250000</td>\n",
       "      <td>KENT SOUNDER STATION BAY #9</td>\n",
       "    </tr>\n",
       "    <tr>\n",
       "      <th>6</th>\n",
       "      <td>57774</td>\n",
       "      <td>Auburn Transit Center - Bay 2</td>\n",
       "      <td>47.305790</td>\n",
       "      <td>-122.232079</td>\n",
       "      <td>57774.0</td>\n",
       "      <td>24.0</td>\n",
       "      <td>America/Los_Angeles</td>\n",
       "      <td>POINT (-122.23208 47.30579)</td>\n",
       "      <td>6.500000</td>\n",
       "      <td>AUBURN TRANSIT CENTER BAY #2</td>\n",
       "    </tr>\n",
       "    <tr>\n",
       "      <th>7</th>\n",
       "      <td>578</td>\n",
       "      <td>3rd Ave &amp; Pike St</td>\n",
       "      <td>47.610485</td>\n",
       "      <td>-122.338356</td>\n",
       "      <td>578.0</td>\n",
       "      <td>21.0</td>\n",
       "      <td>America/Los_Angeles</td>\n",
       "      <td>POINT (-122.33836 47.61048)</td>\n",
       "      <td>6.151515</td>\n",
       "      <td>3RD AVE &amp; PIKE ST</td>\n",
       "    </tr>\n",
       "    <tr>\n",
       "      <th>8</th>\n",
       "      <td>59314</td>\n",
       "      <td>Andover Park W &amp; Baker Blvd - Bay 3</td>\n",
       "      <td>47.458714</td>\n",
       "      <td>-122.254272</td>\n",
       "      <td>59314.0</td>\n",
       "      <td>24.0</td>\n",
       "      <td>America/Los_Angeles</td>\n",
       "      <td>POINT (-122.25427 47.45871)</td>\n",
       "      <td>6.428571</td>\n",
       "      <td>ANDOVER PARK W &amp; BAKER BLVD BAY #3</td>\n",
       "    </tr>\n",
       "    <tr>\n",
       "      <th>9</th>\n",
       "      <td>61070</td>\n",
       "      <td>International Blvd &amp; S 170th St</td>\n",
       "      <td>47.450249</td>\n",
       "      <td>-122.296318</td>\n",
       "      <td>61070.0</td>\n",
       "      <td>24.0</td>\n",
       "      <td>America/Los_Angeles</td>\n",
       "      <td>POINT (-122.29632 47.45025)</td>\n",
       "      <td>6.400000</td>\n",
       "      <td>INTERNATIONAL BLVD &amp; S 170TH ST</td>\n",
       "    </tr>\n",
       "  </tbody>\n",
       "</table>\n",
       "</div>"
      ],
      "text/plain": [
       "   stop_id                                 stop_name   stop_lat    stop_lon  \\\n",
       "0    12880                    Jefferson St & 9th Ave  47.604935 -122.324089   \n",
       "1    20041  SW Alaska St & California Ave SW - Bay 3  47.561203 -122.387383   \n",
       "2    29270                   E John St & Broadway  E  47.619846 -122.320473   \n",
       "3    32011        SW Alaska St & 44th Ave SW - Bay 4  47.561207 -122.387955   \n",
       "4    57458              Kent Sounder Station - Bay 8  47.383881 -122.232483   \n",
       "5    57459              Kent Sounder Station - Bay 9  47.383431 -122.232483   \n",
       "6    57774             Auburn Transit Center - Bay 2  47.305790 -122.232079   \n",
       "7      578                         3rd Ave & Pike St  47.610485 -122.338356   \n",
       "8    59314       Andover Park W & Baker Blvd - Bay 3  47.458714 -122.254272   \n",
       "9    61070           International Blvd & S 170th St  47.450249 -122.296318   \n",
       "\n",
       "   stop_code  zone_id        stop_timezone                     geometry  \\\n",
       "0    12880.0      1.0  America/Los_Angeles  POINT (-122.32409 47.60493)   \n",
       "1    20041.0      1.0  America/Los_Angeles  POINT (-122.38738 47.56120)   \n",
       "2    29270.0      1.0  America/Los_Angeles  POINT (-122.32047 47.61985)   \n",
       "3    32011.0      1.0  America/Los_Angeles  POINT (-122.38796 47.56121)   \n",
       "4    57458.0     24.0  America/Los_Angeles  POINT (-122.23248 47.38388)   \n",
       "5    57459.0     24.0  America/Los_Angeles  POINT (-122.23248 47.38343)   \n",
       "6    57774.0     24.0  America/Los_Angeles  POINT (-122.23208 47.30579)   \n",
       "7      578.0     21.0  America/Los_Angeles  POINT (-122.33836 47.61048)   \n",
       "8    59314.0     24.0  America/Los_Angeles  POINT (-122.25427 47.45871)   \n",
       "9    61070.0     24.0  America/Los_Angeles  POINT (-122.29632 47.45025)   \n",
       "\n",
       "   PSNGR_ACTIVITY                                  STOP_NM  \n",
       "0        6.333333                   JEFFERSON ST & 9TH AVE  \n",
       "1        7.100000  SW ALASKA ST & CALIFORNIA AVE SW BAY #3  \n",
       "2        6.388889                  E JOHN ST & BROADWAY  E  \n",
       "3        6.125000        SW ALASKA ST & 44TH AVE SW BAY #4  \n",
       "4        6.100000              KENT SOUNDER STATION BAY #8  \n",
       "5        6.250000              KENT SOUNDER STATION BAY #9  \n",
       "6        6.500000             AUBURN TRANSIT CENTER BAY #2  \n",
       "7        6.151515                        3RD AVE & PIKE ST  \n",
       "8        6.428571       ANDOVER PARK W & BAKER BLVD BAY #3  \n",
       "9        6.400000          INTERNATIONAL BLVD & S 170TH ST  "
      ]
     },
     "execution_count": 89,
     "metadata": {},
     "output_type": "execute_result"
    }
   ],
   "source": [
    "morning=geoloc.merge(top_morning, how='inner', right_on='STOP_ID',left_on=\"stop_id\")\n",
    "morning"
   ]
  },
  {
   "cell_type": "code",
   "execution_count": 121,
   "id": "88299a9e",
   "metadata": {},
   "outputs": [],
   "source": [
    "geo_df_list = [[point.xy[1][0], point.xy[0][0]] for point in morning.geometry ]\n",
    "mapping = folium.Map(location = [47.59789702474227, -122.31735261797544], tiles = \"Stamen Terrain\", zoom_start = 10)\n",
    "i=0\n",
    "for coordinates in geo_df_list[:10]:\n",
    "    mapping.add_child(folium.Marker(location = coordinates,popup =\n",
    "                            \"Name: \" + str(morning.stop_name[i]) + '<br>',\n",
    "                            icon = folium.Icon()))\n",
    "    i = i + 1"
   ]
  },
  {
   "cell_type": "code",
   "execution_count": 122,
   "id": "afb5841c",
   "metadata": {},
   "outputs": [
    {
     "data": {
      "text/html": [
       "<div style=\"width:100%;\"><div style=\"position:relative;width:100%;height:0;padding-bottom:60%;\"><span style=\"color:#565656\">Make this Notebook Trusted to load map: File -> Trust Notebook</span><iframe src=\"about:blank\" style=\"position:absolute;width:100%;height:100%;left:0;top:0;border:none !important;\" data-html=%3C%21DOCTYPE%20html%3E%0A%3Chead%3E%20%20%20%20%0A%20%20%20%20%3Cmeta%20http-equiv%3D%22content-type%22%20content%3D%22text/html%3B%20charset%3DUTF-8%22%20/%3E%0A%20%20%20%20%0A%20%20%20%20%20%20%20%20%3Cscript%3E%0A%20%20%20%20%20%20%20%20%20%20%20%20L_NO_TOUCH%20%3D%20false%3B%0A%20%20%20%20%20%20%20%20%20%20%20%20L_DISABLE_3D%20%3D%20false%3B%0A%20%20%20%20%20%20%20%20%3C/script%3E%0A%20%20%20%20%0A%20%20%20%20%3Cstyle%3Ehtml%2C%20body%20%7Bwidth%3A%20100%25%3Bheight%3A%20100%25%3Bmargin%3A%200%3Bpadding%3A%200%3B%7D%3C/style%3E%0A%20%20%20%20%3Cstyle%3E%23map%20%7Bposition%3Aabsolute%3Btop%3A0%3Bbottom%3A0%3Bright%3A0%3Bleft%3A0%3B%7D%3C/style%3E%0A%20%20%20%20%3Cscript%20src%3D%22https%3A//cdn.jsdelivr.net/npm/leaflet%401.6.0/dist/leaflet.js%22%3E%3C/script%3E%0A%20%20%20%20%3Cscript%20src%3D%22https%3A//code.jquery.com/jquery-1.12.4.min.js%22%3E%3C/script%3E%0A%20%20%20%20%3Cscript%20src%3D%22https%3A//maxcdn.bootstrapcdn.com/bootstrap/3.2.0/js/bootstrap.min.js%22%3E%3C/script%3E%0A%20%20%20%20%3Cscript%20src%3D%22https%3A//cdnjs.cloudflare.com/ajax/libs/Leaflet.awesome-markers/2.0.2/leaflet.awesome-markers.js%22%3E%3C/script%3E%0A%20%20%20%20%3Clink%20rel%3D%22stylesheet%22%20href%3D%22https%3A//cdn.jsdelivr.net/npm/leaflet%401.6.0/dist/leaflet.css%22/%3E%0A%20%20%20%20%3Clink%20rel%3D%22stylesheet%22%20href%3D%22https%3A//maxcdn.bootstrapcdn.com/bootstrap/3.2.0/css/bootstrap.min.css%22/%3E%0A%20%20%20%20%3Clink%20rel%3D%22stylesheet%22%20href%3D%22https%3A//maxcdn.bootstrapcdn.com/bootstrap/3.2.0/css/bootstrap-theme.min.css%22/%3E%0A%20%20%20%20%3Clink%20rel%3D%22stylesheet%22%20href%3D%22https%3A//maxcdn.bootstrapcdn.com/font-awesome/4.6.3/css/font-awesome.min.css%22/%3E%0A%20%20%20%20%3Clink%20rel%3D%22stylesheet%22%20href%3D%22https%3A//cdnjs.cloudflare.com/ajax/libs/Leaflet.awesome-markers/2.0.2/leaflet.awesome-markers.css%22/%3E%0A%20%20%20%20%3Clink%20rel%3D%22stylesheet%22%20href%3D%22https%3A//cdn.jsdelivr.net/gh/python-visualization/folium/folium/templates/leaflet.awesome.rotate.min.css%22/%3E%0A%20%20%20%20%0A%20%20%20%20%20%20%20%20%20%20%20%20%3Cmeta%20name%3D%22viewport%22%20content%3D%22width%3Ddevice-width%2C%0A%20%20%20%20%20%20%20%20%20%20%20%20%20%20%20%20initial-scale%3D1.0%2C%20maximum-scale%3D1.0%2C%20user-scalable%3Dno%22%20/%3E%0A%20%20%20%20%20%20%20%20%20%20%20%20%3Cstyle%3E%0A%20%20%20%20%20%20%20%20%20%20%20%20%20%20%20%20%23map_50ecf52281e6432b98a5d64fbe572664%20%7B%0A%20%20%20%20%20%20%20%20%20%20%20%20%20%20%20%20%20%20%20%20position%3A%20relative%3B%0A%20%20%20%20%20%20%20%20%20%20%20%20%20%20%20%20%20%20%20%20width%3A%20100.0%25%3B%0A%20%20%20%20%20%20%20%20%20%20%20%20%20%20%20%20%20%20%20%20height%3A%20100.0%25%3B%0A%20%20%20%20%20%20%20%20%20%20%20%20%20%20%20%20%20%20%20%20left%3A%200.0%25%3B%0A%20%20%20%20%20%20%20%20%20%20%20%20%20%20%20%20%20%20%20%20top%3A%200.0%25%3B%0A%20%20%20%20%20%20%20%20%20%20%20%20%20%20%20%20%7D%0A%20%20%20%20%20%20%20%20%20%20%20%20%3C/style%3E%0A%20%20%20%20%20%20%20%20%0A%3C/head%3E%0A%3Cbody%3E%20%20%20%20%0A%20%20%20%20%0A%20%20%20%20%20%20%20%20%20%20%20%20%3Cdiv%20class%3D%22folium-map%22%20id%3D%22map_50ecf52281e6432b98a5d64fbe572664%22%20%3E%3C/div%3E%0A%20%20%20%20%20%20%20%20%0A%3C/body%3E%0A%3Cscript%3E%20%20%20%20%0A%20%20%20%20%0A%20%20%20%20%20%20%20%20%20%20%20%20var%20map_50ecf52281e6432b98a5d64fbe572664%20%3D%20L.map%28%0A%20%20%20%20%20%20%20%20%20%20%20%20%20%20%20%20%22map_50ecf52281e6432b98a5d64fbe572664%22%2C%0A%20%20%20%20%20%20%20%20%20%20%20%20%20%20%20%20%7B%0A%20%20%20%20%20%20%20%20%20%20%20%20%20%20%20%20%20%20%20%20center%3A%20%5B47.59789702474227%2C%20-122.31735261797544%5D%2C%0A%20%20%20%20%20%20%20%20%20%20%20%20%20%20%20%20%20%20%20%20crs%3A%20L.CRS.EPSG3857%2C%0A%20%20%20%20%20%20%20%20%20%20%20%20%20%20%20%20%20%20%20%20zoom%3A%2010%2C%0A%20%20%20%20%20%20%20%20%20%20%20%20%20%20%20%20%20%20%20%20zoomControl%3A%20true%2C%0A%20%20%20%20%20%20%20%20%20%20%20%20%20%20%20%20%20%20%20%20preferCanvas%3A%20false%2C%0A%20%20%20%20%20%20%20%20%20%20%20%20%20%20%20%20%7D%0A%20%20%20%20%20%20%20%20%20%20%20%20%29%3B%0A%0A%20%20%20%20%20%20%20%20%20%20%20%20%0A%0A%20%20%20%20%20%20%20%20%0A%20%20%20%20%0A%20%20%20%20%20%20%20%20%20%20%20%20var%20tile_layer_f0c9e8f72cf54eb093a98044f7ce739c%20%3D%20L.tileLayer%28%0A%20%20%20%20%20%20%20%20%20%20%20%20%20%20%20%20%22https%3A//stamen-tiles-%7Bs%7D.a.ssl.fastly.net/terrain/%7Bz%7D/%7Bx%7D/%7By%7D.jpg%22%2C%0A%20%20%20%20%20%20%20%20%20%20%20%20%20%20%20%20%7B%22attribution%22%3A%20%22Map%20tiles%20by%20%5Cu003ca%20href%3D%5C%22http%3A//stamen.com%5C%22%5Cu003eStamen%20Design%5Cu003c/a%5Cu003e%2C%20under%20%5Cu003ca%20href%3D%5C%22http%3A//creativecommons.org/licenses/by/3.0%5C%22%5Cu003eCC%20BY%203.0%5Cu003c/a%5Cu003e.%20Data%20by%20%5Cu0026copy%3B%20%5Cu003ca%20href%3D%5C%22http%3A//openstreetmap.org%5C%22%5Cu003eOpenStreetMap%5Cu003c/a%5Cu003e%2C%20under%20%5Cu003ca%20href%3D%5C%22http%3A//creativecommons.org/licenses/by-sa/3.0%5C%22%5Cu003eCC%20BY%20SA%5Cu003c/a%5Cu003e.%22%2C%20%22detectRetina%22%3A%20false%2C%20%22maxNativeZoom%22%3A%2018%2C%20%22maxZoom%22%3A%2018%2C%20%22minZoom%22%3A%200%2C%20%22noWrap%22%3A%20false%2C%20%22opacity%22%3A%201%2C%20%22subdomains%22%3A%20%22abc%22%2C%20%22tms%22%3A%20false%7D%0A%20%20%20%20%20%20%20%20%20%20%20%20%29.addTo%28map_50ecf52281e6432b98a5d64fbe572664%29%3B%0A%20%20%20%20%20%20%20%20%0A%20%20%20%20%0A%20%20%20%20%20%20%20%20%20%20%20%20var%20marker_5986a533d3104a3bb2143cf29b815f15%20%3D%20L.marker%28%0A%20%20%20%20%20%20%20%20%20%20%20%20%20%20%20%20%5B47.615345%2C%20-122.31591%5D%2C%0A%20%20%20%20%20%20%20%20%20%20%20%20%20%20%20%20%7B%7D%0A%20%20%20%20%20%20%20%20%20%20%20%20%29.addTo%28map_50ecf52281e6432b98a5d64fbe572664%29%3B%0A%20%20%20%20%20%20%20%20%0A%20%20%20%20%0A%20%20%20%20%20%20%20%20%20%20%20%20var%20icon_28acda84b8e94d9dbf435d28d692cd45%20%3D%20L.AwesomeMarkers.icon%28%0A%20%20%20%20%20%20%20%20%20%20%20%20%20%20%20%20%7B%22extraClasses%22%3A%20%22fa-rotate-0%22%2C%20%22icon%22%3A%20%22info-sign%22%2C%20%22iconColor%22%3A%20%22white%22%2C%20%22markerColor%22%3A%20%22blue%22%2C%20%22prefix%22%3A%20%22glyphicon%22%7D%0A%20%20%20%20%20%20%20%20%20%20%20%20%29%3B%0A%20%20%20%20%20%20%20%20%20%20%20%20marker_5986a533d3104a3bb2143cf29b815f15.setIcon%28icon_28acda84b8e94d9dbf435d28d692cd45%29%3B%0A%20%20%20%20%20%20%20%20%0A%20%20%20%20%0A%20%20%20%20%20%20%20%20var%20popup_f751f336b645429190e0fcf66dd17410%20%3D%20L.popup%28%7B%22maxWidth%22%3A%20%22100%25%22%7D%29%3B%0A%0A%20%20%20%20%20%20%20%20%0A%20%20%20%20%20%20%20%20%20%20%20%20var%20html_61d00d99534f4eef8e4b9b5e9af35c47%20%3D%20%24%28%60%3Cdiv%20id%3D%22html_61d00d99534f4eef8e4b9b5e9af35c47%22%20style%3D%22width%3A%20100.0%25%3B%20height%3A%20100.0%25%3B%22%3EName%3A%20E%20Pine%20St%20%26%2013th%20Ave%3Cbr%3E%3C/div%3E%60%29%5B0%5D%3B%0A%20%20%20%20%20%20%20%20%20%20%20%20popup_f751f336b645429190e0fcf66dd17410.setContent%28html_61d00d99534f4eef8e4b9b5e9af35c47%29%3B%0A%20%20%20%20%20%20%20%20%0A%0A%20%20%20%20%20%20%20%20marker_5986a533d3104a3bb2143cf29b815f15.bindPopup%28popup_f751f336b645429190e0fcf66dd17410%29%0A%20%20%20%20%20%20%20%20%3B%0A%0A%20%20%20%20%20%20%20%20%0A%20%20%20%20%0A%20%20%20%20%0A%20%20%20%20%20%20%20%20%20%20%20%20var%20marker_5865994b38b44f13904c643354aee798%20%3D%20L.marker%28%0A%20%20%20%20%20%20%20%20%20%20%20%20%20%20%20%20%5B47.610073%2C%20-122.336838%5D%2C%0A%20%20%20%20%20%20%20%20%20%20%20%20%20%20%20%20%7B%7D%0A%20%20%20%20%20%20%20%20%20%20%20%20%29.addTo%28map_50ecf52281e6432b98a5d64fbe572664%29%3B%0A%20%20%20%20%20%20%20%20%0A%20%20%20%20%0A%20%20%20%20%20%20%20%20%20%20%20%20var%20icon_15b39178d1fc43a7b9d7a4d762724576%20%3D%20L.AwesomeMarkers.icon%28%0A%20%20%20%20%20%20%20%20%20%20%20%20%20%20%20%20%7B%22extraClasses%22%3A%20%22fa-rotate-0%22%2C%20%22icon%22%3A%20%22info-sign%22%2C%20%22iconColor%22%3A%20%22white%22%2C%20%22markerColor%22%3A%20%22blue%22%2C%20%22prefix%22%3A%20%22glyphicon%22%7D%0A%20%20%20%20%20%20%20%20%20%20%20%20%29%3B%0A%20%20%20%20%20%20%20%20%20%20%20%20marker_5865994b38b44f13904c643354aee798.setIcon%28icon_15b39178d1fc43a7b9d7a4d762724576%29%3B%0A%20%20%20%20%20%20%20%20%0A%20%20%20%20%0A%20%20%20%20%20%20%20%20var%20popup_7729aab89b6d494d8a598f99627e107c%20%3D%20L.popup%28%7B%22maxWidth%22%3A%20%22100%25%22%7D%29%3B%0A%0A%20%20%20%20%20%20%20%20%0A%20%20%20%20%20%20%20%20%20%20%20%20var%20html_5b64225c7c1b474bb5dcf35930f01cc3%20%3D%20%24%28%60%3Cdiv%20id%3D%22html_5b64225c7c1b474bb5dcf35930f01cc3%22%20style%3D%22width%3A%20100.0%25%3B%20height%3A%20100.0%25%3B%22%3EName%3A%20Pike%20St%20%26%204th%20Ave%3Cbr%3E%3C/div%3E%60%29%5B0%5D%3B%0A%20%20%20%20%20%20%20%20%20%20%20%20popup_7729aab89b6d494d8a598f99627e107c.setContent%28html_5b64225c7c1b474bb5dcf35930f01cc3%29%3B%0A%20%20%20%20%20%20%20%20%0A%0A%20%20%20%20%20%20%20%20marker_5865994b38b44f13904c643354aee798.bindPopup%28popup_7729aab89b6d494d8a598f99627e107c%29%0A%20%20%20%20%20%20%20%20%3B%0A%0A%20%20%20%20%20%20%20%20%0A%20%20%20%20%0A%20%20%20%20%0A%20%20%20%20%20%20%20%20%20%20%20%20var%20marker_d62f3633f73c47ad8bfd1d6c0fef1ffa%20%3D%20L.marker%28%0A%20%20%20%20%20%20%20%20%20%20%20%20%20%20%20%20%5B47.604935%2C%20-122.324089%5D%2C%0A%20%20%20%20%20%20%20%20%20%20%20%20%20%20%20%20%7B%7D%0A%20%20%20%20%20%20%20%20%20%20%20%20%29.addTo%28map_50ecf52281e6432b98a5d64fbe572664%29%3B%0A%20%20%20%20%20%20%20%20%0A%20%20%20%20%0A%20%20%20%20%20%20%20%20%20%20%20%20var%20icon_062b8326760b4a86be4fcb29537fb1e1%20%3D%20L.AwesomeMarkers.icon%28%0A%20%20%20%20%20%20%20%20%20%20%20%20%20%20%20%20%7B%22extraClasses%22%3A%20%22fa-rotate-0%22%2C%20%22icon%22%3A%20%22info-sign%22%2C%20%22iconColor%22%3A%20%22white%22%2C%20%22markerColor%22%3A%20%22blue%22%2C%20%22prefix%22%3A%20%22glyphicon%22%7D%0A%20%20%20%20%20%20%20%20%20%20%20%20%29%3B%0A%20%20%20%20%20%20%20%20%20%20%20%20marker_d62f3633f73c47ad8bfd1d6c0fef1ffa.setIcon%28icon_062b8326760b4a86be4fcb29537fb1e1%29%3B%0A%20%20%20%20%20%20%20%20%0A%20%20%20%20%0A%20%20%20%20%20%20%20%20var%20popup_430752f3caee4a4d90cad4ee19e334fc%20%3D%20L.popup%28%7B%22maxWidth%22%3A%20%22100%25%22%7D%29%3B%0A%0A%20%20%20%20%20%20%20%20%0A%20%20%20%20%20%20%20%20%20%20%20%20var%20html_4ab39fa54ab0488892ecae881b3e8bd4%20%3D%20%24%28%60%3Cdiv%20id%3D%22html_4ab39fa54ab0488892ecae881b3e8bd4%22%20style%3D%22width%3A%20100.0%25%3B%20height%3A%20100.0%25%3B%22%3EName%3A%20Jefferson%20St%20%26%209th%20Ave%3Cbr%3E%3C/div%3E%60%29%5B0%5D%3B%0A%20%20%20%20%20%20%20%20%20%20%20%20popup_430752f3caee4a4d90cad4ee19e334fc.setContent%28html_4ab39fa54ab0488892ecae881b3e8bd4%29%3B%0A%20%20%20%20%20%20%20%20%0A%0A%20%20%20%20%20%20%20%20marker_d62f3633f73c47ad8bfd1d6c0fef1ffa.bindPopup%28popup_430752f3caee4a4d90cad4ee19e334fc%29%0A%20%20%20%20%20%20%20%20%3B%0A%0A%20%20%20%20%20%20%20%20%0A%20%20%20%20%0A%20%20%20%20%0A%20%20%20%20%20%20%20%20%20%20%20%20var%20marker_79094a6dcc0f456397d312bd9954e210%20%3D%20L.marker%28%0A%20%20%20%20%20%20%20%20%20%20%20%20%20%20%20%20%5B47.578995%2C%20-122.410797%5D%2C%0A%20%20%20%20%20%20%20%20%20%20%20%20%20%20%20%20%7B%7D%0A%20%20%20%20%20%20%20%20%20%20%20%20%29.addTo%28map_50ecf52281e6432b98a5d64fbe572664%29%3B%0A%20%20%20%20%20%20%20%20%0A%20%20%20%20%0A%20%20%20%20%20%20%20%20%20%20%20%20var%20icon_8f690b04e3b44e0fbf28b11342a9ed6a%20%3D%20L.AwesomeMarkers.icon%28%0A%20%20%20%20%20%20%20%20%20%20%20%20%20%20%20%20%7B%22extraClasses%22%3A%20%22fa-rotate-0%22%2C%20%22icon%22%3A%20%22info-sign%22%2C%20%22iconColor%22%3A%20%22white%22%2C%20%22markerColor%22%3A%20%22blue%22%2C%20%22prefix%22%3A%20%22glyphicon%22%7D%0A%20%20%20%20%20%20%20%20%20%20%20%20%29%3B%0A%20%20%20%20%20%20%20%20%20%20%20%20marker_79094a6dcc0f456397d312bd9954e210.setIcon%28icon_8f690b04e3b44e0fbf28b11342a9ed6a%29%3B%0A%20%20%20%20%20%20%20%20%0A%20%20%20%20%0A%20%20%20%20%20%20%20%20var%20popup_ff1db95b2a7946c2b96ffa2b8ee152b1%20%3D%20L.popup%28%7B%22maxWidth%22%3A%20%22100%25%22%7D%29%3B%0A%0A%20%20%20%20%20%20%20%20%0A%20%20%20%20%20%20%20%20%20%20%20%20var%20html_1509d0cb479e4281ba9a853b2ad0a5fa%20%3D%20%24%28%60%3Cdiv%20id%3D%22html_1509d0cb479e4281ba9a853b2ad0a5fa%22%20style%3D%22width%3A%20100.0%25%3B%20height%3A%20100.0%25%3B%22%3EName%3A%20Alki%20Ave%20SW%20%26%2061st%20Ave%20SW%3Cbr%3E%3C/div%3E%60%29%5B0%5D%3B%0A%20%20%20%20%20%20%20%20%20%20%20%20popup_ff1db95b2a7946c2b96ffa2b8ee152b1.setContent%28html_1509d0cb479e4281ba9a853b2ad0a5fa%29%3B%0A%20%20%20%20%20%20%20%20%0A%0A%20%20%20%20%20%20%20%20marker_79094a6dcc0f456397d312bd9954e210.bindPopup%28popup_ff1db95b2a7946c2b96ffa2b8ee152b1%29%0A%20%20%20%20%20%20%20%20%3B%0A%0A%20%20%20%20%20%20%20%20%0A%20%20%20%20%0A%20%20%20%20%0A%20%20%20%20%20%20%20%20%20%20%20%20var%20marker_271ee68e72ba471bb5526d4c335f1a6d%20%3D%20L.marker%28%0A%20%20%20%20%20%20%20%20%20%20%20%20%20%20%20%20%5B47.602932%2C%20-122.330826%5D%2C%0A%20%20%20%20%20%20%20%20%20%20%20%20%20%20%20%20%7B%7D%0A%20%20%20%20%20%20%20%20%20%20%20%20%29.addTo%28map_50ecf52281e6432b98a5d64fbe572664%29%3B%0A%20%20%20%20%20%20%20%20%0A%20%20%20%20%0A%20%20%20%20%20%20%20%20%20%20%20%20var%20icon_49992b09b76b42b49352bd7cb91279a1%20%3D%20L.AwesomeMarkers.icon%28%0A%20%20%20%20%20%20%20%20%20%20%20%20%20%20%20%20%7B%22extraClasses%22%3A%20%22fa-rotate-0%22%2C%20%22icon%22%3A%20%22info-sign%22%2C%20%22iconColor%22%3A%20%22white%22%2C%20%22markerColor%22%3A%20%22blue%22%2C%20%22prefix%22%3A%20%22glyphicon%22%7D%0A%20%20%20%20%20%20%20%20%20%20%20%20%29%3B%0A%20%20%20%20%20%20%20%20%20%20%20%20marker_271ee68e72ba471bb5526d4c335f1a6d.setIcon%28icon_49992b09b76b42b49352bd7cb91279a1%29%3B%0A%20%20%20%20%20%20%20%20%0A%20%20%20%20%0A%20%20%20%20%20%20%20%20var%20popup_87772e79c0f649c1be6552b46610362b%20%3D%20L.popup%28%7B%22maxWidth%22%3A%20%22100%25%22%7D%29%3B%0A%0A%20%20%20%20%20%20%20%20%0A%20%20%20%20%20%20%20%20%20%20%20%20var%20html_07ca0498bb934a85810decd9a84e109d%20%3D%20%24%28%60%3Cdiv%20id%3D%22html_07ca0498bb934a85810decd9a84e109d%22%20style%3D%22width%3A%20100.0%25%3B%20height%3A%20100.0%25%3B%22%3EName%3A%20James%20St%20%26%203rd%20Ave%3Cbr%3E%3C/div%3E%60%29%5B0%5D%3B%0A%20%20%20%20%20%20%20%20%20%20%20%20popup_87772e79c0f649c1be6552b46610362b.setContent%28html_07ca0498bb934a85810decd9a84e109d%29%3B%0A%20%20%20%20%20%20%20%20%0A%0A%20%20%20%20%20%20%20%20marker_271ee68e72ba471bb5526d4c335f1a6d.bindPopup%28popup_87772e79c0f649c1be6552b46610362b%29%0A%20%20%20%20%20%20%20%20%3B%0A%0A%20%20%20%20%20%20%20%20%0A%20%20%20%20%0A%20%20%20%20%0A%20%20%20%20%20%20%20%20%20%20%20%20var%20marker_a8710f506d674a6cb86c284ac50921a3%20%3D%20L.marker%28%0A%20%20%20%20%20%20%20%20%20%20%20%20%20%20%20%20%5B47.561207%2C%20-122.387955%5D%2C%0A%20%20%20%20%20%20%20%20%20%20%20%20%20%20%20%20%7B%7D%0A%20%20%20%20%20%20%20%20%20%20%20%20%29.addTo%28map_50ecf52281e6432b98a5d64fbe572664%29%3B%0A%20%20%20%20%20%20%20%20%0A%20%20%20%20%0A%20%20%20%20%20%20%20%20%20%20%20%20var%20icon_042e444f50214ac6bfb0b3beb12d2352%20%3D%20L.AwesomeMarkers.icon%28%0A%20%20%20%20%20%20%20%20%20%20%20%20%20%20%20%20%7B%22extraClasses%22%3A%20%22fa-rotate-0%22%2C%20%22icon%22%3A%20%22info-sign%22%2C%20%22iconColor%22%3A%20%22white%22%2C%20%22markerColor%22%3A%20%22blue%22%2C%20%22prefix%22%3A%20%22glyphicon%22%7D%0A%20%20%20%20%20%20%20%20%20%20%20%20%29%3B%0A%20%20%20%20%20%20%20%20%20%20%20%20marker_a8710f506d674a6cb86c284ac50921a3.setIcon%28icon_042e444f50214ac6bfb0b3beb12d2352%29%3B%0A%20%20%20%20%20%20%20%20%0A%20%20%20%20%0A%20%20%20%20%20%20%20%20var%20popup_69f23ab912ed4d6db2bd5760b0dd6591%20%3D%20L.popup%28%7B%22maxWidth%22%3A%20%22100%25%22%7D%29%3B%0A%0A%20%20%20%20%20%20%20%20%0A%20%20%20%20%20%20%20%20%20%20%20%20var%20html_90d5d8f5f2c44d15ac9f72cb1425f527%20%3D%20%24%28%60%3Cdiv%20id%3D%22html_90d5d8f5f2c44d15ac9f72cb1425f527%22%20style%3D%22width%3A%20100.0%25%3B%20height%3A%20100.0%25%3B%22%3EName%3A%20SW%20Alaska%20St%20%26%2044th%20Ave%20SW%20-%20Bay%204%3Cbr%3E%3C/div%3E%60%29%5B0%5D%3B%0A%20%20%20%20%20%20%20%20%20%20%20%20popup_69f23ab912ed4d6db2bd5760b0dd6591.setContent%28html_90d5d8f5f2c44d15ac9f72cb1425f527%29%3B%0A%20%20%20%20%20%20%20%20%0A%0A%20%20%20%20%20%20%20%20marker_a8710f506d674a6cb86c284ac50921a3.bindPopup%28popup_69f23ab912ed4d6db2bd5760b0dd6591%29%0A%20%20%20%20%20%20%20%20%3B%0A%0A%20%20%20%20%20%20%20%20%0A%20%20%20%20%0A%20%20%20%20%0A%20%20%20%20%20%20%20%20%20%20%20%20var%20marker_72ddbdc9da7b486193fbefdba68fcdc7%20%3D%20L.marker%28%0A%20%20%20%20%20%20%20%20%20%20%20%20%20%20%20%20%5B47.544617%2C%20-122.376167%5D%2C%0A%20%20%20%20%20%20%20%20%20%20%20%20%20%20%20%20%7B%7D%0A%20%20%20%20%20%20%20%20%20%20%20%20%29.addTo%28map_50ecf52281e6432b98a5d64fbe572664%29%3B%0A%20%20%20%20%20%20%20%20%0A%20%20%20%20%0A%20%20%20%20%20%20%20%20%20%20%20%20var%20icon_1571ff9be7764a4090f09ad691c7b16a%20%3D%20L.AwesomeMarkers.icon%28%0A%20%20%20%20%20%20%20%20%20%20%20%20%20%20%20%20%7B%22extraClasses%22%3A%20%22fa-rotate-0%22%2C%20%22icon%22%3A%20%22info-sign%22%2C%20%22iconColor%22%3A%20%22white%22%2C%20%22markerColor%22%3A%20%22blue%22%2C%20%22prefix%22%3A%20%22glyphicon%22%7D%0A%20%20%20%20%20%20%20%20%20%20%20%20%29%3B%0A%20%20%20%20%20%20%20%20%20%20%20%20marker_72ddbdc9da7b486193fbefdba68fcdc7.setIcon%28icon_1571ff9be7764a4090f09ad691c7b16a%29%3B%0A%20%20%20%20%20%20%20%20%0A%20%20%20%20%0A%20%20%20%20%20%20%20%20var%20popup_93d74aeb740a4c85a7dd7ed18f7f6121%20%3D%20L.popup%28%7B%22maxWidth%22%3A%20%22100%25%22%7D%29%3B%0A%0A%20%20%20%20%20%20%20%20%0A%20%20%20%20%20%20%20%20%20%20%20%20var%20html_fb27cab0211a4c76aad694f1ab026bd1%20%3D%20%24%28%60%3Cdiv%20id%3D%22html_fb27cab0211a4c76aad694f1ab026bd1%22%20style%3D%22width%3A%20100.0%25%3B%20height%3A%20100.0%25%3B%22%3EName%3A%20SW%20Morgan%20St%20%26%2035th%20Ave%20SW%3Cbr%3E%3C/div%3E%60%29%5B0%5D%3B%0A%20%20%20%20%20%20%20%20%20%20%20%20popup_93d74aeb740a4c85a7dd7ed18f7f6121.setContent%28html_fb27cab0211a4c76aad694f1ab026bd1%29%3B%0A%20%20%20%20%20%20%20%20%0A%0A%20%20%20%20%20%20%20%20marker_72ddbdc9da7b486193fbefdba68fcdc7.bindPopup%28popup_93d74aeb740a4c85a7dd7ed18f7f6121%29%0A%20%20%20%20%20%20%20%20%3B%0A%0A%20%20%20%20%20%20%20%20%0A%20%20%20%20%0A%20%20%20%20%0A%20%20%20%20%20%20%20%20%20%20%20%20var%20marker_33acc03b553b47baaa4386c95804977a%20%3D%20L.marker%28%0A%20%20%20%20%20%20%20%20%20%20%20%20%20%20%20%20%5B47.383881%2C%20-122.232483%5D%2C%0A%20%20%20%20%20%20%20%20%20%20%20%20%20%20%20%20%7B%7D%0A%20%20%20%20%20%20%20%20%20%20%20%20%29.addTo%28map_50ecf52281e6432b98a5d64fbe572664%29%3B%0A%20%20%20%20%20%20%20%20%0A%20%20%20%20%0A%20%20%20%20%20%20%20%20%20%20%20%20var%20icon_470e3bd8f7934b75b79ae2e47b55ca73%20%3D%20L.AwesomeMarkers.icon%28%0A%20%20%20%20%20%20%20%20%20%20%20%20%20%20%20%20%7B%22extraClasses%22%3A%20%22fa-rotate-0%22%2C%20%22icon%22%3A%20%22info-sign%22%2C%20%22iconColor%22%3A%20%22white%22%2C%20%22markerColor%22%3A%20%22blue%22%2C%20%22prefix%22%3A%20%22glyphicon%22%7D%0A%20%20%20%20%20%20%20%20%20%20%20%20%29%3B%0A%20%20%20%20%20%20%20%20%20%20%20%20marker_33acc03b553b47baaa4386c95804977a.setIcon%28icon_470e3bd8f7934b75b79ae2e47b55ca73%29%3B%0A%20%20%20%20%20%20%20%20%0A%20%20%20%20%0A%20%20%20%20%20%20%20%20var%20popup_48958ac497814053aaaaed0957ec85d1%20%3D%20L.popup%28%7B%22maxWidth%22%3A%20%22100%25%22%7D%29%3B%0A%0A%20%20%20%20%20%20%20%20%0A%20%20%20%20%20%20%20%20%20%20%20%20var%20html_d14bdc93db224a349602dc1e040d8f75%20%3D%20%24%28%60%3Cdiv%20id%3D%22html_d14bdc93db224a349602dc1e040d8f75%22%20style%3D%22width%3A%20100.0%25%3B%20height%3A%20100.0%25%3B%22%3EName%3A%20Kent%20Sounder%20Station%20-%20Bay%208%3Cbr%3E%3C/div%3E%60%29%5B0%5D%3B%0A%20%20%20%20%20%20%20%20%20%20%20%20popup_48958ac497814053aaaaed0957ec85d1.setContent%28html_d14bdc93db224a349602dc1e040d8f75%29%3B%0A%20%20%20%20%20%20%20%20%0A%0A%20%20%20%20%20%20%20%20marker_33acc03b553b47baaa4386c95804977a.bindPopup%28popup_48958ac497814053aaaaed0957ec85d1%29%0A%20%20%20%20%20%20%20%20%3B%0A%0A%20%20%20%20%20%20%20%20%0A%20%20%20%20%0A%20%20%20%20%0A%20%20%20%20%20%20%20%20%20%20%20%20var%20marker_a5f54c81f13246a69567b3c86c27c27e%20%3D%20L.marker%28%0A%20%20%20%20%20%20%20%20%20%20%20%20%20%20%20%20%5B47.610485%2C%20-122.338356%5D%2C%0A%20%20%20%20%20%20%20%20%20%20%20%20%20%20%20%20%7B%7D%0A%20%20%20%20%20%20%20%20%20%20%20%20%29.addTo%28map_50ecf52281e6432b98a5d64fbe572664%29%3B%0A%20%20%20%20%20%20%20%20%0A%20%20%20%20%0A%20%20%20%20%20%20%20%20%20%20%20%20var%20icon_1048bb543ed144569628b41fd78cac9c%20%3D%20L.AwesomeMarkers.icon%28%0A%20%20%20%20%20%20%20%20%20%20%20%20%20%20%20%20%7B%22extraClasses%22%3A%20%22fa-rotate-0%22%2C%20%22icon%22%3A%20%22info-sign%22%2C%20%22iconColor%22%3A%20%22white%22%2C%20%22markerColor%22%3A%20%22blue%22%2C%20%22prefix%22%3A%20%22glyphicon%22%7D%0A%20%20%20%20%20%20%20%20%20%20%20%20%29%3B%0A%20%20%20%20%20%20%20%20%20%20%20%20marker_a5f54c81f13246a69567b3c86c27c27e.setIcon%28icon_1048bb543ed144569628b41fd78cac9c%29%3B%0A%20%20%20%20%20%20%20%20%0A%20%20%20%20%0A%20%20%20%20%20%20%20%20var%20popup_ede0c60cad6f4e6f87697fc14be5d58b%20%3D%20L.popup%28%7B%22maxWidth%22%3A%20%22100%25%22%7D%29%3B%0A%0A%20%20%20%20%20%20%20%20%0A%20%20%20%20%20%20%20%20%20%20%20%20var%20html_4b24fc011dde43dfbc894581b0af7790%20%3D%20%24%28%60%3Cdiv%20id%3D%22html_4b24fc011dde43dfbc894581b0af7790%22%20style%3D%22width%3A%20100.0%25%3B%20height%3A%20100.0%25%3B%22%3EName%3A%203rd%20Ave%20%26%20Pike%20St%3Cbr%3E%3C/div%3E%60%29%5B0%5D%3B%0A%20%20%20%20%20%20%20%20%20%20%20%20popup_ede0c60cad6f4e6f87697fc14be5d58b.setContent%28html_4b24fc011dde43dfbc894581b0af7790%29%3B%0A%20%20%20%20%20%20%20%20%0A%0A%20%20%20%20%20%20%20%20marker_a5f54c81f13246a69567b3c86c27c27e.bindPopup%28popup_ede0c60cad6f4e6f87697fc14be5d58b%29%0A%20%20%20%20%20%20%20%20%3B%0A%0A%20%20%20%20%20%20%20%20%0A%20%20%20%20%0A%20%20%20%20%0A%20%20%20%20%20%20%20%20%20%20%20%20var%20marker_ea55e8a0bf134b24971974bde560dcdf%20%3D%20L.marker%28%0A%20%20%20%20%20%20%20%20%20%20%20%20%20%20%20%20%5B47.763172%2C%20-122.34491%5D%2C%0A%20%20%20%20%20%20%20%20%20%20%20%20%20%20%20%20%7B%7D%0A%20%20%20%20%20%20%20%20%20%20%20%20%29.addTo%28map_50ecf52281e6432b98a5d64fbe572664%29%3B%0A%20%20%20%20%20%20%20%20%0A%20%20%20%20%0A%20%20%20%20%20%20%20%20%20%20%20%20var%20icon_fae3350f42fb42a599264fae0b867922%20%3D%20L.AwesomeMarkers.icon%28%0A%20%20%20%20%20%20%20%20%20%20%20%20%20%20%20%20%7B%22extraClasses%22%3A%20%22fa-rotate-0%22%2C%20%22icon%22%3A%20%22info-sign%22%2C%20%22iconColor%22%3A%20%22white%22%2C%20%22markerColor%22%3A%20%22blue%22%2C%20%22prefix%22%3A%20%22glyphicon%22%7D%0A%20%20%20%20%20%20%20%20%20%20%20%20%29%3B%0A%20%20%20%20%20%20%20%20%20%20%20%20marker_ea55e8a0bf134b24971974bde560dcdf.setIcon%28icon_fae3350f42fb42a599264fae0b867922%29%3B%0A%20%20%20%20%20%20%20%20%0A%20%20%20%20%0A%20%20%20%20%20%20%20%20var%20popup_a8cc1e8ada394fb3a2771c11d41298c8%20%3D%20L.popup%28%7B%22maxWidth%22%3A%20%22100%25%22%7D%29%3B%0A%0A%20%20%20%20%20%20%20%20%0A%20%20%20%20%20%20%20%20%20%20%20%20var%20html_b1e9cea7144f4e078c7d8edf06c93035%20%3D%20%24%28%60%3Cdiv%20id%3D%22html_b1e9cea7144f4e078c7d8edf06c93035%22%20style%3D%22width%3A%20100.0%25%3B%20height%3A%20100.0%25%3B%22%3EName%3A%20N%20185th%20St%20%26%20Aurora%20Ave%20N%3Cbr%3E%3C/div%3E%60%29%5B0%5D%3B%0A%20%20%20%20%20%20%20%20%20%20%20%20popup_a8cc1e8ada394fb3a2771c11d41298c8.setContent%28html_b1e9cea7144f4e078c7d8edf06c93035%29%3B%0A%20%20%20%20%20%20%20%20%0A%0A%20%20%20%20%20%20%20%20marker_ea55e8a0bf134b24971974bde560dcdf.bindPopup%28popup_a8cc1e8ada394fb3a2771c11d41298c8%29%0A%20%20%20%20%20%20%20%20%3B%0A%0A%20%20%20%20%20%20%20%20%0A%20%20%20%20%0A%3C/script%3E onload=\"this.contentDocument.open();this.contentDocument.write(    decodeURIComponent(this.getAttribute('data-html')));this.contentDocument.close();\" allowfullscreen webkitallowfullscreen mozallowfullscreen></iframe></div></div>"
      ],
      "text/plain": [
       "<folium.folium.Map at 0x7fd020d3b100>"
      ]
     },
     "execution_count": 122,
     "metadata": {},
     "output_type": "execute_result"
    }
   ],
   "source": [
    "mapping"
   ]
  },
  {
   "cell_type": "markdown",
   "id": "eabd1454",
   "metadata": {},
   "source": [
    "Repeating the same process for evening rush hours for the first date"
   ]
  },
  {
   "cell_type": "code",
   "execution_count": 123,
   "id": "4b4e7624",
   "metadata": {},
   "outputs": [],
   "source": [
    "df_e_rush=df[(df['ACTUAL_DEPARTURE_SECS_AFTER_MIDNT']>e_start) & (df['ACTUAL_DEPARTURE_SECS_AFTER_MIDNT']<e_end)]"
   ]
  },
  {
   "cell_type": "code",
   "execution_count": 124,
   "id": "8a5dde54",
   "metadata": {},
   "outputs": [],
   "source": [
    "top_evening=df_e_rush.loc[(df_e_rush['OPERATION_DATE'] == '2020-09-01')].groupby('STOP_ID').agg({'PSNGR_ACTIVITY':'mean','STOP_NM':'first'}).nlargest(10,'PSNGR_ACTIVITY')"
   ]
  },
  {
   "cell_type": "code",
   "execution_count": 125,
   "id": "900fe838",
   "metadata": {},
   "outputs": [
    {
     "data": {
      "text/html": [
       "<div>\n",
       "<style scoped>\n",
       "    .dataframe tbody tr th:only-of-type {\n",
       "        vertical-align: middle;\n",
       "    }\n",
       "\n",
       "    .dataframe tbody tr th {\n",
       "        vertical-align: top;\n",
       "    }\n",
       "\n",
       "    .dataframe thead th {\n",
       "        text-align: right;\n",
       "    }\n",
       "</style>\n",
       "<table border=\"1\" class=\"dataframe\">\n",
       "  <thead>\n",
       "    <tr style=\"text-align: right;\">\n",
       "      <th></th>\n",
       "      <th>stop_id</th>\n",
       "      <th>stop_name</th>\n",
       "      <th>stop_lat</th>\n",
       "      <th>stop_lon</th>\n",
       "      <th>stop_code</th>\n",
       "      <th>zone_id</th>\n",
       "      <th>stop_timezone</th>\n",
       "      <th>geometry</th>\n",
       "      <th>PSNGR_ACTIVITY</th>\n",
       "      <th>STOP_NM</th>\n",
       "    </tr>\n",
       "  </thead>\n",
       "  <tbody>\n",
       "    <tr>\n",
       "      <th>0</th>\n",
       "      <td>12880</td>\n",
       "      <td>Jefferson St &amp; 9th Ave</td>\n",
       "      <td>47.604935</td>\n",
       "      <td>-122.324089</td>\n",
       "      <td>12880.0</td>\n",
       "      <td>1.0</td>\n",
       "      <td>America/Los_Angeles</td>\n",
       "      <td>POINT (-122.32409 47.60493)</td>\n",
       "      <td>6.916667</td>\n",
       "      <td>JEFFERSON ST &amp; 9TH AVE</td>\n",
       "    </tr>\n",
       "    <tr>\n",
       "      <th>1</th>\n",
       "      <td>12910</td>\n",
       "      <td>9th Ave &amp; Jefferson St</td>\n",
       "      <td>47.604874</td>\n",
       "      <td>-122.324242</td>\n",
       "      <td>12910.0</td>\n",
       "      <td>1.0</td>\n",
       "      <td>America/Los_Angeles</td>\n",
       "      <td>POINT (-122.32424 47.60487)</td>\n",
       "      <td>6.142857</td>\n",
       "      <td>9TH AVE &amp; JEFFERSON ST</td>\n",
       "    </tr>\n",
       "    <tr>\n",
       "      <th>2</th>\n",
       "      <td>1560</td>\n",
       "      <td>James St &amp; 3rd Ave</td>\n",
       "      <td>47.602932</td>\n",
       "      <td>-122.330826</td>\n",
       "      <td>1560.0</td>\n",
       "      <td>21.0</td>\n",
       "      <td>America/Los_Angeles</td>\n",
       "      <td>POINT (-122.33083 47.60293)</td>\n",
       "      <td>7.600000</td>\n",
       "      <td>JAMES ST &amp; 3RD AVE</td>\n",
       "    </tr>\n",
       "    <tr>\n",
       "      <th>3</th>\n",
       "      <td>16106</td>\n",
       "      <td>Aurora Village Transit Center - Bay 6</td>\n",
       "      <td>47.774395</td>\n",
       "      <td>-122.341034</td>\n",
       "      <td>16106.0</td>\n",
       "      <td>18.0</td>\n",
       "      <td>America/Los_Angeles</td>\n",
       "      <td>POINT (-122.34103 47.77439)</td>\n",
       "      <td>8.000000</td>\n",
       "      <td>AURORA VILLAGE TRANSIT CENTER BAY #6</td>\n",
       "    </tr>\n",
       "    <tr>\n",
       "      <th>4</th>\n",
       "      <td>46818</td>\n",
       "      <td>SW 256th St &amp; 75th Ave SW</td>\n",
       "      <td>47.374584</td>\n",
       "      <td>-122.427757</td>\n",
       "      <td>46818.0</td>\n",
       "      <td>39.0</td>\n",
       "      <td>America/Los_Angeles</td>\n",
       "      <td>POINT (-122.42776 47.37458)</td>\n",
       "      <td>9.000000</td>\n",
       "      <td>SW 256TH ST &amp; 75TH AVE SW</td>\n",
       "    </tr>\n",
       "    <tr>\n",
       "      <th>5</th>\n",
       "      <td>57459</td>\n",
       "      <td>Kent Sounder Station - Bay 9</td>\n",
       "      <td>47.383431</td>\n",
       "      <td>-122.232483</td>\n",
       "      <td>57459.0</td>\n",
       "      <td>24.0</td>\n",
       "      <td>America/Los_Angeles</td>\n",
       "      <td>POINT (-122.23248 47.38343)</td>\n",
       "      <td>7.090909</td>\n",
       "      <td>KENT SOUNDER STATION BAY #9</td>\n",
       "    </tr>\n",
       "    <tr>\n",
       "      <th>6</th>\n",
       "      <td>59310</td>\n",
       "      <td>Andover Park W &amp; Baker Blvd - Bay 2</td>\n",
       "      <td>47.457752</td>\n",
       "      <td>-122.254478</td>\n",
       "      <td>59310.0</td>\n",
       "      <td>24.0</td>\n",
       "      <td>America/Los_Angeles</td>\n",
       "      <td>POINT (-122.25448 47.45775)</td>\n",
       "      <td>7.500000</td>\n",
       "      <td>ANDOVER PARK W &amp; BAKER BLVD BAY #2</td>\n",
       "    </tr>\n",
       "    <tr>\n",
       "      <th>7</th>\n",
       "      <td>59316</td>\n",
       "      <td>Andover Park W &amp; Baker Blvd - Bay 4</td>\n",
       "      <td>47.459057</td>\n",
       "      <td>-122.254272</td>\n",
       "      <td>59316.0</td>\n",
       "      <td>24.0</td>\n",
       "      <td>America/Los_Angeles</td>\n",
       "      <td>POINT (-122.25427 47.45906)</td>\n",
       "      <td>5.750000</td>\n",
       "      <td>ANDOVER PARK W &amp; BAKER BLVD BAY #4</td>\n",
       "    </tr>\n",
       "    <tr>\n",
       "      <th>8</th>\n",
       "      <td>71339</td>\n",
       "      <td>156th Ave NE &amp; NE 40th St</td>\n",
       "      <td>47.645500</td>\n",
       "      <td>-122.132187</td>\n",
       "      <td>71339.0</td>\n",
       "      <td>19.0</td>\n",
       "      <td>America/Los_Angeles</td>\n",
       "      <td>POINT (-122.13219 47.64550)</td>\n",
       "      <td>6.500000</td>\n",
       "      <td>156TH AVE NE &amp; NE 40TH ST</td>\n",
       "    </tr>\n",
       "  </tbody>\n",
       "</table>\n",
       "</div>"
      ],
      "text/plain": [
       "   stop_id                              stop_name   stop_lat    stop_lon  \\\n",
       "0    12880                 Jefferson St & 9th Ave  47.604935 -122.324089   \n",
       "1    12910                 9th Ave & Jefferson St  47.604874 -122.324242   \n",
       "2     1560                     James St & 3rd Ave  47.602932 -122.330826   \n",
       "3    16106  Aurora Village Transit Center - Bay 6  47.774395 -122.341034   \n",
       "4    46818              SW 256th St & 75th Ave SW  47.374584 -122.427757   \n",
       "5    57459           Kent Sounder Station - Bay 9  47.383431 -122.232483   \n",
       "6    59310    Andover Park W & Baker Blvd - Bay 2  47.457752 -122.254478   \n",
       "7    59316    Andover Park W & Baker Blvd - Bay 4  47.459057 -122.254272   \n",
       "8    71339              156th Ave NE & NE 40th St  47.645500 -122.132187   \n",
       "\n",
       "   stop_code  zone_id        stop_timezone                     geometry  \\\n",
       "0    12880.0      1.0  America/Los_Angeles  POINT (-122.32409 47.60493)   \n",
       "1    12910.0      1.0  America/Los_Angeles  POINT (-122.32424 47.60487)   \n",
       "2     1560.0     21.0  America/Los_Angeles  POINT (-122.33083 47.60293)   \n",
       "3    16106.0     18.0  America/Los_Angeles  POINT (-122.34103 47.77439)   \n",
       "4    46818.0     39.0  America/Los_Angeles  POINT (-122.42776 47.37458)   \n",
       "5    57459.0     24.0  America/Los_Angeles  POINT (-122.23248 47.38343)   \n",
       "6    59310.0     24.0  America/Los_Angeles  POINT (-122.25448 47.45775)   \n",
       "7    59316.0     24.0  America/Los_Angeles  POINT (-122.25427 47.45906)   \n",
       "8    71339.0     19.0  America/Los_Angeles  POINT (-122.13219 47.64550)   \n",
       "\n",
       "   PSNGR_ACTIVITY                               STOP_NM  \n",
       "0        6.916667                JEFFERSON ST & 9TH AVE  \n",
       "1        6.142857                9TH AVE & JEFFERSON ST  \n",
       "2        7.600000                    JAMES ST & 3RD AVE  \n",
       "3        8.000000  AURORA VILLAGE TRANSIT CENTER BAY #6  \n",
       "4        9.000000             SW 256TH ST & 75TH AVE SW  \n",
       "5        7.090909           KENT SOUNDER STATION BAY #9  \n",
       "6        7.500000    ANDOVER PARK W & BAKER BLVD BAY #2  \n",
       "7        5.750000    ANDOVER PARK W & BAKER BLVD BAY #4  \n",
       "8        6.500000             156TH AVE NE & NE 40TH ST  "
      ]
     },
     "execution_count": 125,
     "metadata": {},
     "output_type": "execute_result"
    }
   ],
   "source": [
    "evening=geoloc.merge(top_evening, how='inner', right_on='STOP_ID',left_on=\"stop_id\")\n",
    "evening"
   ]
  },
  {
   "cell_type": "code",
   "execution_count": 126,
   "id": "b86966eb",
   "metadata": {},
   "outputs": [],
   "source": [
    "geo_df_list = [[point.xy[1][0], point.xy[0][0]] for point in evening.geometry ]\n",
    "mapping = folium.Map(location = [47.59789702474227, -122.31735261797544], tiles = \"OpenStreetMap\", zoom_start = 10)\n",
    "i=0\n",
    "for coordinates in geo_df_list[:10]:\n",
    "    mapping.add_child(folium.Marker(location = coordinates,popup =\n",
    "                            \"Name: \" + str(evening.stop_name[i]) + '<br>',\n",
    "                            icon = folium.Icon()))\n",
    "    i = i + 1"
   ]
  },
  {
   "cell_type": "code",
   "execution_count": 127,
   "id": "59af96b3",
   "metadata": {},
   "outputs": [
    {
     "data": {
      "text/html": [
       "<div style=\"width:100%;\"><div style=\"position:relative;width:100%;height:0;padding-bottom:60%;\"><span style=\"color:#565656\">Make this Notebook Trusted to load map: File -> Trust Notebook</span><iframe src=\"about:blank\" style=\"position:absolute;width:100%;height:100%;left:0;top:0;border:none !important;\" data-html=%3C%21DOCTYPE%20html%3E%0A%3Chead%3E%20%20%20%20%0A%20%20%20%20%3Cmeta%20http-equiv%3D%22content-type%22%20content%3D%22text/html%3B%20charset%3DUTF-8%22%20/%3E%0A%20%20%20%20%0A%20%20%20%20%20%20%20%20%3Cscript%3E%0A%20%20%20%20%20%20%20%20%20%20%20%20L_NO_TOUCH%20%3D%20false%3B%0A%20%20%20%20%20%20%20%20%20%20%20%20L_DISABLE_3D%20%3D%20false%3B%0A%20%20%20%20%20%20%20%20%3C/script%3E%0A%20%20%20%20%0A%20%20%20%20%3Cstyle%3Ehtml%2C%20body%20%7Bwidth%3A%20100%25%3Bheight%3A%20100%25%3Bmargin%3A%200%3Bpadding%3A%200%3B%7D%3C/style%3E%0A%20%20%20%20%3Cstyle%3E%23map%20%7Bposition%3Aabsolute%3Btop%3A0%3Bbottom%3A0%3Bright%3A0%3Bleft%3A0%3B%7D%3C/style%3E%0A%20%20%20%20%3Cscript%20src%3D%22https%3A//cdn.jsdelivr.net/npm/leaflet%401.6.0/dist/leaflet.js%22%3E%3C/script%3E%0A%20%20%20%20%3Cscript%20src%3D%22https%3A//code.jquery.com/jquery-1.12.4.min.js%22%3E%3C/script%3E%0A%20%20%20%20%3Cscript%20src%3D%22https%3A//maxcdn.bootstrapcdn.com/bootstrap/3.2.0/js/bootstrap.min.js%22%3E%3C/script%3E%0A%20%20%20%20%3Cscript%20src%3D%22https%3A//cdnjs.cloudflare.com/ajax/libs/Leaflet.awesome-markers/2.0.2/leaflet.awesome-markers.js%22%3E%3C/script%3E%0A%20%20%20%20%3Clink%20rel%3D%22stylesheet%22%20href%3D%22https%3A//cdn.jsdelivr.net/npm/leaflet%401.6.0/dist/leaflet.css%22/%3E%0A%20%20%20%20%3Clink%20rel%3D%22stylesheet%22%20href%3D%22https%3A//maxcdn.bootstrapcdn.com/bootstrap/3.2.0/css/bootstrap.min.css%22/%3E%0A%20%20%20%20%3Clink%20rel%3D%22stylesheet%22%20href%3D%22https%3A//maxcdn.bootstrapcdn.com/bootstrap/3.2.0/css/bootstrap-theme.min.css%22/%3E%0A%20%20%20%20%3Clink%20rel%3D%22stylesheet%22%20href%3D%22https%3A//maxcdn.bootstrapcdn.com/font-awesome/4.6.3/css/font-awesome.min.css%22/%3E%0A%20%20%20%20%3Clink%20rel%3D%22stylesheet%22%20href%3D%22https%3A//cdnjs.cloudflare.com/ajax/libs/Leaflet.awesome-markers/2.0.2/leaflet.awesome-markers.css%22/%3E%0A%20%20%20%20%3Clink%20rel%3D%22stylesheet%22%20href%3D%22https%3A//cdn.jsdelivr.net/gh/python-visualization/folium/folium/templates/leaflet.awesome.rotate.min.css%22/%3E%0A%20%20%20%20%0A%20%20%20%20%20%20%20%20%20%20%20%20%3Cmeta%20name%3D%22viewport%22%20content%3D%22width%3Ddevice-width%2C%0A%20%20%20%20%20%20%20%20%20%20%20%20%20%20%20%20initial-scale%3D1.0%2C%20maximum-scale%3D1.0%2C%20user-scalable%3Dno%22%20/%3E%0A%20%20%20%20%20%20%20%20%20%20%20%20%3Cstyle%3E%0A%20%20%20%20%20%20%20%20%20%20%20%20%20%20%20%20%23map_16f8f19806a9482d86f89d65174004d3%20%7B%0A%20%20%20%20%20%20%20%20%20%20%20%20%20%20%20%20%20%20%20%20position%3A%20relative%3B%0A%20%20%20%20%20%20%20%20%20%20%20%20%20%20%20%20%20%20%20%20width%3A%20100.0%25%3B%0A%20%20%20%20%20%20%20%20%20%20%20%20%20%20%20%20%20%20%20%20height%3A%20100.0%25%3B%0A%20%20%20%20%20%20%20%20%20%20%20%20%20%20%20%20%20%20%20%20left%3A%200.0%25%3B%0A%20%20%20%20%20%20%20%20%20%20%20%20%20%20%20%20%20%20%20%20top%3A%200.0%25%3B%0A%20%20%20%20%20%20%20%20%20%20%20%20%20%20%20%20%7D%0A%20%20%20%20%20%20%20%20%20%20%20%20%3C/style%3E%0A%20%20%20%20%20%20%20%20%0A%3C/head%3E%0A%3Cbody%3E%20%20%20%20%0A%20%20%20%20%0A%20%20%20%20%20%20%20%20%20%20%20%20%3Cdiv%20class%3D%22folium-map%22%20id%3D%22map_16f8f19806a9482d86f89d65174004d3%22%20%3E%3C/div%3E%0A%20%20%20%20%20%20%20%20%0A%3C/body%3E%0A%3Cscript%3E%20%20%20%20%0A%20%20%20%20%0A%20%20%20%20%20%20%20%20%20%20%20%20var%20map_16f8f19806a9482d86f89d65174004d3%20%3D%20L.map%28%0A%20%20%20%20%20%20%20%20%20%20%20%20%20%20%20%20%22map_16f8f19806a9482d86f89d65174004d3%22%2C%0A%20%20%20%20%20%20%20%20%20%20%20%20%20%20%20%20%7B%0A%20%20%20%20%20%20%20%20%20%20%20%20%20%20%20%20%20%20%20%20center%3A%20%5B47.59789702474227%2C%20-122.31735261797544%5D%2C%0A%20%20%20%20%20%20%20%20%20%20%20%20%20%20%20%20%20%20%20%20crs%3A%20L.CRS.EPSG3857%2C%0A%20%20%20%20%20%20%20%20%20%20%20%20%20%20%20%20%20%20%20%20zoom%3A%2010%2C%0A%20%20%20%20%20%20%20%20%20%20%20%20%20%20%20%20%20%20%20%20zoomControl%3A%20true%2C%0A%20%20%20%20%20%20%20%20%20%20%20%20%20%20%20%20%20%20%20%20preferCanvas%3A%20false%2C%0A%20%20%20%20%20%20%20%20%20%20%20%20%20%20%20%20%7D%0A%20%20%20%20%20%20%20%20%20%20%20%20%29%3B%0A%0A%20%20%20%20%20%20%20%20%20%20%20%20%0A%0A%20%20%20%20%20%20%20%20%0A%20%20%20%20%0A%20%20%20%20%20%20%20%20%20%20%20%20var%20tile_layer_af94f4bb312a4b9996916a397bd2fcc7%20%3D%20L.tileLayer%28%0A%20%20%20%20%20%20%20%20%20%20%20%20%20%20%20%20%22https%3A//%7Bs%7D.tile.openstreetmap.org/%7Bz%7D/%7Bx%7D/%7By%7D.png%22%2C%0A%20%20%20%20%20%20%20%20%20%20%20%20%20%20%20%20%7B%22attribution%22%3A%20%22Data%20by%20%5Cu0026copy%3B%20%5Cu003ca%20href%3D%5C%22http%3A//openstreetmap.org%5C%22%5Cu003eOpenStreetMap%5Cu003c/a%5Cu003e%2C%20under%20%5Cu003ca%20href%3D%5C%22http%3A//www.openstreetmap.org/copyright%5C%22%5Cu003eODbL%5Cu003c/a%5Cu003e.%22%2C%20%22detectRetina%22%3A%20false%2C%20%22maxNativeZoom%22%3A%2018%2C%20%22maxZoom%22%3A%2018%2C%20%22minZoom%22%3A%200%2C%20%22noWrap%22%3A%20false%2C%20%22opacity%22%3A%201%2C%20%22subdomains%22%3A%20%22abc%22%2C%20%22tms%22%3A%20false%7D%0A%20%20%20%20%20%20%20%20%20%20%20%20%29.addTo%28map_16f8f19806a9482d86f89d65174004d3%29%3B%0A%20%20%20%20%20%20%20%20%0A%20%20%20%20%0A%20%20%20%20%20%20%20%20%20%20%20%20var%20marker_b303344d117d4e7f970fc9e02411908b%20%3D%20L.marker%28%0A%20%20%20%20%20%20%20%20%20%20%20%20%20%20%20%20%5B47.604935%2C%20-122.324089%5D%2C%0A%20%20%20%20%20%20%20%20%20%20%20%20%20%20%20%20%7B%7D%0A%20%20%20%20%20%20%20%20%20%20%20%20%29.addTo%28map_16f8f19806a9482d86f89d65174004d3%29%3B%0A%20%20%20%20%20%20%20%20%0A%20%20%20%20%0A%20%20%20%20%20%20%20%20%20%20%20%20var%20icon_fb112ee9cb934785ad42ac5d513691c8%20%3D%20L.AwesomeMarkers.icon%28%0A%20%20%20%20%20%20%20%20%20%20%20%20%20%20%20%20%7B%22extraClasses%22%3A%20%22fa-rotate-0%22%2C%20%22icon%22%3A%20%22info-sign%22%2C%20%22iconColor%22%3A%20%22white%22%2C%20%22markerColor%22%3A%20%22blue%22%2C%20%22prefix%22%3A%20%22glyphicon%22%7D%0A%20%20%20%20%20%20%20%20%20%20%20%20%29%3B%0A%20%20%20%20%20%20%20%20%20%20%20%20marker_b303344d117d4e7f970fc9e02411908b.setIcon%28icon_fb112ee9cb934785ad42ac5d513691c8%29%3B%0A%20%20%20%20%20%20%20%20%0A%20%20%20%20%0A%20%20%20%20%20%20%20%20var%20popup_8bd6ab44e061485a8399508b0fd56f33%20%3D%20L.popup%28%7B%22maxWidth%22%3A%20%22100%25%22%7D%29%3B%0A%0A%20%20%20%20%20%20%20%20%0A%20%20%20%20%20%20%20%20%20%20%20%20var%20html_68b9fab74b374446acf9bf89c52152cc%20%3D%20%24%28%60%3Cdiv%20id%3D%22html_68b9fab74b374446acf9bf89c52152cc%22%20style%3D%22width%3A%20100.0%25%3B%20height%3A%20100.0%25%3B%22%3EName%3A%20Jefferson%20St%20%26%209th%20Ave%3Cbr%3E%3C/div%3E%60%29%5B0%5D%3B%0A%20%20%20%20%20%20%20%20%20%20%20%20popup_8bd6ab44e061485a8399508b0fd56f33.setContent%28html_68b9fab74b374446acf9bf89c52152cc%29%3B%0A%20%20%20%20%20%20%20%20%0A%0A%20%20%20%20%20%20%20%20marker_b303344d117d4e7f970fc9e02411908b.bindPopup%28popup_8bd6ab44e061485a8399508b0fd56f33%29%0A%20%20%20%20%20%20%20%20%3B%0A%0A%20%20%20%20%20%20%20%20%0A%20%20%20%20%0A%20%20%20%20%0A%20%20%20%20%20%20%20%20%20%20%20%20var%20marker_1c5ad63e22f54522988d11024f5f0d11%20%3D%20L.marker%28%0A%20%20%20%20%20%20%20%20%20%20%20%20%20%20%20%20%5B47.604874%2C%20-122.324242%5D%2C%0A%20%20%20%20%20%20%20%20%20%20%20%20%20%20%20%20%7B%7D%0A%20%20%20%20%20%20%20%20%20%20%20%20%29.addTo%28map_16f8f19806a9482d86f89d65174004d3%29%3B%0A%20%20%20%20%20%20%20%20%0A%20%20%20%20%0A%20%20%20%20%20%20%20%20%20%20%20%20var%20icon_ad063ef02ff54c1cafc9b4441ed28c4f%20%3D%20L.AwesomeMarkers.icon%28%0A%20%20%20%20%20%20%20%20%20%20%20%20%20%20%20%20%7B%22extraClasses%22%3A%20%22fa-rotate-0%22%2C%20%22icon%22%3A%20%22info-sign%22%2C%20%22iconColor%22%3A%20%22white%22%2C%20%22markerColor%22%3A%20%22blue%22%2C%20%22prefix%22%3A%20%22glyphicon%22%7D%0A%20%20%20%20%20%20%20%20%20%20%20%20%29%3B%0A%20%20%20%20%20%20%20%20%20%20%20%20marker_1c5ad63e22f54522988d11024f5f0d11.setIcon%28icon_ad063ef02ff54c1cafc9b4441ed28c4f%29%3B%0A%20%20%20%20%20%20%20%20%0A%20%20%20%20%0A%20%20%20%20%20%20%20%20var%20popup_8ad84e0f78654468a9dbb1800cf0118c%20%3D%20L.popup%28%7B%22maxWidth%22%3A%20%22100%25%22%7D%29%3B%0A%0A%20%20%20%20%20%20%20%20%0A%20%20%20%20%20%20%20%20%20%20%20%20var%20html_97712a3033a346f096bd9f0df582b260%20%3D%20%24%28%60%3Cdiv%20id%3D%22html_97712a3033a346f096bd9f0df582b260%22%20style%3D%22width%3A%20100.0%25%3B%20height%3A%20100.0%25%3B%22%3EName%3A%209th%20Ave%20%26%20Jefferson%20St%3Cbr%3E%3C/div%3E%60%29%5B0%5D%3B%0A%20%20%20%20%20%20%20%20%20%20%20%20popup_8ad84e0f78654468a9dbb1800cf0118c.setContent%28html_97712a3033a346f096bd9f0df582b260%29%3B%0A%20%20%20%20%20%20%20%20%0A%0A%20%20%20%20%20%20%20%20marker_1c5ad63e22f54522988d11024f5f0d11.bindPopup%28popup_8ad84e0f78654468a9dbb1800cf0118c%29%0A%20%20%20%20%20%20%20%20%3B%0A%0A%20%20%20%20%20%20%20%20%0A%20%20%20%20%0A%20%20%20%20%0A%20%20%20%20%20%20%20%20%20%20%20%20var%20marker_264ba740ab8b4b999ddf17adae11a9e1%20%3D%20L.marker%28%0A%20%20%20%20%20%20%20%20%20%20%20%20%20%20%20%20%5B47.602932%2C%20-122.330826%5D%2C%0A%20%20%20%20%20%20%20%20%20%20%20%20%20%20%20%20%7B%7D%0A%20%20%20%20%20%20%20%20%20%20%20%20%29.addTo%28map_16f8f19806a9482d86f89d65174004d3%29%3B%0A%20%20%20%20%20%20%20%20%0A%20%20%20%20%0A%20%20%20%20%20%20%20%20%20%20%20%20var%20icon_18f35e1e94bc47aa958c35f8dee9bdce%20%3D%20L.AwesomeMarkers.icon%28%0A%20%20%20%20%20%20%20%20%20%20%20%20%20%20%20%20%7B%22extraClasses%22%3A%20%22fa-rotate-0%22%2C%20%22icon%22%3A%20%22info-sign%22%2C%20%22iconColor%22%3A%20%22white%22%2C%20%22markerColor%22%3A%20%22blue%22%2C%20%22prefix%22%3A%20%22glyphicon%22%7D%0A%20%20%20%20%20%20%20%20%20%20%20%20%29%3B%0A%20%20%20%20%20%20%20%20%20%20%20%20marker_264ba740ab8b4b999ddf17adae11a9e1.setIcon%28icon_18f35e1e94bc47aa958c35f8dee9bdce%29%3B%0A%20%20%20%20%20%20%20%20%0A%20%20%20%20%0A%20%20%20%20%20%20%20%20var%20popup_8f5570babd284a6ebd19dcf4f9aa77cd%20%3D%20L.popup%28%7B%22maxWidth%22%3A%20%22100%25%22%7D%29%3B%0A%0A%20%20%20%20%20%20%20%20%0A%20%20%20%20%20%20%20%20%20%20%20%20var%20html_0d92be83272d4f469472e9e09000bfbb%20%3D%20%24%28%60%3Cdiv%20id%3D%22html_0d92be83272d4f469472e9e09000bfbb%22%20style%3D%22width%3A%20100.0%25%3B%20height%3A%20100.0%25%3B%22%3EName%3A%20James%20St%20%26%203rd%20Ave%3Cbr%3E%3C/div%3E%60%29%5B0%5D%3B%0A%20%20%20%20%20%20%20%20%20%20%20%20popup_8f5570babd284a6ebd19dcf4f9aa77cd.setContent%28html_0d92be83272d4f469472e9e09000bfbb%29%3B%0A%20%20%20%20%20%20%20%20%0A%0A%20%20%20%20%20%20%20%20marker_264ba740ab8b4b999ddf17adae11a9e1.bindPopup%28popup_8f5570babd284a6ebd19dcf4f9aa77cd%29%0A%20%20%20%20%20%20%20%20%3B%0A%0A%20%20%20%20%20%20%20%20%0A%20%20%20%20%0A%20%20%20%20%0A%20%20%20%20%20%20%20%20%20%20%20%20var%20marker_0d71d149c592496d8c8e0f302e18da2c%20%3D%20L.marker%28%0A%20%20%20%20%20%20%20%20%20%20%20%20%20%20%20%20%5B47.774395%2C%20-122.341034%5D%2C%0A%20%20%20%20%20%20%20%20%20%20%20%20%20%20%20%20%7B%7D%0A%20%20%20%20%20%20%20%20%20%20%20%20%29.addTo%28map_16f8f19806a9482d86f89d65174004d3%29%3B%0A%20%20%20%20%20%20%20%20%0A%20%20%20%20%0A%20%20%20%20%20%20%20%20%20%20%20%20var%20icon_9039078a390c4f169865551cbba06aca%20%3D%20L.AwesomeMarkers.icon%28%0A%20%20%20%20%20%20%20%20%20%20%20%20%20%20%20%20%7B%22extraClasses%22%3A%20%22fa-rotate-0%22%2C%20%22icon%22%3A%20%22info-sign%22%2C%20%22iconColor%22%3A%20%22white%22%2C%20%22markerColor%22%3A%20%22blue%22%2C%20%22prefix%22%3A%20%22glyphicon%22%7D%0A%20%20%20%20%20%20%20%20%20%20%20%20%29%3B%0A%20%20%20%20%20%20%20%20%20%20%20%20marker_0d71d149c592496d8c8e0f302e18da2c.setIcon%28icon_9039078a390c4f169865551cbba06aca%29%3B%0A%20%20%20%20%20%20%20%20%0A%20%20%20%20%0A%20%20%20%20%20%20%20%20var%20popup_230f5c43d0bb42f3901d4fb2f84b0130%20%3D%20L.popup%28%7B%22maxWidth%22%3A%20%22100%25%22%7D%29%3B%0A%0A%20%20%20%20%20%20%20%20%0A%20%20%20%20%20%20%20%20%20%20%20%20var%20html_f778dd050a234956850e410ab2fa193f%20%3D%20%24%28%60%3Cdiv%20id%3D%22html_f778dd050a234956850e410ab2fa193f%22%20style%3D%22width%3A%20100.0%25%3B%20height%3A%20100.0%25%3B%22%3EName%3A%20Aurora%20Village%20Transit%20Center%20-%20Bay%206%3Cbr%3E%3C/div%3E%60%29%5B0%5D%3B%0A%20%20%20%20%20%20%20%20%20%20%20%20popup_230f5c43d0bb42f3901d4fb2f84b0130.setContent%28html_f778dd050a234956850e410ab2fa193f%29%3B%0A%20%20%20%20%20%20%20%20%0A%0A%20%20%20%20%20%20%20%20marker_0d71d149c592496d8c8e0f302e18da2c.bindPopup%28popup_230f5c43d0bb42f3901d4fb2f84b0130%29%0A%20%20%20%20%20%20%20%20%3B%0A%0A%20%20%20%20%20%20%20%20%0A%20%20%20%20%0A%20%20%20%20%0A%20%20%20%20%20%20%20%20%20%20%20%20var%20marker_72178af3fe3b49ae99d9d171cf29e98d%20%3D%20L.marker%28%0A%20%20%20%20%20%20%20%20%20%20%20%20%20%20%20%20%5B47.374584%2C%20-122.427757%5D%2C%0A%20%20%20%20%20%20%20%20%20%20%20%20%20%20%20%20%7B%7D%0A%20%20%20%20%20%20%20%20%20%20%20%20%29.addTo%28map_16f8f19806a9482d86f89d65174004d3%29%3B%0A%20%20%20%20%20%20%20%20%0A%20%20%20%20%0A%20%20%20%20%20%20%20%20%20%20%20%20var%20icon_756a9604e46b49e39acf87b16f937359%20%3D%20L.AwesomeMarkers.icon%28%0A%20%20%20%20%20%20%20%20%20%20%20%20%20%20%20%20%7B%22extraClasses%22%3A%20%22fa-rotate-0%22%2C%20%22icon%22%3A%20%22info-sign%22%2C%20%22iconColor%22%3A%20%22white%22%2C%20%22markerColor%22%3A%20%22blue%22%2C%20%22prefix%22%3A%20%22glyphicon%22%7D%0A%20%20%20%20%20%20%20%20%20%20%20%20%29%3B%0A%20%20%20%20%20%20%20%20%20%20%20%20marker_72178af3fe3b49ae99d9d171cf29e98d.setIcon%28icon_756a9604e46b49e39acf87b16f937359%29%3B%0A%20%20%20%20%20%20%20%20%0A%20%20%20%20%0A%20%20%20%20%20%20%20%20var%20popup_25919a9187a741e888ae84fd1c592393%20%3D%20L.popup%28%7B%22maxWidth%22%3A%20%22100%25%22%7D%29%3B%0A%0A%20%20%20%20%20%20%20%20%0A%20%20%20%20%20%20%20%20%20%20%20%20var%20html_c3e3562872b949a5a472f63d0c4fd6d6%20%3D%20%24%28%60%3Cdiv%20id%3D%22html_c3e3562872b949a5a472f63d0c4fd6d6%22%20style%3D%22width%3A%20100.0%25%3B%20height%3A%20100.0%25%3B%22%3EName%3A%20SW%20256th%20St%20%26%2075th%20Ave%20SW%3Cbr%3E%3C/div%3E%60%29%5B0%5D%3B%0A%20%20%20%20%20%20%20%20%20%20%20%20popup_25919a9187a741e888ae84fd1c592393.setContent%28html_c3e3562872b949a5a472f63d0c4fd6d6%29%3B%0A%20%20%20%20%20%20%20%20%0A%0A%20%20%20%20%20%20%20%20marker_72178af3fe3b49ae99d9d171cf29e98d.bindPopup%28popup_25919a9187a741e888ae84fd1c592393%29%0A%20%20%20%20%20%20%20%20%3B%0A%0A%20%20%20%20%20%20%20%20%0A%20%20%20%20%0A%20%20%20%20%0A%20%20%20%20%20%20%20%20%20%20%20%20var%20marker_6bf5c648a7b94b81b5ca1fda53adbb65%20%3D%20L.marker%28%0A%20%20%20%20%20%20%20%20%20%20%20%20%20%20%20%20%5B47.383431%2C%20-122.232483%5D%2C%0A%20%20%20%20%20%20%20%20%20%20%20%20%20%20%20%20%7B%7D%0A%20%20%20%20%20%20%20%20%20%20%20%20%29.addTo%28map_16f8f19806a9482d86f89d65174004d3%29%3B%0A%20%20%20%20%20%20%20%20%0A%20%20%20%20%0A%20%20%20%20%20%20%20%20%20%20%20%20var%20icon_09d54ead7bb045348386d6a68426c075%20%3D%20L.AwesomeMarkers.icon%28%0A%20%20%20%20%20%20%20%20%20%20%20%20%20%20%20%20%7B%22extraClasses%22%3A%20%22fa-rotate-0%22%2C%20%22icon%22%3A%20%22info-sign%22%2C%20%22iconColor%22%3A%20%22white%22%2C%20%22markerColor%22%3A%20%22blue%22%2C%20%22prefix%22%3A%20%22glyphicon%22%7D%0A%20%20%20%20%20%20%20%20%20%20%20%20%29%3B%0A%20%20%20%20%20%20%20%20%20%20%20%20marker_6bf5c648a7b94b81b5ca1fda53adbb65.setIcon%28icon_09d54ead7bb045348386d6a68426c075%29%3B%0A%20%20%20%20%20%20%20%20%0A%20%20%20%20%0A%20%20%20%20%20%20%20%20var%20popup_d08c56d8a47845b7965a233f6d0a5385%20%3D%20L.popup%28%7B%22maxWidth%22%3A%20%22100%25%22%7D%29%3B%0A%0A%20%20%20%20%20%20%20%20%0A%20%20%20%20%20%20%20%20%20%20%20%20var%20html_34bb35ab894643779413c6a12cb52ffc%20%3D%20%24%28%60%3Cdiv%20id%3D%22html_34bb35ab894643779413c6a12cb52ffc%22%20style%3D%22width%3A%20100.0%25%3B%20height%3A%20100.0%25%3B%22%3EName%3A%20Kent%20Sounder%20Station%20-%20Bay%209%3Cbr%3E%3C/div%3E%60%29%5B0%5D%3B%0A%20%20%20%20%20%20%20%20%20%20%20%20popup_d08c56d8a47845b7965a233f6d0a5385.setContent%28html_34bb35ab894643779413c6a12cb52ffc%29%3B%0A%20%20%20%20%20%20%20%20%0A%0A%20%20%20%20%20%20%20%20marker_6bf5c648a7b94b81b5ca1fda53adbb65.bindPopup%28popup_d08c56d8a47845b7965a233f6d0a5385%29%0A%20%20%20%20%20%20%20%20%3B%0A%0A%20%20%20%20%20%20%20%20%0A%20%20%20%20%0A%20%20%20%20%0A%20%20%20%20%20%20%20%20%20%20%20%20var%20marker_f62dfe54e68b49e4add771e2f7a43b89%20%3D%20L.marker%28%0A%20%20%20%20%20%20%20%20%20%20%20%20%20%20%20%20%5B47.457752%2C%20-122.254478%5D%2C%0A%20%20%20%20%20%20%20%20%20%20%20%20%20%20%20%20%7B%7D%0A%20%20%20%20%20%20%20%20%20%20%20%20%29.addTo%28map_16f8f19806a9482d86f89d65174004d3%29%3B%0A%20%20%20%20%20%20%20%20%0A%20%20%20%20%0A%20%20%20%20%20%20%20%20%20%20%20%20var%20icon_30af908164e842c3953d30333b7a837c%20%3D%20L.AwesomeMarkers.icon%28%0A%20%20%20%20%20%20%20%20%20%20%20%20%20%20%20%20%7B%22extraClasses%22%3A%20%22fa-rotate-0%22%2C%20%22icon%22%3A%20%22info-sign%22%2C%20%22iconColor%22%3A%20%22white%22%2C%20%22markerColor%22%3A%20%22blue%22%2C%20%22prefix%22%3A%20%22glyphicon%22%7D%0A%20%20%20%20%20%20%20%20%20%20%20%20%29%3B%0A%20%20%20%20%20%20%20%20%20%20%20%20marker_f62dfe54e68b49e4add771e2f7a43b89.setIcon%28icon_30af908164e842c3953d30333b7a837c%29%3B%0A%20%20%20%20%20%20%20%20%0A%20%20%20%20%0A%20%20%20%20%20%20%20%20var%20popup_eb1d9fb426f24f52841f70786fd6eb07%20%3D%20L.popup%28%7B%22maxWidth%22%3A%20%22100%25%22%7D%29%3B%0A%0A%20%20%20%20%20%20%20%20%0A%20%20%20%20%20%20%20%20%20%20%20%20var%20html_c6c1bfeda18a452299a36d167098094e%20%3D%20%24%28%60%3Cdiv%20id%3D%22html_c6c1bfeda18a452299a36d167098094e%22%20style%3D%22width%3A%20100.0%25%3B%20height%3A%20100.0%25%3B%22%3EName%3A%20Andover%20Park%20W%20%26%20Baker%20Blvd%20-%20Bay%202%3Cbr%3E%3C/div%3E%60%29%5B0%5D%3B%0A%20%20%20%20%20%20%20%20%20%20%20%20popup_eb1d9fb426f24f52841f70786fd6eb07.setContent%28html_c6c1bfeda18a452299a36d167098094e%29%3B%0A%20%20%20%20%20%20%20%20%0A%0A%20%20%20%20%20%20%20%20marker_f62dfe54e68b49e4add771e2f7a43b89.bindPopup%28popup_eb1d9fb426f24f52841f70786fd6eb07%29%0A%20%20%20%20%20%20%20%20%3B%0A%0A%20%20%20%20%20%20%20%20%0A%20%20%20%20%0A%20%20%20%20%0A%20%20%20%20%20%20%20%20%20%20%20%20var%20marker_538236939c564c7e9f3195afad7a3dbb%20%3D%20L.marker%28%0A%20%20%20%20%20%20%20%20%20%20%20%20%20%20%20%20%5B47.459057%2C%20-122.254272%5D%2C%0A%20%20%20%20%20%20%20%20%20%20%20%20%20%20%20%20%7B%7D%0A%20%20%20%20%20%20%20%20%20%20%20%20%29.addTo%28map_16f8f19806a9482d86f89d65174004d3%29%3B%0A%20%20%20%20%20%20%20%20%0A%20%20%20%20%0A%20%20%20%20%20%20%20%20%20%20%20%20var%20icon_3b6f6a3a284e4bbd8703f59eed3b17b3%20%3D%20L.AwesomeMarkers.icon%28%0A%20%20%20%20%20%20%20%20%20%20%20%20%20%20%20%20%7B%22extraClasses%22%3A%20%22fa-rotate-0%22%2C%20%22icon%22%3A%20%22info-sign%22%2C%20%22iconColor%22%3A%20%22white%22%2C%20%22markerColor%22%3A%20%22blue%22%2C%20%22prefix%22%3A%20%22glyphicon%22%7D%0A%20%20%20%20%20%20%20%20%20%20%20%20%29%3B%0A%20%20%20%20%20%20%20%20%20%20%20%20marker_538236939c564c7e9f3195afad7a3dbb.setIcon%28icon_3b6f6a3a284e4bbd8703f59eed3b17b3%29%3B%0A%20%20%20%20%20%20%20%20%0A%20%20%20%20%0A%20%20%20%20%20%20%20%20var%20popup_81198b484651492495911a79ceabd261%20%3D%20L.popup%28%7B%22maxWidth%22%3A%20%22100%25%22%7D%29%3B%0A%0A%20%20%20%20%20%20%20%20%0A%20%20%20%20%20%20%20%20%20%20%20%20var%20html_6247884abb0e452780c65c7696ad6ffe%20%3D%20%24%28%60%3Cdiv%20id%3D%22html_6247884abb0e452780c65c7696ad6ffe%22%20style%3D%22width%3A%20100.0%25%3B%20height%3A%20100.0%25%3B%22%3EName%3A%20Andover%20Park%20W%20%26%20Baker%20Blvd%20-%20Bay%204%3Cbr%3E%3C/div%3E%60%29%5B0%5D%3B%0A%20%20%20%20%20%20%20%20%20%20%20%20popup_81198b484651492495911a79ceabd261.setContent%28html_6247884abb0e452780c65c7696ad6ffe%29%3B%0A%20%20%20%20%20%20%20%20%0A%0A%20%20%20%20%20%20%20%20marker_538236939c564c7e9f3195afad7a3dbb.bindPopup%28popup_81198b484651492495911a79ceabd261%29%0A%20%20%20%20%20%20%20%20%3B%0A%0A%20%20%20%20%20%20%20%20%0A%20%20%20%20%0A%20%20%20%20%0A%20%20%20%20%20%20%20%20%20%20%20%20var%20marker_15aa776f38224f9cae6ccde5463b7886%20%3D%20L.marker%28%0A%20%20%20%20%20%20%20%20%20%20%20%20%20%20%20%20%5B47.6455%2C%20-122.132187%5D%2C%0A%20%20%20%20%20%20%20%20%20%20%20%20%20%20%20%20%7B%7D%0A%20%20%20%20%20%20%20%20%20%20%20%20%29.addTo%28map_16f8f19806a9482d86f89d65174004d3%29%3B%0A%20%20%20%20%20%20%20%20%0A%20%20%20%20%0A%20%20%20%20%20%20%20%20%20%20%20%20var%20icon_a5da8c4744a24abfa3b51ec5b50dba34%20%3D%20L.AwesomeMarkers.icon%28%0A%20%20%20%20%20%20%20%20%20%20%20%20%20%20%20%20%7B%22extraClasses%22%3A%20%22fa-rotate-0%22%2C%20%22icon%22%3A%20%22info-sign%22%2C%20%22iconColor%22%3A%20%22white%22%2C%20%22markerColor%22%3A%20%22blue%22%2C%20%22prefix%22%3A%20%22glyphicon%22%7D%0A%20%20%20%20%20%20%20%20%20%20%20%20%29%3B%0A%20%20%20%20%20%20%20%20%20%20%20%20marker_15aa776f38224f9cae6ccde5463b7886.setIcon%28icon_a5da8c4744a24abfa3b51ec5b50dba34%29%3B%0A%20%20%20%20%20%20%20%20%0A%20%20%20%20%0A%20%20%20%20%20%20%20%20var%20popup_04d0571b5b9f458baeef464155ce7b8e%20%3D%20L.popup%28%7B%22maxWidth%22%3A%20%22100%25%22%7D%29%3B%0A%0A%20%20%20%20%20%20%20%20%0A%20%20%20%20%20%20%20%20%20%20%20%20var%20html_05b11cb36415419eaa1cfcb68ac7872e%20%3D%20%24%28%60%3Cdiv%20id%3D%22html_05b11cb36415419eaa1cfcb68ac7872e%22%20style%3D%22width%3A%20100.0%25%3B%20height%3A%20100.0%25%3B%22%3EName%3A%20156th%20Ave%20NE%20%26%20NE%2040th%20St%3Cbr%3E%3C/div%3E%60%29%5B0%5D%3B%0A%20%20%20%20%20%20%20%20%20%20%20%20popup_04d0571b5b9f458baeef464155ce7b8e.setContent%28html_05b11cb36415419eaa1cfcb68ac7872e%29%3B%0A%20%20%20%20%20%20%20%20%0A%0A%20%20%20%20%20%20%20%20marker_15aa776f38224f9cae6ccde5463b7886.bindPopup%28popup_04d0571b5b9f458baeef464155ce7b8e%29%0A%20%20%20%20%20%20%20%20%3B%0A%0A%20%20%20%20%20%20%20%20%0A%20%20%20%20%0A%3C/script%3E onload=\"this.contentDocument.open();this.contentDocument.write(    decodeURIComponent(this.getAttribute('data-html')));this.contentDocument.close();\" allowfullscreen webkitallowfullscreen mozallowfullscreen></iframe></div></div>"
      ],
      "text/plain": [
       "<folium.folium.Map at 0x7fd020e9efa0>"
      ]
     },
     "execution_count": 127,
     "metadata": {},
     "output_type": "execute_result"
    }
   ],
   "source": [
    "mapping"
   ]
  },
  {
   "cell_type": "code",
   "execution_count": 129,
   "id": "0780d356",
   "metadata": {},
   "outputs": [
    {
     "data": {
      "text/html": [
       "<div style=\"width:100%;\"><div style=\"position:relative;width:100%;height:0;padding-bottom:60%;\"><span style=\"color:#565656\">Make this Notebook Trusted to load map: File -> Trust Notebook</span><iframe src=\"about:blank\" style=\"position:absolute;width:100%;height:100%;left:0;top:0;border:none !important;\" data-html=%3C%21DOCTYPE%20html%3E%0A%3Chead%3E%20%20%20%20%0A%20%20%20%20%3Cmeta%20http-equiv%3D%22content-type%22%20content%3D%22text/html%3B%20charset%3DUTF-8%22%20/%3E%0A%20%20%20%20%0A%20%20%20%20%20%20%20%20%3Cscript%3E%0A%20%20%20%20%20%20%20%20%20%20%20%20L_NO_TOUCH%20%3D%20false%3B%0A%20%20%20%20%20%20%20%20%20%20%20%20L_DISABLE_3D%20%3D%20false%3B%0A%20%20%20%20%20%20%20%20%3C/script%3E%0A%20%20%20%20%0A%20%20%20%20%3Cstyle%3Ehtml%2C%20body%20%7Bwidth%3A%20100%25%3Bheight%3A%20100%25%3Bmargin%3A%200%3Bpadding%3A%200%3B%7D%3C/style%3E%0A%20%20%20%20%3Cstyle%3E%23map%20%7Bposition%3Aabsolute%3Btop%3A0%3Bbottom%3A0%3Bright%3A0%3Bleft%3A0%3B%7D%3C/style%3E%0A%20%20%20%20%3Cscript%20src%3D%22https%3A//cdn.jsdelivr.net/npm/leaflet%401.6.0/dist/leaflet.js%22%3E%3C/script%3E%0A%20%20%20%20%3Cscript%20src%3D%22https%3A//code.jquery.com/jquery-1.12.4.min.js%22%3E%3C/script%3E%0A%20%20%20%20%3Cscript%20src%3D%22https%3A//maxcdn.bootstrapcdn.com/bootstrap/3.2.0/js/bootstrap.min.js%22%3E%3C/script%3E%0A%20%20%20%20%3Cscript%20src%3D%22https%3A//cdnjs.cloudflare.com/ajax/libs/Leaflet.awesome-markers/2.0.2/leaflet.awesome-markers.js%22%3E%3C/script%3E%0A%20%20%20%20%3Clink%20rel%3D%22stylesheet%22%20href%3D%22https%3A//cdn.jsdelivr.net/npm/leaflet%401.6.0/dist/leaflet.css%22/%3E%0A%20%20%20%20%3Clink%20rel%3D%22stylesheet%22%20href%3D%22https%3A//maxcdn.bootstrapcdn.com/bootstrap/3.2.0/css/bootstrap.min.css%22/%3E%0A%20%20%20%20%3Clink%20rel%3D%22stylesheet%22%20href%3D%22https%3A//maxcdn.bootstrapcdn.com/bootstrap/3.2.0/css/bootstrap-theme.min.css%22/%3E%0A%20%20%20%20%3Clink%20rel%3D%22stylesheet%22%20href%3D%22https%3A//maxcdn.bootstrapcdn.com/font-awesome/4.6.3/css/font-awesome.min.css%22/%3E%0A%20%20%20%20%3Clink%20rel%3D%22stylesheet%22%20href%3D%22https%3A//cdnjs.cloudflare.com/ajax/libs/Leaflet.awesome-markers/2.0.2/leaflet.awesome-markers.css%22/%3E%0A%20%20%20%20%3Clink%20rel%3D%22stylesheet%22%20href%3D%22https%3A//cdn.jsdelivr.net/gh/python-visualization/folium/folium/templates/leaflet.awesome.rotate.min.css%22/%3E%0A%20%20%20%20%0A%20%20%20%20%20%20%20%20%20%20%20%20%3Cmeta%20name%3D%22viewport%22%20content%3D%22width%3Ddevice-width%2C%0A%20%20%20%20%20%20%20%20%20%20%20%20%20%20%20%20initial-scale%3D1.0%2C%20maximum-scale%3D1.0%2C%20user-scalable%3Dno%22%20/%3E%0A%20%20%20%20%20%20%20%20%20%20%20%20%3Cstyle%3E%0A%20%20%20%20%20%20%20%20%20%20%20%20%20%20%20%20%23map_ad8c12dc0cb04e30bfe2e3440a47de1c%20%7B%0A%20%20%20%20%20%20%20%20%20%20%20%20%20%20%20%20%20%20%20%20position%3A%20relative%3B%0A%20%20%20%20%20%20%20%20%20%20%20%20%20%20%20%20%20%20%20%20width%3A%20100.0%25%3B%0A%20%20%20%20%20%20%20%20%20%20%20%20%20%20%20%20%20%20%20%20height%3A%20100.0%25%3B%0A%20%20%20%20%20%20%20%20%20%20%20%20%20%20%20%20%20%20%20%20left%3A%200.0%25%3B%0A%20%20%20%20%20%20%20%20%20%20%20%20%20%20%20%20%20%20%20%20top%3A%200.0%25%3B%0A%20%20%20%20%20%20%20%20%20%20%20%20%20%20%20%20%7D%0A%20%20%20%20%20%20%20%20%20%20%20%20%3C/style%3E%0A%20%20%20%20%20%20%20%20%0A%3C/head%3E%0A%3Cbody%3E%20%20%20%20%0A%20%20%20%20%0A%20%20%20%20%20%20%20%20%20%20%20%20%3Cdiv%20class%3D%22folium-map%22%20id%3D%22map_ad8c12dc0cb04e30bfe2e3440a47de1c%22%20%3E%3C/div%3E%0A%20%20%20%20%20%20%20%20%0A%3C/body%3E%0A%3Cscript%3E%20%20%20%20%0A%20%20%20%20%0A%20%20%20%20%20%20%20%20%20%20%20%20var%20map_ad8c12dc0cb04e30bfe2e3440a47de1c%20%3D%20L.map%28%0A%20%20%20%20%20%20%20%20%20%20%20%20%20%20%20%20%22map_ad8c12dc0cb04e30bfe2e3440a47de1c%22%2C%0A%20%20%20%20%20%20%20%20%20%20%20%20%20%20%20%20%7B%0A%20%20%20%20%20%20%20%20%20%20%20%20%20%20%20%20%20%20%20%20center%3A%20%5B47.59789702474227%2C%20-122.31735261797544%5D%2C%0A%20%20%20%20%20%20%20%20%20%20%20%20%20%20%20%20%20%20%20%20crs%3A%20L.CRS.EPSG3857%2C%0A%20%20%20%20%20%20%20%20%20%20%20%20%20%20%20%20%20%20%20%20zoom%3A%2010%2C%0A%20%20%20%20%20%20%20%20%20%20%20%20%20%20%20%20%20%20%20%20zoomControl%3A%20true%2C%0A%20%20%20%20%20%20%20%20%20%20%20%20%20%20%20%20%20%20%20%20preferCanvas%3A%20false%2C%0A%20%20%20%20%20%20%20%20%20%20%20%20%20%20%20%20%7D%0A%20%20%20%20%20%20%20%20%20%20%20%20%29%3B%0A%0A%20%20%20%20%20%20%20%20%20%20%20%20%0A%0A%20%20%20%20%20%20%20%20%0A%20%20%20%20%0A%20%20%20%20%20%20%20%20%20%20%20%20var%20tile_layer_74aaee6431614b26b2b99d93a542fa70%20%3D%20L.tileLayer%28%0A%20%20%20%20%20%20%20%20%20%20%20%20%20%20%20%20%22https%3A//%7Bs%7D.tile.openstreetmap.org/%7Bz%7D/%7Bx%7D/%7By%7D.png%22%2C%0A%20%20%20%20%20%20%20%20%20%20%20%20%20%20%20%20%7B%22attribution%22%3A%20%22Data%20by%20%5Cu0026copy%3B%20%5Cu003ca%20href%3D%5C%22http%3A//openstreetmap.org%5C%22%5Cu003eOpenStreetMap%5Cu003c/a%5Cu003e%2C%20under%20%5Cu003ca%20href%3D%5C%22http%3A//www.openstreetmap.org/copyright%5C%22%5Cu003eODbL%5Cu003c/a%5Cu003e.%22%2C%20%22detectRetina%22%3A%20false%2C%20%22maxNativeZoom%22%3A%2018%2C%20%22maxZoom%22%3A%2018%2C%20%22minZoom%22%3A%200%2C%20%22noWrap%22%3A%20false%2C%20%22opacity%22%3A%201%2C%20%22subdomains%22%3A%20%22abc%22%2C%20%22tms%22%3A%20false%7D%0A%20%20%20%20%20%20%20%20%20%20%20%20%29.addTo%28map_ad8c12dc0cb04e30bfe2e3440a47de1c%29%3B%0A%20%20%20%20%20%20%20%20%0A%20%20%20%20%0A%20%20%20%20%20%20%20%20%20%20%20%20var%20marker_36b9ec95b3c54ee983a7da8228adb7b2%20%3D%20L.marker%28%0A%20%20%20%20%20%20%20%20%20%20%20%20%20%20%20%20%5B47.602932%2C%20-122.330826%5D%2C%0A%20%20%20%20%20%20%20%20%20%20%20%20%20%20%20%20%7B%7D%0A%20%20%20%20%20%20%20%20%20%20%20%20%29.addTo%28map_ad8c12dc0cb04e30bfe2e3440a47de1c%29%3B%0A%20%20%20%20%20%20%20%20%0A%20%20%20%20%0A%20%20%20%20%20%20%20%20%20%20%20%20var%20icon_ee3a7aa241894bc5bc9df45fa1c2d1f9%20%3D%20L.AwesomeMarkers.icon%28%0A%20%20%20%20%20%20%20%20%20%20%20%20%20%20%20%20%7B%22extraClasses%22%3A%20%22fa-rotate-0%22%2C%20%22icon%22%3A%20%22info-sign%22%2C%20%22iconColor%22%3A%20%22white%22%2C%20%22markerColor%22%3A%20%22blue%22%2C%20%22prefix%22%3A%20%22glyphicon%22%7D%0A%20%20%20%20%20%20%20%20%20%20%20%20%29%3B%0A%20%20%20%20%20%20%20%20%20%20%20%20marker_36b9ec95b3c54ee983a7da8228adb7b2.setIcon%28icon_ee3a7aa241894bc5bc9df45fa1c2d1f9%29%3B%0A%20%20%20%20%20%20%20%20%0A%20%20%20%20%0A%20%20%20%20%20%20%20%20var%20popup_f6c4cf226f8346ca99d8f10b09b6ffe0%20%3D%20L.popup%28%7B%22maxWidth%22%3A%20%22100%25%22%7D%29%3B%0A%0A%20%20%20%20%20%20%20%20%0A%20%20%20%20%20%20%20%20%20%20%20%20var%20html_253e7cf1994345f4a2124d145667d556%20%3D%20%24%28%60%3Cdiv%20id%3D%22html_253e7cf1994345f4a2124d145667d556%22%20style%3D%22width%3A%20100.0%25%3B%20height%3A%20100.0%25%3B%22%3EName%3A%20James%20St%20%26%203rd%20Ave%3Cbr%3E%3C/div%3E%60%29%5B0%5D%3B%0A%20%20%20%20%20%20%20%20%20%20%20%20popup_f6c4cf226f8346ca99d8f10b09b6ffe0.setContent%28html_253e7cf1994345f4a2124d145667d556%29%3B%0A%20%20%20%20%20%20%20%20%0A%0A%20%20%20%20%20%20%20%20marker_36b9ec95b3c54ee983a7da8228adb7b2.bindPopup%28popup_f6c4cf226f8346ca99d8f10b09b6ffe0%29%0A%20%20%20%20%20%20%20%20%3B%0A%0A%20%20%20%20%20%20%20%20%0A%20%20%20%20%0A%20%20%20%20%0A%20%20%20%20%20%20%20%20%20%20%20%20var%20marker_f1ea001c2b7e481f9b23e4667b9a5690%20%3D%20L.marker%28%0A%20%20%20%20%20%20%20%20%20%20%20%20%20%20%20%20%5B47.774395%2C%20-122.341034%5D%2C%0A%20%20%20%20%20%20%20%20%20%20%20%20%20%20%20%20%7B%7D%0A%20%20%20%20%20%20%20%20%20%20%20%20%29.addTo%28map_ad8c12dc0cb04e30bfe2e3440a47de1c%29%3B%0A%20%20%20%20%20%20%20%20%0A%20%20%20%20%0A%20%20%20%20%20%20%20%20%20%20%20%20var%20icon_0b8acf83e3d54e4b95e660a37a263303%20%3D%20L.AwesomeMarkers.icon%28%0A%20%20%20%20%20%20%20%20%20%20%20%20%20%20%20%20%7B%22extraClasses%22%3A%20%22fa-rotate-0%22%2C%20%22icon%22%3A%20%22info-sign%22%2C%20%22iconColor%22%3A%20%22white%22%2C%20%22markerColor%22%3A%20%22blue%22%2C%20%22prefix%22%3A%20%22glyphicon%22%7D%0A%20%20%20%20%20%20%20%20%20%20%20%20%29%3B%0A%20%20%20%20%20%20%20%20%20%20%20%20marker_f1ea001c2b7e481f9b23e4667b9a5690.setIcon%28icon_0b8acf83e3d54e4b95e660a37a263303%29%3B%0A%20%20%20%20%20%20%20%20%0A%20%20%20%20%0A%20%20%20%20%20%20%20%20var%20popup_fe8e860c951f47f6ab8d7637732024dd%20%3D%20L.popup%28%7B%22maxWidth%22%3A%20%22100%25%22%7D%29%3B%0A%0A%20%20%20%20%20%20%20%20%0A%20%20%20%20%20%20%20%20%20%20%20%20var%20html_8c4187455c6d4a6ba127d4a748fbf718%20%3D%20%24%28%60%3Cdiv%20id%3D%22html_8c4187455c6d4a6ba127d4a748fbf718%22%20style%3D%22width%3A%20100.0%25%3B%20height%3A%20100.0%25%3B%22%3EName%3A%20Aurora%20Village%20Transit%20Center%20-%20Bay%206%3Cbr%3E%3C/div%3E%60%29%5B0%5D%3B%0A%20%20%20%20%20%20%20%20%20%20%20%20popup_fe8e860c951f47f6ab8d7637732024dd.setContent%28html_8c4187455c6d4a6ba127d4a748fbf718%29%3B%0A%20%20%20%20%20%20%20%20%0A%0A%20%20%20%20%20%20%20%20marker_f1ea001c2b7e481f9b23e4667b9a5690.bindPopup%28popup_fe8e860c951f47f6ab8d7637732024dd%29%0A%20%20%20%20%20%20%20%20%3B%0A%0A%20%20%20%20%20%20%20%20%0A%20%20%20%20%0A%20%20%20%20%0A%20%20%20%20%20%20%20%20%20%20%20%20var%20marker_40b835d1bd214a1092072439c43a19d6%20%3D%20L.marker%28%0A%20%20%20%20%20%20%20%20%20%20%20%20%20%20%20%20%5B47.60899%2C%20-122.327782%5D%2C%0A%20%20%20%20%20%20%20%20%20%20%20%20%20%20%20%20%7B%7D%0A%20%20%20%20%20%20%20%20%20%20%20%20%29.addTo%28map_ad8c12dc0cb04e30bfe2e3440a47de1c%29%3B%0A%20%20%20%20%20%20%20%20%0A%20%20%20%20%0A%20%20%20%20%20%20%20%20%20%20%20%20var%20icon_3122cc46e9b04e77a610bb822956ac23%20%3D%20L.AwesomeMarkers.icon%28%0A%20%20%20%20%20%20%20%20%20%20%20%20%20%20%20%20%7B%22extraClasses%22%3A%20%22fa-rotate-0%22%2C%20%22icon%22%3A%20%22info-sign%22%2C%20%22iconColor%22%3A%20%22white%22%2C%20%22markerColor%22%3A%20%22blue%22%2C%20%22prefix%22%3A%20%22glyphicon%22%7D%0A%20%20%20%20%20%20%20%20%20%20%20%20%29%3B%0A%20%20%20%20%20%20%20%20%20%20%20%20marker_40b835d1bd214a1092072439c43a19d6.setIcon%28icon_3122cc46e9b04e77a610bb822956ac23%29%3B%0A%20%20%20%20%20%20%20%20%0A%20%20%20%20%0A%20%20%20%20%20%20%20%20var%20popup_ab19993dcb944a65bc0115ca2c3181d0%20%3D%20L.popup%28%7B%22maxWidth%22%3A%20%22100%25%22%7D%29%3B%0A%0A%20%20%20%20%20%20%20%20%0A%20%20%20%20%20%20%20%20%20%20%20%20var%20html_c4de9664e29e42d5b1ed38848fd56772%20%3D%20%24%28%60%3Cdiv%20id%3D%22html_c4de9664e29e42d5b1ed38848fd56772%22%20style%3D%22width%3A%20100.0%25%3B%20height%3A%20100.0%25%3B%22%3EName%3A%209th%20Ave%20%26%20Spring%20St%3Cbr%3E%3C/div%3E%60%29%5B0%5D%3B%0A%20%20%20%20%20%20%20%20%20%20%20%20popup_ab19993dcb944a65bc0115ca2c3181d0.setContent%28html_c4de9664e29e42d5b1ed38848fd56772%29%3B%0A%20%20%20%20%20%20%20%20%0A%0A%20%20%20%20%20%20%20%20marker_40b835d1bd214a1092072439c43a19d6.bindPopup%28popup_ab19993dcb944a65bc0115ca2c3181d0%29%0A%20%20%20%20%20%20%20%20%3B%0A%0A%20%20%20%20%20%20%20%20%0A%20%20%20%20%0A%20%20%20%20%0A%20%20%20%20%20%20%20%20%20%20%20%20var%20marker_bbfe42b7ceee4fb2bd32766adcd467e8%20%3D%20L.marker%28%0A%20%20%20%20%20%20%20%20%20%20%20%20%20%20%20%20%5B47.385052%2C%20-122.232689%5D%2C%0A%20%20%20%20%20%20%20%20%20%20%20%20%20%20%20%20%7B%7D%0A%20%20%20%20%20%20%20%20%20%20%20%20%29.addTo%28map_ad8c12dc0cb04e30bfe2e3440a47de1c%29%3B%0A%20%20%20%20%20%20%20%20%0A%20%20%20%20%0A%20%20%20%20%20%20%20%20%20%20%20%20var%20icon_2e3c4443fadf4044895c386aa363391a%20%3D%20L.AwesomeMarkers.icon%28%0A%20%20%20%20%20%20%20%20%20%20%20%20%20%20%20%20%7B%22extraClasses%22%3A%20%22fa-rotate-0%22%2C%20%22icon%22%3A%20%22info-sign%22%2C%20%22iconColor%22%3A%20%22white%22%2C%20%22markerColor%22%3A%20%22blue%22%2C%20%22prefix%22%3A%20%22glyphicon%22%7D%0A%20%20%20%20%20%20%20%20%20%20%20%20%29%3B%0A%20%20%20%20%20%20%20%20%20%20%20%20marker_bbfe42b7ceee4fb2bd32766adcd467e8.setIcon%28icon_2e3c4443fadf4044895c386aa363391a%29%3B%0A%20%20%20%20%20%20%20%20%0A%20%20%20%20%0A%20%20%20%20%20%20%20%20var%20popup_863d8663d84a4ce49b7a848379068dbb%20%3D%20L.popup%28%7B%22maxWidth%22%3A%20%22100%25%22%7D%29%3B%0A%0A%20%20%20%20%20%20%20%20%0A%20%20%20%20%20%20%20%20%20%20%20%20var%20html_a82e7cd3e24c4cc39eab63db9e6e06ad%20%3D%20%24%28%60%3Cdiv%20id%3D%22html_a82e7cd3e24c4cc39eab63db9e6e06ad%22%20style%3D%22width%3A%20100.0%25%3B%20height%3A%20100.0%25%3B%22%3EName%3A%20Kent%20Sounder%20Station%20-%20Bay%201%3Cbr%3E%3C/div%3E%60%29%5B0%5D%3B%0A%20%20%20%20%20%20%20%20%20%20%20%20popup_863d8663d84a4ce49b7a848379068dbb.setContent%28html_a82e7cd3e24c4cc39eab63db9e6e06ad%29%3B%0A%20%20%20%20%20%20%20%20%0A%0A%20%20%20%20%20%20%20%20marker_bbfe42b7ceee4fb2bd32766adcd467e8.bindPopup%28popup_863d8663d84a4ce49b7a848379068dbb%29%0A%20%20%20%20%20%20%20%20%3B%0A%0A%20%20%20%20%20%20%20%20%0A%20%20%20%20%0A%20%20%20%20%0A%20%20%20%20%20%20%20%20%20%20%20%20var%20marker_0e363a94428d4ce68afe20176a82cbd5%20%3D%20L.marker%28%0A%20%20%20%20%20%20%20%20%20%20%20%20%20%20%20%20%5B47.384529%2C%20-122.232689%5D%2C%0A%20%20%20%20%20%20%20%20%20%20%20%20%20%20%20%20%7B%7D%0A%20%20%20%20%20%20%20%20%20%20%20%20%29.addTo%28map_ad8c12dc0cb04e30bfe2e3440a47de1c%29%3B%0A%20%20%20%20%20%20%20%20%0A%20%20%20%20%0A%20%20%20%20%20%20%20%20%20%20%20%20var%20icon_f938dc1ffcdd4ea7bf5358c5802bd9cb%20%3D%20L.AwesomeMarkers.icon%28%0A%20%20%20%20%20%20%20%20%20%20%20%20%20%20%20%20%7B%22extraClasses%22%3A%20%22fa-rotate-0%22%2C%20%22icon%22%3A%20%22info-sign%22%2C%20%22iconColor%22%3A%20%22white%22%2C%20%22markerColor%22%3A%20%22blue%22%2C%20%22prefix%22%3A%20%22glyphicon%22%7D%0A%20%20%20%20%20%20%20%20%20%20%20%20%29%3B%0A%20%20%20%20%20%20%20%20%20%20%20%20marker_0e363a94428d4ce68afe20176a82cbd5.setIcon%28icon_f938dc1ffcdd4ea7bf5358c5802bd9cb%29%3B%0A%20%20%20%20%20%20%20%20%0A%20%20%20%20%0A%20%20%20%20%20%20%20%20var%20popup_123983c8db324290a2b67d82934650e4%20%3D%20L.popup%28%7B%22maxWidth%22%3A%20%22100%25%22%7D%29%3B%0A%0A%20%20%20%20%20%20%20%20%0A%20%20%20%20%20%20%20%20%20%20%20%20var%20html_80b08af899ce4c7aaba9178e99cf5cdc%20%3D%20%24%28%60%3Cdiv%20id%3D%22html_80b08af899ce4c7aaba9178e99cf5cdc%22%20style%3D%22width%3A%20100.0%25%3B%20height%3A%20100.0%25%3B%22%3EName%3A%20Kent%20Sounder%20Station%20-%20Bay%203%3Cbr%3E%3C/div%3E%60%29%5B0%5D%3B%0A%20%20%20%20%20%20%20%20%20%20%20%20popup_123983c8db324290a2b67d82934650e4.setContent%28html_80b08af899ce4c7aaba9178e99cf5cdc%29%3B%0A%20%20%20%20%20%20%20%20%0A%0A%20%20%20%20%20%20%20%20marker_0e363a94428d4ce68afe20176a82cbd5.bindPopup%28popup_123983c8db324290a2b67d82934650e4%29%0A%20%20%20%20%20%20%20%20%3B%0A%0A%20%20%20%20%20%20%20%20%0A%20%20%20%20%0A%20%20%20%20%0A%20%20%20%20%20%20%20%20%20%20%20%20var%20marker_742b3dcc53c641b69351b9da0a9e6e72%20%3D%20L.marker%28%0A%20%20%20%20%20%20%20%20%20%20%20%20%20%20%20%20%5B47.383431%2C%20-122.232483%5D%2C%0A%20%20%20%20%20%20%20%20%20%20%20%20%20%20%20%20%7B%7D%0A%20%20%20%20%20%20%20%20%20%20%20%20%29.addTo%28map_ad8c12dc0cb04e30bfe2e3440a47de1c%29%3B%0A%20%20%20%20%20%20%20%20%0A%20%20%20%20%0A%20%20%20%20%20%20%20%20%20%20%20%20var%20icon_6f4a0e20592549708c008b9adab5b9bc%20%3D%20L.AwesomeMarkers.icon%28%0A%20%20%20%20%20%20%20%20%20%20%20%20%20%20%20%20%7B%22extraClasses%22%3A%20%22fa-rotate-0%22%2C%20%22icon%22%3A%20%22info-sign%22%2C%20%22iconColor%22%3A%20%22white%22%2C%20%22markerColor%22%3A%20%22blue%22%2C%20%22prefix%22%3A%20%22glyphicon%22%7D%0A%20%20%20%20%20%20%20%20%20%20%20%20%29%3B%0A%20%20%20%20%20%20%20%20%20%20%20%20marker_742b3dcc53c641b69351b9da0a9e6e72.setIcon%28icon_6f4a0e20592549708c008b9adab5b9bc%29%3B%0A%20%20%20%20%20%20%20%20%0A%20%20%20%20%0A%20%20%20%20%20%20%20%20var%20popup_ab3681a19e6c45df840583fbbd0a74b1%20%3D%20L.popup%28%7B%22maxWidth%22%3A%20%22100%25%22%7D%29%3B%0A%0A%20%20%20%20%20%20%20%20%0A%20%20%20%20%20%20%20%20%20%20%20%20var%20html_44556359b4a44d6aa0f802cf2cba238c%20%3D%20%24%28%60%3Cdiv%20id%3D%22html_44556359b4a44d6aa0f802cf2cba238c%22%20style%3D%22width%3A%20100.0%25%3B%20height%3A%20100.0%25%3B%22%3EName%3A%20Kent%20Sounder%20Station%20-%20Bay%209%3Cbr%3E%3C/div%3E%60%29%5B0%5D%3B%0A%20%20%20%20%20%20%20%20%20%20%20%20popup_ab3681a19e6c45df840583fbbd0a74b1.setContent%28html_44556359b4a44d6aa0f802cf2cba238c%29%3B%0A%20%20%20%20%20%20%20%20%0A%0A%20%20%20%20%20%20%20%20marker_742b3dcc53c641b69351b9da0a9e6e72.bindPopup%28popup_ab3681a19e6c45df840583fbbd0a74b1%29%0A%20%20%20%20%20%20%20%20%3B%0A%0A%20%20%20%20%20%20%20%20%0A%20%20%20%20%0A%20%20%20%20%0A%20%20%20%20%20%20%20%20%20%20%20%20var%20marker_02a82d1d43d24168bcc26c3de62caf43%20%3D%20L.marker%28%0A%20%20%20%20%20%20%20%20%20%20%20%20%20%20%20%20%5B47.457752%2C%20-122.254478%5D%2C%0A%20%20%20%20%20%20%20%20%20%20%20%20%20%20%20%20%7B%7D%0A%20%20%20%20%20%20%20%20%20%20%20%20%29.addTo%28map_ad8c12dc0cb04e30bfe2e3440a47de1c%29%3B%0A%20%20%20%20%20%20%20%20%0A%20%20%20%20%0A%20%20%20%20%20%20%20%20%20%20%20%20var%20icon_19a823c7a9054c828bc9a2f3f28e3f2f%20%3D%20L.AwesomeMarkers.icon%28%0A%20%20%20%20%20%20%20%20%20%20%20%20%20%20%20%20%7B%22extraClasses%22%3A%20%22fa-rotate-0%22%2C%20%22icon%22%3A%20%22info-sign%22%2C%20%22iconColor%22%3A%20%22white%22%2C%20%22markerColor%22%3A%20%22blue%22%2C%20%22prefix%22%3A%20%22glyphicon%22%7D%0A%20%20%20%20%20%20%20%20%20%20%20%20%29%3B%0A%20%20%20%20%20%20%20%20%20%20%20%20marker_02a82d1d43d24168bcc26c3de62caf43.setIcon%28icon_19a823c7a9054c828bc9a2f3f28e3f2f%29%3B%0A%20%20%20%20%20%20%20%20%0A%20%20%20%20%0A%20%20%20%20%20%20%20%20var%20popup_4af5c0ba056e424d9f5cd59ff2da81a9%20%3D%20L.popup%28%7B%22maxWidth%22%3A%20%22100%25%22%7D%29%3B%0A%0A%20%20%20%20%20%20%20%20%0A%20%20%20%20%20%20%20%20%20%20%20%20var%20html_a00ddd71ee024f2d869a5cd843f4ed38%20%3D%20%24%28%60%3Cdiv%20id%3D%22html_a00ddd71ee024f2d869a5cd843f4ed38%22%20style%3D%22width%3A%20100.0%25%3B%20height%3A%20100.0%25%3B%22%3EName%3A%20Andover%20Park%20W%20%26%20Baker%20Blvd%20-%20Bay%202%3Cbr%3E%3C/div%3E%60%29%5B0%5D%3B%0A%20%20%20%20%20%20%20%20%20%20%20%20popup_4af5c0ba056e424d9f5cd59ff2da81a9.setContent%28html_a00ddd71ee024f2d869a5cd843f4ed38%29%3B%0A%20%20%20%20%20%20%20%20%0A%0A%20%20%20%20%20%20%20%20marker_02a82d1d43d24168bcc26c3de62caf43.bindPopup%28popup_4af5c0ba056e424d9f5cd59ff2da81a9%29%0A%20%20%20%20%20%20%20%20%3B%0A%0A%20%20%20%20%20%20%20%20%0A%20%20%20%20%0A%20%20%20%20%0A%20%20%20%20%20%20%20%20%20%20%20%20var%20marker_ce3e2c87c9c344a49f5854b530fb1c1a%20%3D%20L.marker%28%0A%20%20%20%20%20%20%20%20%20%20%20%20%20%20%20%20%5B47.458714%2C%20-122.254272%5D%2C%0A%20%20%20%20%20%20%20%20%20%20%20%20%20%20%20%20%7B%7D%0A%20%20%20%20%20%20%20%20%20%20%20%20%29.addTo%28map_ad8c12dc0cb04e30bfe2e3440a47de1c%29%3B%0A%20%20%20%20%20%20%20%20%0A%20%20%20%20%0A%20%20%20%20%20%20%20%20%20%20%20%20var%20icon_06838b004ea54e3fae7ea815c08d82bc%20%3D%20L.AwesomeMarkers.icon%28%0A%20%20%20%20%20%20%20%20%20%20%20%20%20%20%20%20%7B%22extraClasses%22%3A%20%22fa-rotate-0%22%2C%20%22icon%22%3A%20%22info-sign%22%2C%20%22iconColor%22%3A%20%22white%22%2C%20%22markerColor%22%3A%20%22blue%22%2C%20%22prefix%22%3A%20%22glyphicon%22%7D%0A%20%20%20%20%20%20%20%20%20%20%20%20%29%3B%0A%20%20%20%20%20%20%20%20%20%20%20%20marker_ce3e2c87c9c344a49f5854b530fb1c1a.setIcon%28icon_06838b004ea54e3fae7ea815c08d82bc%29%3B%0A%20%20%20%20%20%20%20%20%0A%20%20%20%20%0A%20%20%20%20%20%20%20%20var%20popup_0b523bed7a9e47a29c553910427fd460%20%3D%20L.popup%28%7B%22maxWidth%22%3A%20%22100%25%22%7D%29%3B%0A%0A%20%20%20%20%20%20%20%20%0A%20%20%20%20%20%20%20%20%20%20%20%20var%20html_8c33b5824ccb4c1cac1d4f7c8bcf7c57%20%3D%20%24%28%60%3Cdiv%20id%3D%22html_8c33b5824ccb4c1cac1d4f7c8bcf7c57%22%20style%3D%22width%3A%20100.0%25%3B%20height%3A%20100.0%25%3B%22%3EName%3A%20Andover%20Park%20W%20%26%20Baker%20Blvd%20-%20Bay%203%3Cbr%3E%3C/div%3E%60%29%5B0%5D%3B%0A%20%20%20%20%20%20%20%20%20%20%20%20popup_0b523bed7a9e47a29c553910427fd460.setContent%28html_8c33b5824ccb4c1cac1d4f7c8bcf7c57%29%3B%0A%20%20%20%20%20%20%20%20%0A%0A%20%20%20%20%20%20%20%20marker_ce3e2c87c9c344a49f5854b530fb1c1a.bindPopup%28popup_0b523bed7a9e47a29c553910427fd460%29%0A%20%20%20%20%20%20%20%20%3B%0A%0A%20%20%20%20%20%20%20%20%0A%20%20%20%20%0A%20%20%20%20%0A%20%20%20%20%20%20%20%20%20%20%20%20var%20marker_12d906e86ab2437eae188a2ee8b88a38%20%3D%20L.marker%28%0A%20%20%20%20%20%20%20%20%20%20%20%20%20%20%20%20%5B47.615501%2C%20-122.194511%5D%2C%0A%20%20%20%20%20%20%20%20%20%20%20%20%20%20%20%20%7B%7D%0A%20%20%20%20%20%20%20%20%20%20%20%20%29.addTo%28map_ad8c12dc0cb04e30bfe2e3440a47de1c%29%3B%0A%20%20%20%20%20%20%20%20%0A%20%20%20%20%0A%20%20%20%20%20%20%20%20%20%20%20%20var%20icon_ec7e234723c948c9843d11465b00bd11%20%3D%20L.AwesomeMarkers.icon%28%0A%20%20%20%20%20%20%20%20%20%20%20%20%20%20%20%20%7B%22extraClasses%22%3A%20%22fa-rotate-0%22%2C%20%22icon%22%3A%20%22info-sign%22%2C%20%22iconColor%22%3A%20%22white%22%2C%20%22markerColor%22%3A%20%22blue%22%2C%20%22prefix%22%3A%20%22glyphicon%22%7D%0A%20%20%20%20%20%20%20%20%20%20%20%20%29%3B%0A%20%20%20%20%20%20%20%20%20%20%20%20marker_12d906e86ab2437eae188a2ee8b88a38.setIcon%28icon_ec7e234723c948c9843d11465b00bd11%29%3B%0A%20%20%20%20%20%20%20%20%0A%20%20%20%20%0A%20%20%20%20%20%20%20%20var%20popup_6dc9782e07dc467e8d86363cb76dcb01%20%3D%20L.popup%28%7B%22maxWidth%22%3A%20%22100%25%22%7D%29%3B%0A%0A%20%20%20%20%20%20%20%20%0A%20%20%20%20%20%20%20%20%20%20%20%20var%20html_fe39d6991a5040bab84182f49d4544a3%20%3D%20%24%28%60%3Cdiv%20id%3D%22html_fe39d6991a5040bab84182f49d4544a3%22%20style%3D%22width%3A%20100.0%25%3B%20height%3A%20100.0%25%3B%22%3EName%3A%20Bellevue%20Transit%20Center%20-%20Bay%205%3Cbr%3E%3C/div%3E%60%29%5B0%5D%3B%0A%20%20%20%20%20%20%20%20%20%20%20%20popup_6dc9782e07dc467e8d86363cb76dcb01.setContent%28html_fe39d6991a5040bab84182f49d4544a3%29%3B%0A%20%20%20%20%20%20%20%20%0A%0A%20%20%20%20%20%20%20%20marker_12d906e86ab2437eae188a2ee8b88a38.bindPopup%28popup_6dc9782e07dc467e8d86363cb76dcb01%29%0A%20%20%20%20%20%20%20%20%3B%0A%0A%20%20%20%20%20%20%20%20%0A%20%20%20%20%0A%3C/script%3E onload=\"this.contentDocument.open();this.contentDocument.write(    decodeURIComponent(this.getAttribute('data-html')));this.contentDocument.close();\" allowfullscreen webkitallowfullscreen mozallowfullscreen></iframe></div></div>"
      ],
      "text/plain": [
       "<folium.folium.Map at 0x7fd2091c9340>"
      ]
     },
     "execution_count": 129,
     "metadata": {},
     "output_type": "execute_result"
    }
   ],
   "source": [
    "df_e_rush=df[(df['ACTUAL_DEPARTURE_SECS_AFTER_MIDNT']>e_start) & (df['ACTUAL_DEPARTURE_SECS_AFTER_MIDNT']<e_end)]\n",
    "\n",
    "top_evening=df_e_rush.groupby('STOP_ID').agg({'PSNGR_ACTIVITY':'mean','STOP_NM':'first'}).nlargest(10,'PSNGR_ACTIVITY')\n",
    "\n",
    "evening=geoloc.merge(top_evening, how='inner', right_on='STOP_ID',left_on=\"stop_id\")\n",
    "evening\n",
    "\n",
    "geo_df_list = [[point.xy[1][0], point.xy[0][0]] for point in evening.geometry ]\n",
    "mapping = folium.Map(location = [47.59789702474227, -122.31735261797544], tiles = \"OpenStreetMap\", zoom_start = 10)\n",
    "i=0\n",
    "for coordinates in geo_df_list[:10]:\n",
    "    mapping.add_child(folium.Marker(location = coordinates,popup =\n",
    "                            \"Name: \" + str(evening.stop_name[i]) + '<br>',\n",
    "                            icon = folium.Icon()))\n",
    "    i = i + 1\n",
    "\n",
    "mapping"
   ]
  },
  {
   "cell_type": "code",
   "execution_count": 128,
   "id": "d35d0578",
   "metadata": {},
   "outputs": [
    {
     "data": {
      "text/html": [
       "<div style=\"width:100%;\"><div style=\"position:relative;width:100%;height:0;padding-bottom:60%;\"><span style=\"color:#565656\">Make this Notebook Trusted to load map: File -> Trust Notebook</span><iframe src=\"about:blank\" style=\"position:absolute;width:100%;height:100%;left:0;top:0;border:none !important;\" data-html=%3C%21DOCTYPE%20html%3E%0A%3Chead%3E%20%20%20%20%0A%20%20%20%20%3Cmeta%20http-equiv%3D%22content-type%22%20content%3D%22text/html%3B%20charset%3DUTF-8%22%20/%3E%0A%20%20%20%20%0A%20%20%20%20%20%20%20%20%3Cscript%3E%0A%20%20%20%20%20%20%20%20%20%20%20%20L_NO_TOUCH%20%3D%20false%3B%0A%20%20%20%20%20%20%20%20%20%20%20%20L_DISABLE_3D%20%3D%20false%3B%0A%20%20%20%20%20%20%20%20%3C/script%3E%0A%20%20%20%20%0A%20%20%20%20%3Cstyle%3Ehtml%2C%20body%20%7Bwidth%3A%20100%25%3Bheight%3A%20100%25%3Bmargin%3A%200%3Bpadding%3A%200%3B%7D%3C/style%3E%0A%20%20%20%20%3Cstyle%3E%23map%20%7Bposition%3Aabsolute%3Btop%3A0%3Bbottom%3A0%3Bright%3A0%3Bleft%3A0%3B%7D%3C/style%3E%0A%20%20%20%20%3Cscript%20src%3D%22https%3A//cdn.jsdelivr.net/npm/leaflet%401.6.0/dist/leaflet.js%22%3E%3C/script%3E%0A%20%20%20%20%3Cscript%20src%3D%22https%3A//code.jquery.com/jquery-1.12.4.min.js%22%3E%3C/script%3E%0A%20%20%20%20%3Cscript%20src%3D%22https%3A//maxcdn.bootstrapcdn.com/bootstrap/3.2.0/js/bootstrap.min.js%22%3E%3C/script%3E%0A%20%20%20%20%3Cscript%20src%3D%22https%3A//cdnjs.cloudflare.com/ajax/libs/Leaflet.awesome-markers/2.0.2/leaflet.awesome-markers.js%22%3E%3C/script%3E%0A%20%20%20%20%3Clink%20rel%3D%22stylesheet%22%20href%3D%22https%3A//cdn.jsdelivr.net/npm/leaflet%401.6.0/dist/leaflet.css%22/%3E%0A%20%20%20%20%3Clink%20rel%3D%22stylesheet%22%20href%3D%22https%3A//maxcdn.bootstrapcdn.com/bootstrap/3.2.0/css/bootstrap.min.css%22/%3E%0A%20%20%20%20%3Clink%20rel%3D%22stylesheet%22%20href%3D%22https%3A//maxcdn.bootstrapcdn.com/bootstrap/3.2.0/css/bootstrap-theme.min.css%22/%3E%0A%20%20%20%20%3Clink%20rel%3D%22stylesheet%22%20href%3D%22https%3A//maxcdn.bootstrapcdn.com/font-awesome/4.6.3/css/font-awesome.min.css%22/%3E%0A%20%20%20%20%3Clink%20rel%3D%22stylesheet%22%20href%3D%22https%3A//cdnjs.cloudflare.com/ajax/libs/Leaflet.awesome-markers/2.0.2/leaflet.awesome-markers.css%22/%3E%0A%20%20%20%20%3Clink%20rel%3D%22stylesheet%22%20href%3D%22https%3A//cdn.jsdelivr.net/gh/python-visualization/folium/folium/templates/leaflet.awesome.rotate.min.css%22/%3E%0A%20%20%20%20%0A%20%20%20%20%20%20%20%20%20%20%20%20%3Cmeta%20name%3D%22viewport%22%20content%3D%22width%3Ddevice-width%2C%0A%20%20%20%20%20%20%20%20%20%20%20%20%20%20%20%20initial-scale%3D1.0%2C%20maximum-scale%3D1.0%2C%20user-scalable%3Dno%22%20/%3E%0A%20%20%20%20%20%20%20%20%20%20%20%20%3Cstyle%3E%0A%20%20%20%20%20%20%20%20%20%20%20%20%20%20%20%20%23map_c579b89cd0b54215a9b43163189d73c7%20%7B%0A%20%20%20%20%20%20%20%20%20%20%20%20%20%20%20%20%20%20%20%20position%3A%20relative%3B%0A%20%20%20%20%20%20%20%20%20%20%20%20%20%20%20%20%20%20%20%20width%3A%20100.0%25%3B%0A%20%20%20%20%20%20%20%20%20%20%20%20%20%20%20%20%20%20%20%20height%3A%20100.0%25%3B%0A%20%20%20%20%20%20%20%20%20%20%20%20%20%20%20%20%20%20%20%20left%3A%200.0%25%3B%0A%20%20%20%20%20%20%20%20%20%20%20%20%20%20%20%20%20%20%20%20top%3A%200.0%25%3B%0A%20%20%20%20%20%20%20%20%20%20%20%20%20%20%20%20%7D%0A%20%20%20%20%20%20%20%20%20%20%20%20%3C/style%3E%0A%20%20%20%20%20%20%20%20%0A%3C/head%3E%0A%3Cbody%3E%20%20%20%20%0A%20%20%20%20%0A%20%20%20%20%20%20%20%20%20%20%20%20%3Cdiv%20class%3D%22folium-map%22%20id%3D%22map_c579b89cd0b54215a9b43163189d73c7%22%20%3E%3C/div%3E%0A%20%20%20%20%20%20%20%20%0A%3C/body%3E%0A%3Cscript%3E%20%20%20%20%0A%20%20%20%20%0A%20%20%20%20%20%20%20%20%20%20%20%20var%20map_c579b89cd0b54215a9b43163189d73c7%20%3D%20L.map%28%0A%20%20%20%20%20%20%20%20%20%20%20%20%20%20%20%20%22map_c579b89cd0b54215a9b43163189d73c7%22%2C%0A%20%20%20%20%20%20%20%20%20%20%20%20%20%20%20%20%7B%0A%20%20%20%20%20%20%20%20%20%20%20%20%20%20%20%20%20%20%20%20center%3A%20%5B47.59789702474227%2C%20-122.31735261797544%5D%2C%0A%20%20%20%20%20%20%20%20%20%20%20%20%20%20%20%20%20%20%20%20crs%3A%20L.CRS.EPSG3857%2C%0A%20%20%20%20%20%20%20%20%20%20%20%20%20%20%20%20%20%20%20%20zoom%3A%2010%2C%0A%20%20%20%20%20%20%20%20%20%20%20%20%20%20%20%20%20%20%20%20zoomControl%3A%20true%2C%0A%20%20%20%20%20%20%20%20%20%20%20%20%20%20%20%20%20%20%20%20preferCanvas%3A%20false%2C%0A%20%20%20%20%20%20%20%20%20%20%20%20%20%20%20%20%7D%0A%20%20%20%20%20%20%20%20%20%20%20%20%29%3B%0A%0A%20%20%20%20%20%20%20%20%20%20%20%20%0A%0A%20%20%20%20%20%20%20%20%0A%20%20%20%20%0A%20%20%20%20%20%20%20%20%20%20%20%20var%20tile_layer_4166dcd0291c4bb2881f9f6814c0ba39%20%3D%20L.tileLayer%28%0A%20%20%20%20%20%20%20%20%20%20%20%20%20%20%20%20%22https%3A//%7Bs%7D.tile.openstreetmap.org/%7Bz%7D/%7Bx%7D/%7By%7D.png%22%2C%0A%20%20%20%20%20%20%20%20%20%20%20%20%20%20%20%20%7B%22attribution%22%3A%20%22Data%20by%20%5Cu0026copy%3B%20%5Cu003ca%20href%3D%5C%22http%3A//openstreetmap.org%5C%22%5Cu003eOpenStreetMap%5Cu003c/a%5Cu003e%2C%20under%20%5Cu003ca%20href%3D%5C%22http%3A//www.openstreetmap.org/copyright%5C%22%5Cu003eODbL%5Cu003c/a%5Cu003e.%22%2C%20%22detectRetina%22%3A%20false%2C%20%22maxNativeZoom%22%3A%2018%2C%20%22maxZoom%22%3A%2018%2C%20%22minZoom%22%3A%200%2C%20%22noWrap%22%3A%20false%2C%20%22opacity%22%3A%201%2C%20%22subdomains%22%3A%20%22abc%22%2C%20%22tms%22%3A%20false%7D%0A%20%20%20%20%20%20%20%20%20%20%20%20%29.addTo%28map_c579b89cd0b54215a9b43163189d73c7%29%3B%0A%20%20%20%20%20%20%20%20%0A%20%20%20%20%0A%20%20%20%20%20%20%20%20%20%20%20%20var%20marker_f9d3d4628966429288019dba760cb3e8%20%3D%20L.marker%28%0A%20%20%20%20%20%20%20%20%20%20%20%20%20%20%20%20%5B47.608955%2C%20-122.324913%5D%2C%0A%20%20%20%20%20%20%20%20%20%20%20%20%20%20%20%20%7B%7D%0A%20%20%20%20%20%20%20%20%20%20%20%20%29.addTo%28map_c579b89cd0b54215a9b43163189d73c7%29%3B%0A%20%20%20%20%20%20%20%20%0A%20%20%20%20%0A%20%20%20%20%20%20%20%20%20%20%20%20var%20icon_c50422d4243d4995bd772f9b1fd8a457%20%3D%20L.AwesomeMarkers.icon%28%0A%20%20%20%20%20%20%20%20%20%20%20%20%20%20%20%20%7B%22extraClasses%22%3A%20%22fa-rotate-0%22%2C%20%22icon%22%3A%20%22info-sign%22%2C%20%22iconColor%22%3A%20%22white%22%2C%20%22markerColor%22%3A%20%22blue%22%2C%20%22prefix%22%3A%20%22glyphicon%22%7D%0A%20%20%20%20%20%20%20%20%20%20%20%20%29%3B%0A%20%20%20%20%20%20%20%20%20%20%20%20marker_f9d3d4628966429288019dba760cb3e8.setIcon%28icon_c50422d4243d4995bd772f9b1fd8a457%29%3B%0A%20%20%20%20%20%20%20%20%0A%20%20%20%20%0A%20%20%20%20%20%20%20%20var%20popup_2cf11ae917674e8fab0f6ec8c405ba0e%20%3D%20L.popup%28%7B%22maxWidth%22%3A%20%22100%25%22%7D%29%3B%0A%0A%20%20%20%20%20%20%20%20%0A%20%20%20%20%20%20%20%20%20%20%20%20var%20html_929d0e29dbbd407db3d35b12ef760fc7%20%3D%20%24%28%60%3Cdiv%20id%3D%22html_929d0e29dbbd407db3d35b12ef760fc7%22%20style%3D%22width%3A%20100.0%25%3B%20height%3A%20100.0%25%3B%22%3EName%3A%20Boren%20Ave%20%26%20Madison%20St%3Cbr%3E%3C/div%3E%60%29%5B0%5D%3B%0A%20%20%20%20%20%20%20%20%20%20%20%20popup_2cf11ae917674e8fab0f6ec8c405ba0e.setContent%28html_929d0e29dbbd407db3d35b12ef760fc7%29%3B%0A%20%20%20%20%20%20%20%20%0A%0A%20%20%20%20%20%20%20%20marker_f9d3d4628966429288019dba760cb3e8.bindPopup%28popup_2cf11ae917674e8fab0f6ec8c405ba0e%29%0A%20%20%20%20%20%20%20%20%3B%0A%0A%20%20%20%20%20%20%20%20%0A%20%20%20%20%0A%20%20%20%20%0A%20%20%20%20%20%20%20%20%20%20%20%20var%20marker_d820924f9eb34d56b4dda43ddd1fbaba%20%3D%20L.marker%28%0A%20%20%20%20%20%20%20%20%20%20%20%20%20%20%20%20%5B47.604874%2C%20-122.324242%5D%2C%0A%20%20%20%20%20%20%20%20%20%20%20%20%20%20%20%20%7B%7D%0A%20%20%20%20%20%20%20%20%20%20%20%20%29.addTo%28map_c579b89cd0b54215a9b43163189d73c7%29%3B%0A%20%20%20%20%20%20%20%20%0A%20%20%20%20%0A%20%20%20%20%20%20%20%20%20%20%20%20var%20icon_e9c332b894ea4720a74db9fb43020193%20%3D%20L.AwesomeMarkers.icon%28%0A%20%20%20%20%20%20%20%20%20%20%20%20%20%20%20%20%7B%22extraClasses%22%3A%20%22fa-rotate-0%22%2C%20%22icon%22%3A%20%22info-sign%22%2C%20%22iconColor%22%3A%20%22white%22%2C%20%22markerColor%22%3A%20%22blue%22%2C%20%22prefix%22%3A%20%22glyphicon%22%7D%0A%20%20%20%20%20%20%20%20%20%20%20%20%29%3B%0A%20%20%20%20%20%20%20%20%20%20%20%20marker_d820924f9eb34d56b4dda43ddd1fbaba.setIcon%28icon_e9c332b894ea4720a74db9fb43020193%29%3B%0A%20%20%20%20%20%20%20%20%0A%20%20%20%20%0A%20%20%20%20%20%20%20%20var%20popup_72b2c77689a345a9ab897d1d625e58cd%20%3D%20L.popup%28%7B%22maxWidth%22%3A%20%22100%25%22%7D%29%3B%0A%0A%20%20%20%20%20%20%20%20%0A%20%20%20%20%20%20%20%20%20%20%20%20var%20html_686481e06a2244ed85db64cb1ee400bf%20%3D%20%24%28%60%3Cdiv%20id%3D%22html_686481e06a2244ed85db64cb1ee400bf%22%20style%3D%22width%3A%20100.0%25%3B%20height%3A%20100.0%25%3B%22%3EName%3A%209th%20Ave%20%26%20Jefferson%20St%3Cbr%3E%3C/div%3E%60%29%5B0%5D%3B%0A%20%20%20%20%20%20%20%20%20%20%20%20popup_72b2c77689a345a9ab897d1d625e58cd.setContent%28html_686481e06a2244ed85db64cb1ee400bf%29%3B%0A%20%20%20%20%20%20%20%20%0A%0A%20%20%20%20%20%20%20%20marker_d820924f9eb34d56b4dda43ddd1fbaba.bindPopup%28popup_72b2c77689a345a9ab897d1d625e58cd%29%0A%20%20%20%20%20%20%20%20%3B%0A%0A%20%20%20%20%20%20%20%20%0A%20%20%20%20%0A%20%20%20%20%0A%20%20%20%20%20%20%20%20%20%20%20%20var%20marker_4303df2cb1e942cfa72073e2e41059b1%20%3D%20L.marker%28%0A%20%20%20%20%20%20%20%20%20%20%20%20%20%20%20%20%5B47.603081%2C%20-122.330864%5D%2C%0A%20%20%20%20%20%20%20%20%20%20%20%20%20%20%20%20%7B%7D%0A%20%20%20%20%20%20%20%20%20%20%20%20%29.addTo%28map_c579b89cd0b54215a9b43163189d73c7%29%3B%0A%20%20%20%20%20%20%20%20%0A%20%20%20%20%0A%20%20%20%20%20%20%20%20%20%20%20%20var%20icon_0005253ae7234a14921243765654639e%20%3D%20L.AwesomeMarkers.icon%28%0A%20%20%20%20%20%20%20%20%20%20%20%20%20%20%20%20%7B%22extraClasses%22%3A%20%22fa-rotate-0%22%2C%20%22icon%22%3A%20%22info-sign%22%2C%20%22iconColor%22%3A%20%22white%22%2C%20%22markerColor%22%3A%20%22blue%22%2C%20%22prefix%22%3A%20%22glyphicon%22%7D%0A%20%20%20%20%20%20%20%20%20%20%20%20%29%3B%0A%20%20%20%20%20%20%20%20%20%20%20%20marker_4303df2cb1e942cfa72073e2e41059b1.setIcon%28icon_0005253ae7234a14921243765654639e%29%3B%0A%20%20%20%20%20%20%20%20%0A%20%20%20%20%0A%20%20%20%20%20%20%20%20var%20popup_e03740e7197a4b7fad7ea5d8e4b0256b%20%3D%20L.popup%28%7B%22maxWidth%22%3A%20%22100%25%22%7D%29%3B%0A%0A%20%20%20%20%20%20%20%20%0A%20%20%20%20%20%20%20%20%20%20%20%20var%20html_a303b54c141540f89d90e0ee0ccefdf3%20%3D%20%24%28%60%3Cdiv%20id%3D%22html_a303b54c141540f89d90e0ee0ccefdf3%22%20style%3D%22width%3A%20100.0%25%3B%20height%3A%20100.0%25%3B%22%3EName%3A%20James%20St%20%26%204th%20Ave%3Cbr%3E%3C/div%3E%60%29%5B0%5D%3B%0A%20%20%20%20%20%20%20%20%20%20%20%20popup_e03740e7197a4b7fad7ea5d8e4b0256b.setContent%28html_a303b54c141540f89d90e0ee0ccefdf3%29%3B%0A%20%20%20%20%20%20%20%20%0A%0A%20%20%20%20%20%20%20%20marker_4303df2cb1e942cfa72073e2e41059b1.bindPopup%28popup_e03740e7197a4b7fad7ea5d8e4b0256b%29%0A%20%20%20%20%20%20%20%20%3B%0A%0A%20%20%20%20%20%20%20%20%0A%20%20%20%20%0A%20%20%20%20%0A%20%20%20%20%20%20%20%20%20%20%20%20var%20marker_4e37c7cdc5614512ac3df205afb93e36%20%3D%20L.marker%28%0A%20%20%20%20%20%20%20%20%20%20%20%20%20%20%20%20%5B47.650494%2C%20-122.304092%5D%2C%0A%20%20%20%20%20%20%20%20%20%20%20%20%20%20%20%20%7B%7D%0A%20%20%20%20%20%20%20%20%20%20%20%20%29.addTo%28map_c579b89cd0b54215a9b43163189d73c7%29%3B%0A%20%20%20%20%20%20%20%20%0A%20%20%20%20%0A%20%20%20%20%20%20%20%20%20%20%20%20var%20icon_064d038908504421a2a64c35602bf0d2%20%3D%20L.AwesomeMarkers.icon%28%0A%20%20%20%20%20%20%20%20%20%20%20%20%20%20%20%20%7B%22extraClasses%22%3A%20%22fa-rotate-0%22%2C%20%22icon%22%3A%20%22info-sign%22%2C%20%22iconColor%22%3A%20%22white%22%2C%20%22markerColor%22%3A%20%22blue%22%2C%20%22prefix%22%3A%20%22glyphicon%22%7D%0A%20%20%20%20%20%20%20%20%20%20%20%20%29%3B%0A%20%20%20%20%20%20%20%20%20%20%20%20marker_4e37c7cdc5614512ac3df205afb93e36.setIcon%28icon_064d038908504421a2a64c35602bf0d2%29%3B%0A%20%20%20%20%20%20%20%20%0A%20%20%20%20%0A%20%20%20%20%20%20%20%20var%20popup_7c1ffdaa8c66455b8e862c24142d894d%20%3D%20L.popup%28%7B%22maxWidth%22%3A%20%22100%25%22%7D%29%3B%0A%0A%20%20%20%20%20%20%20%20%0A%20%20%20%20%20%20%20%20%20%20%20%20var%20html_81910d44e69d48289c72240f20fe67db%20%3D%20%24%28%60%3Cdiv%20id%3D%22html_81910d44e69d48289c72240f20fe67db%22%20style%3D%22width%3A%20100.0%25%3B%20height%3A%20100.0%25%3B%22%3EName%3A%20Montlake%20Blvd%20NE%20%26%20NE%20Pacific%20Pl%20-%20Bay%204%3Cbr%3E%3C/div%3E%60%29%5B0%5D%3B%0A%20%20%20%20%20%20%20%20%20%20%20%20popup_7c1ffdaa8c66455b8e862c24142d894d.setContent%28html_81910d44e69d48289c72240f20fe67db%29%3B%0A%20%20%20%20%20%20%20%20%0A%0A%20%20%20%20%20%20%20%20marker_4e37c7cdc5614512ac3df205afb93e36.bindPopup%28popup_7c1ffdaa8c66455b8e862c24142d894d%29%0A%20%20%20%20%20%20%20%20%3B%0A%0A%20%20%20%20%20%20%20%20%0A%20%20%20%20%0A%20%20%20%20%0A%20%20%20%20%20%20%20%20%20%20%20%20var%20marker_fb8b0bb92f16440099601a2dd610ef1a%20%3D%20L.marker%28%0A%20%20%20%20%20%20%20%20%20%20%20%20%20%20%20%20%5B47.48011%2C%20-122.20813%5D%2C%0A%20%20%20%20%20%20%20%20%20%20%20%20%20%20%20%20%7B%7D%0A%20%20%20%20%20%20%20%20%20%20%20%20%29.addTo%28map_c579b89cd0b54215a9b43163189d73c7%29%3B%0A%20%20%20%20%20%20%20%20%0A%20%20%20%20%0A%20%20%20%20%20%20%20%20%20%20%20%20var%20icon_7ff34006454f4313a70550448fdcd630%20%3D%20L.AwesomeMarkers.icon%28%0A%20%20%20%20%20%20%20%20%20%20%20%20%20%20%20%20%7B%22extraClasses%22%3A%20%22fa-rotate-0%22%2C%20%22icon%22%3A%20%22info-sign%22%2C%20%22iconColor%22%3A%20%22white%22%2C%20%22markerColor%22%3A%20%22blue%22%2C%20%22prefix%22%3A%20%22glyphicon%22%7D%0A%20%20%20%20%20%20%20%20%20%20%20%20%29%3B%0A%20%20%20%20%20%20%20%20%20%20%20%20marker_fb8b0bb92f16440099601a2dd610ef1a.setIcon%28icon_7ff34006454f4313a70550448fdcd630%29%3B%0A%20%20%20%20%20%20%20%20%0A%20%20%20%20%0A%20%20%20%20%20%20%20%20var%20popup_13216c4da2c04324b8df79eee641fad6%20%3D%20L.popup%28%7B%22maxWidth%22%3A%20%22100%25%22%7D%29%3B%0A%0A%20%20%20%20%20%20%20%20%0A%20%20%20%20%20%20%20%20%20%20%20%20var%20html_34eb3aa8e0a94f18a56c211f1e42aa86%20%3D%20%24%28%60%3Cdiv%20id%3D%22html_34eb3aa8e0a94f18a56c211f1e42aa86%22%20style%3D%22width%3A%20100.0%25%3B%20height%3A%20100.0%25%3B%22%3EName%3A%20Renton%20Transit%20Center%20-%20Bay%206%3Cbr%3E%3C/div%3E%60%29%5B0%5D%3B%0A%20%20%20%20%20%20%20%20%20%20%20%20popup_13216c4da2c04324b8df79eee641fad6.setContent%28html_34eb3aa8e0a94f18a56c211f1e42aa86%29%3B%0A%20%20%20%20%20%20%20%20%0A%0A%20%20%20%20%20%20%20%20marker_fb8b0bb92f16440099601a2dd610ef1a.bindPopup%28popup_13216c4da2c04324b8df79eee641fad6%29%0A%20%20%20%20%20%20%20%20%3B%0A%0A%20%20%20%20%20%20%20%20%0A%20%20%20%20%0A%20%20%20%20%0A%20%20%20%20%20%20%20%20%20%20%20%20var%20marker_242cab4c66e44570b57d27be6f98bfae%20%3D%20L.marker%28%0A%20%20%20%20%20%20%20%20%20%20%20%20%20%20%20%20%5B47.374584%2C%20-122.427757%5D%2C%0A%20%20%20%20%20%20%20%20%20%20%20%20%20%20%20%20%7B%7D%0A%20%20%20%20%20%20%20%20%20%20%20%20%29.addTo%28map_c579b89cd0b54215a9b43163189d73c7%29%3B%0A%20%20%20%20%20%20%20%20%0A%20%20%20%20%0A%20%20%20%20%20%20%20%20%20%20%20%20var%20icon_92e86781daa24cbf9eb440b173456dd1%20%3D%20L.AwesomeMarkers.icon%28%0A%20%20%20%20%20%20%20%20%20%20%20%20%20%20%20%20%7B%22extraClasses%22%3A%20%22fa-rotate-0%22%2C%20%22icon%22%3A%20%22info-sign%22%2C%20%22iconColor%22%3A%20%22white%22%2C%20%22markerColor%22%3A%20%22blue%22%2C%20%22prefix%22%3A%20%22glyphicon%22%7D%0A%20%20%20%20%20%20%20%20%20%20%20%20%29%3B%0A%20%20%20%20%20%20%20%20%20%20%20%20marker_242cab4c66e44570b57d27be6f98bfae.setIcon%28icon_92e86781daa24cbf9eb440b173456dd1%29%3B%0A%20%20%20%20%20%20%20%20%0A%20%20%20%20%0A%20%20%20%20%20%20%20%20var%20popup_401571d361e8438780a56327b60cf5f0%20%3D%20L.popup%28%7B%22maxWidth%22%3A%20%22100%25%22%7D%29%3B%0A%0A%20%20%20%20%20%20%20%20%0A%20%20%20%20%20%20%20%20%20%20%20%20var%20html_b41c2971fb6b47e3862fc3e5b3fd1659%20%3D%20%24%28%60%3Cdiv%20id%3D%22html_b41c2971fb6b47e3862fc3e5b3fd1659%22%20style%3D%22width%3A%20100.0%25%3B%20height%3A%20100.0%25%3B%22%3EName%3A%20SW%20256th%20St%20%26%2075th%20Ave%20SW%3Cbr%3E%3C/div%3E%60%29%5B0%5D%3B%0A%20%20%20%20%20%20%20%20%20%20%20%20popup_401571d361e8438780a56327b60cf5f0.setContent%28html_b41c2971fb6b47e3862fc3e5b3fd1659%29%3B%0A%20%20%20%20%20%20%20%20%0A%0A%20%20%20%20%20%20%20%20marker_242cab4c66e44570b57d27be6f98bfae.bindPopup%28popup_401571d361e8438780a56327b60cf5f0%29%0A%20%20%20%20%20%20%20%20%3B%0A%0A%20%20%20%20%20%20%20%20%0A%20%20%20%20%0A%20%20%20%20%0A%20%20%20%20%20%20%20%20%20%20%20%20var%20marker_434d55a573f74dbebd3376aa74bd7b08%20%3D%20L.marker%28%0A%20%20%20%20%20%20%20%20%20%20%20%20%20%20%20%20%5B47.457752%2C%20-122.254478%5D%2C%0A%20%20%20%20%20%20%20%20%20%20%20%20%20%20%20%20%7B%7D%0A%20%20%20%20%20%20%20%20%20%20%20%20%29.addTo%28map_c579b89cd0b54215a9b43163189d73c7%29%3B%0A%20%20%20%20%20%20%20%20%0A%20%20%20%20%0A%20%20%20%20%20%20%20%20%20%20%20%20var%20icon_43180ad066924b2b9877be8ef7f6098a%20%3D%20L.AwesomeMarkers.icon%28%0A%20%20%20%20%20%20%20%20%20%20%20%20%20%20%20%20%7B%22extraClasses%22%3A%20%22fa-rotate-0%22%2C%20%22icon%22%3A%20%22info-sign%22%2C%20%22iconColor%22%3A%20%22white%22%2C%20%22markerColor%22%3A%20%22blue%22%2C%20%22prefix%22%3A%20%22glyphicon%22%7D%0A%20%20%20%20%20%20%20%20%20%20%20%20%29%3B%0A%20%20%20%20%20%20%20%20%20%20%20%20marker_434d55a573f74dbebd3376aa74bd7b08.setIcon%28icon_43180ad066924b2b9877be8ef7f6098a%29%3B%0A%20%20%20%20%20%20%20%20%0A%20%20%20%20%0A%20%20%20%20%20%20%20%20var%20popup_ebca554e68ba42bf9126f6918b270df5%20%3D%20L.popup%28%7B%22maxWidth%22%3A%20%22100%25%22%7D%29%3B%0A%0A%20%20%20%20%20%20%20%20%0A%20%20%20%20%20%20%20%20%20%20%20%20var%20html_38c91092d10541a8b6145c7843751e62%20%3D%20%24%28%60%3Cdiv%20id%3D%22html_38c91092d10541a8b6145c7843751e62%22%20style%3D%22width%3A%20100.0%25%3B%20height%3A%20100.0%25%3B%22%3EName%3A%20Andover%20Park%20W%20%26%20Baker%20Blvd%20-%20Bay%202%3Cbr%3E%3C/div%3E%60%29%5B0%5D%3B%0A%20%20%20%20%20%20%20%20%20%20%20%20popup_ebca554e68ba42bf9126f6918b270df5.setContent%28html_38c91092d10541a8b6145c7843751e62%29%3B%0A%20%20%20%20%20%20%20%20%0A%0A%20%20%20%20%20%20%20%20marker_434d55a573f74dbebd3376aa74bd7b08.bindPopup%28popup_ebca554e68ba42bf9126f6918b270df5%29%0A%20%20%20%20%20%20%20%20%3B%0A%0A%20%20%20%20%20%20%20%20%0A%20%20%20%20%0A%20%20%20%20%0A%20%20%20%20%20%20%20%20%20%20%20%20var%20marker_4abc21d12df147b0adb75c69c8f78289%20%3D%20L.marker%28%0A%20%20%20%20%20%20%20%20%20%20%20%20%20%20%20%20%5B47.61536%2C%20-122.19619%5D%2C%0A%20%20%20%20%20%20%20%20%20%20%20%20%20%20%20%20%7B%7D%0A%20%20%20%20%20%20%20%20%20%20%20%20%29.addTo%28map_c579b89cd0b54215a9b43163189d73c7%29%3B%0A%20%20%20%20%20%20%20%20%0A%20%20%20%20%0A%20%20%20%20%20%20%20%20%20%20%20%20var%20icon_0054ea0097da4fe889d453ba4446ac0a%20%3D%20L.AwesomeMarkers.icon%28%0A%20%20%20%20%20%20%20%20%20%20%20%20%20%20%20%20%7B%22extraClasses%22%3A%20%22fa-rotate-0%22%2C%20%22icon%22%3A%20%22info-sign%22%2C%20%22iconColor%22%3A%20%22white%22%2C%20%22markerColor%22%3A%20%22blue%22%2C%20%22prefix%22%3A%20%22glyphicon%22%7D%0A%20%20%20%20%20%20%20%20%20%20%20%20%29%3B%0A%20%20%20%20%20%20%20%20%20%20%20%20marker_4abc21d12df147b0adb75c69c8f78289.setIcon%28icon_0054ea0097da4fe889d453ba4446ac0a%29%3B%0A%20%20%20%20%20%20%20%20%0A%20%20%20%20%0A%20%20%20%20%20%20%20%20var%20popup_4bedaf02b18b4a8ab34bcf3a83933bb9%20%3D%20L.popup%28%7B%22maxWidth%22%3A%20%22100%25%22%7D%29%3B%0A%0A%20%20%20%20%20%20%20%20%0A%20%20%20%20%20%20%20%20%20%20%20%20var%20html_ac333f5c1f5440beba6ebe3d12541ce5%20%3D%20%24%28%60%3Cdiv%20id%3D%22html_ac333f5c1f5440beba6ebe3d12541ce5%22%20style%3D%22width%3A%20100.0%25%3B%20height%3A%20100.0%25%3B%22%3EName%3A%20Bellevue%20Transit%20Center%20-%20Bay%2012%3Cbr%3E%3C/div%3E%60%29%5B0%5D%3B%0A%20%20%20%20%20%20%20%20%20%20%20%20popup_4bedaf02b18b4a8ab34bcf3a83933bb9.setContent%28html_ac333f5c1f5440beba6ebe3d12541ce5%29%3B%0A%20%20%20%20%20%20%20%20%0A%0A%20%20%20%20%20%20%20%20marker_4abc21d12df147b0adb75c69c8f78289.bindPopup%28popup_4bedaf02b18b4a8ab34bcf3a83933bb9%29%0A%20%20%20%20%20%20%20%20%3B%0A%0A%20%20%20%20%20%20%20%20%0A%20%20%20%20%0A%3C/script%3E onload=\"this.contentDocument.open();this.contentDocument.write(    decodeURIComponent(this.getAttribute('data-html')));this.contentDocument.close();\" allowfullscreen webkitallowfullscreen mozallowfullscreen></iframe></div></div>"
      ],
      "text/plain": [
       "<folium.folium.Map at 0x7fd1ff809ac0>"
      ]
     },
     "execution_count": 128,
     "metadata": {},
     "output_type": "execute_result"
    }
   ],
   "source": [
    "df_e_rush=df[(df['ACTUAL_DEPARTURE_SECS_AFTER_MIDNT']>e_start) & (df['ACTUAL_DEPARTURE_SECS_AFTER_MIDNT']<e_end)]\n",
    "\n",
    "top_evening=df_e_rush.loc[(df_e_rush['OPERATION_DATE'] == '2020-09-01')].groupby('STOP_ID').agg({'PSNGR_ALIGHTINGS':'mean','STOP_NM':'first'}).nlargest(10,'PSNGR_ALIGHTINGS')\n",
    "\n",
    "evening=geoloc.merge(top_evening, how='inner', right_on='STOP_ID',left_on=\"stop_id\")\n",
    "evening\n",
    "\n",
    "geo_df_list = [[point.xy[1][0], point.xy[0][0]] for point in evening.geometry ]\n",
    "mapping = folium.Map(location = [47.59789702474227, -122.31735261797544], tiles = \"OpenStreetMap\", zoom_start = 10)\n",
    "i=0\n",
    "for coordinates in geo_df_list[:10]:\n",
    "    mapping.add_child(folium.Marker(location = coordinates,popup =\n",
    "                            \"Name: \" + str(evening.stop_name[i]) + '<br>',\n",
    "                            icon = folium.Icon()))\n",
    "    i = i + 1\n",
    "\n",
    "mapping"
   ]
  },
  {
   "cell_type": "code",
   "execution_count": 130,
   "id": "ea4e8675",
   "metadata": {},
   "outputs": [
    {
     "data": {
      "text/html": [
       "<div style=\"width:100%;\"><div style=\"position:relative;width:100%;height:0;padding-bottom:60%;\"><span style=\"color:#565656\">Make this Notebook Trusted to load map: File -> Trust Notebook</span><iframe src=\"about:blank\" style=\"position:absolute;width:100%;height:100%;left:0;top:0;border:none !important;\" data-html=%3C%21DOCTYPE%20html%3E%0A%3Chead%3E%20%20%20%20%0A%20%20%20%20%3Cmeta%20http-equiv%3D%22content-type%22%20content%3D%22text/html%3B%20charset%3DUTF-8%22%20/%3E%0A%20%20%20%20%0A%20%20%20%20%20%20%20%20%3Cscript%3E%0A%20%20%20%20%20%20%20%20%20%20%20%20L_NO_TOUCH%20%3D%20false%3B%0A%20%20%20%20%20%20%20%20%20%20%20%20L_DISABLE_3D%20%3D%20false%3B%0A%20%20%20%20%20%20%20%20%3C/script%3E%0A%20%20%20%20%0A%20%20%20%20%3Cstyle%3Ehtml%2C%20body%20%7Bwidth%3A%20100%25%3Bheight%3A%20100%25%3Bmargin%3A%200%3Bpadding%3A%200%3B%7D%3C/style%3E%0A%20%20%20%20%3Cstyle%3E%23map%20%7Bposition%3Aabsolute%3Btop%3A0%3Bbottom%3A0%3Bright%3A0%3Bleft%3A0%3B%7D%3C/style%3E%0A%20%20%20%20%3Cscript%20src%3D%22https%3A//cdn.jsdelivr.net/npm/leaflet%401.6.0/dist/leaflet.js%22%3E%3C/script%3E%0A%20%20%20%20%3Cscript%20src%3D%22https%3A//code.jquery.com/jquery-1.12.4.min.js%22%3E%3C/script%3E%0A%20%20%20%20%3Cscript%20src%3D%22https%3A//maxcdn.bootstrapcdn.com/bootstrap/3.2.0/js/bootstrap.min.js%22%3E%3C/script%3E%0A%20%20%20%20%3Cscript%20src%3D%22https%3A//cdnjs.cloudflare.com/ajax/libs/Leaflet.awesome-markers/2.0.2/leaflet.awesome-markers.js%22%3E%3C/script%3E%0A%20%20%20%20%3Clink%20rel%3D%22stylesheet%22%20href%3D%22https%3A//cdn.jsdelivr.net/npm/leaflet%401.6.0/dist/leaflet.css%22/%3E%0A%20%20%20%20%3Clink%20rel%3D%22stylesheet%22%20href%3D%22https%3A//maxcdn.bootstrapcdn.com/bootstrap/3.2.0/css/bootstrap.min.css%22/%3E%0A%20%20%20%20%3Clink%20rel%3D%22stylesheet%22%20href%3D%22https%3A//maxcdn.bootstrapcdn.com/bootstrap/3.2.0/css/bootstrap-theme.min.css%22/%3E%0A%20%20%20%20%3Clink%20rel%3D%22stylesheet%22%20href%3D%22https%3A//maxcdn.bootstrapcdn.com/font-awesome/4.6.3/css/font-awesome.min.css%22/%3E%0A%20%20%20%20%3Clink%20rel%3D%22stylesheet%22%20href%3D%22https%3A//cdnjs.cloudflare.com/ajax/libs/Leaflet.awesome-markers/2.0.2/leaflet.awesome-markers.css%22/%3E%0A%20%20%20%20%3Clink%20rel%3D%22stylesheet%22%20href%3D%22https%3A//cdn.jsdelivr.net/gh/python-visualization/folium/folium/templates/leaflet.awesome.rotate.min.css%22/%3E%0A%20%20%20%20%0A%20%20%20%20%20%20%20%20%20%20%20%20%3Cmeta%20name%3D%22viewport%22%20content%3D%22width%3Ddevice-width%2C%0A%20%20%20%20%20%20%20%20%20%20%20%20%20%20%20%20initial-scale%3D1.0%2C%20maximum-scale%3D1.0%2C%20user-scalable%3Dno%22%20/%3E%0A%20%20%20%20%20%20%20%20%20%20%20%20%3Cstyle%3E%0A%20%20%20%20%20%20%20%20%20%20%20%20%20%20%20%20%23map_61b812f7a10c44a58a3fd44cc16961ca%20%7B%0A%20%20%20%20%20%20%20%20%20%20%20%20%20%20%20%20%20%20%20%20position%3A%20relative%3B%0A%20%20%20%20%20%20%20%20%20%20%20%20%20%20%20%20%20%20%20%20width%3A%20100.0%25%3B%0A%20%20%20%20%20%20%20%20%20%20%20%20%20%20%20%20%20%20%20%20height%3A%20100.0%25%3B%0A%20%20%20%20%20%20%20%20%20%20%20%20%20%20%20%20%20%20%20%20left%3A%200.0%25%3B%0A%20%20%20%20%20%20%20%20%20%20%20%20%20%20%20%20%20%20%20%20top%3A%200.0%25%3B%0A%20%20%20%20%20%20%20%20%20%20%20%20%20%20%20%20%7D%0A%20%20%20%20%20%20%20%20%20%20%20%20%3C/style%3E%0A%20%20%20%20%20%20%20%20%0A%3C/head%3E%0A%3Cbody%3E%20%20%20%20%0A%20%20%20%20%0A%20%20%20%20%20%20%20%20%20%20%20%20%3Cdiv%20class%3D%22folium-map%22%20id%3D%22map_61b812f7a10c44a58a3fd44cc16961ca%22%20%3E%3C/div%3E%0A%20%20%20%20%20%20%20%20%0A%3C/body%3E%0A%3Cscript%3E%20%20%20%20%0A%20%20%20%20%0A%20%20%20%20%20%20%20%20%20%20%20%20var%20map_61b812f7a10c44a58a3fd44cc16961ca%20%3D%20L.map%28%0A%20%20%20%20%20%20%20%20%20%20%20%20%20%20%20%20%22map_61b812f7a10c44a58a3fd44cc16961ca%22%2C%0A%20%20%20%20%20%20%20%20%20%20%20%20%20%20%20%20%7B%0A%20%20%20%20%20%20%20%20%20%20%20%20%20%20%20%20%20%20%20%20center%3A%20%5B47.59789702474227%2C%20-122.31735261797544%5D%2C%0A%20%20%20%20%20%20%20%20%20%20%20%20%20%20%20%20%20%20%20%20crs%3A%20L.CRS.EPSG3857%2C%0A%20%20%20%20%20%20%20%20%20%20%20%20%20%20%20%20%20%20%20%20zoom%3A%2010%2C%0A%20%20%20%20%20%20%20%20%20%20%20%20%20%20%20%20%20%20%20%20zoomControl%3A%20true%2C%0A%20%20%20%20%20%20%20%20%20%20%20%20%20%20%20%20%20%20%20%20preferCanvas%3A%20false%2C%0A%20%20%20%20%20%20%20%20%20%20%20%20%20%20%20%20%7D%0A%20%20%20%20%20%20%20%20%20%20%20%20%29%3B%0A%0A%20%20%20%20%20%20%20%20%20%20%20%20%0A%0A%20%20%20%20%20%20%20%20%0A%20%20%20%20%0A%20%20%20%20%20%20%20%20%20%20%20%20var%20tile_layer_22d23f963d9642e4ab5969fc3095a67a%20%3D%20L.tileLayer%28%0A%20%20%20%20%20%20%20%20%20%20%20%20%20%20%20%20%22https%3A//%7Bs%7D.tile.openstreetmap.org/%7Bz%7D/%7Bx%7D/%7By%7D.png%22%2C%0A%20%20%20%20%20%20%20%20%20%20%20%20%20%20%20%20%7B%22attribution%22%3A%20%22Data%20by%20%5Cu0026copy%3B%20%5Cu003ca%20href%3D%5C%22http%3A//openstreetmap.org%5C%22%5Cu003eOpenStreetMap%5Cu003c/a%5Cu003e%2C%20under%20%5Cu003ca%20href%3D%5C%22http%3A//www.openstreetmap.org/copyright%5C%22%5Cu003eODbL%5Cu003c/a%5Cu003e.%22%2C%20%22detectRetina%22%3A%20false%2C%20%22maxNativeZoom%22%3A%2018%2C%20%22maxZoom%22%3A%2018%2C%20%22minZoom%22%3A%200%2C%20%22noWrap%22%3A%20false%2C%20%22opacity%22%3A%201%2C%20%22subdomains%22%3A%20%22abc%22%2C%20%22tms%22%3A%20false%7D%0A%20%20%20%20%20%20%20%20%20%20%20%20%29.addTo%28map_61b812f7a10c44a58a3fd44cc16961ca%29%3B%0A%20%20%20%20%20%20%20%20%0A%20%20%20%20%0A%20%20%20%20%20%20%20%20%20%20%20%20var%20marker_80f6afbf3f104fac88f556a2c4499540%20%3D%20L.marker%28%0A%20%20%20%20%20%20%20%20%20%20%20%20%20%20%20%20%5B47.610073%2C%20-122.336838%5D%2C%0A%20%20%20%20%20%20%20%20%20%20%20%20%20%20%20%20%7B%7D%0A%20%20%20%20%20%20%20%20%20%20%20%20%29.addTo%28map_61b812f7a10c44a58a3fd44cc16961ca%29%3B%0A%20%20%20%20%20%20%20%20%0A%20%20%20%20%0A%20%20%20%20%20%20%20%20%20%20%20%20var%20icon_431e76a6f21a4110bd3ea787ff84e1ef%20%3D%20L.AwesomeMarkers.icon%28%0A%20%20%20%20%20%20%20%20%20%20%20%20%20%20%20%20%7B%22extraClasses%22%3A%20%22fa-rotate-0%22%2C%20%22icon%22%3A%20%22info-sign%22%2C%20%22iconColor%22%3A%20%22white%22%2C%20%22markerColor%22%3A%20%22blue%22%2C%20%22prefix%22%3A%20%22glyphicon%22%7D%0A%20%20%20%20%20%20%20%20%20%20%20%20%29%3B%0A%20%20%20%20%20%20%20%20%20%20%20%20marker_80f6afbf3f104fac88f556a2c4499540.setIcon%28icon_431e76a6f21a4110bd3ea787ff84e1ef%29%3B%0A%20%20%20%20%20%20%20%20%0A%20%20%20%20%0A%20%20%20%20%20%20%20%20var%20popup_472f29c32de24936986a760ac8c0b247%20%3D%20L.popup%28%7B%22maxWidth%22%3A%20%22100%25%22%7D%29%3B%0A%0A%20%20%20%20%20%20%20%20%0A%20%20%20%20%20%20%20%20%20%20%20%20var%20html_1913b699c56248649b245ee9b25b4fb6%20%3D%20%24%28%60%3Cdiv%20id%3D%22html_1913b699c56248649b245ee9b25b4fb6%22%20style%3D%22width%3A%20100.0%25%3B%20height%3A%20100.0%25%3B%22%3EName%3A%20Pike%20St%20%26%204th%20Ave%3Cbr%3E%3C/div%3E%60%29%5B0%5D%3B%0A%20%20%20%20%20%20%20%20%20%20%20%20popup_472f29c32de24936986a760ac8c0b247.setContent%28html_1913b699c56248649b245ee9b25b4fb6%29%3B%0A%20%20%20%20%20%20%20%20%0A%0A%20%20%20%20%20%20%20%20marker_80f6afbf3f104fac88f556a2c4499540.bindPopup%28popup_472f29c32de24936986a760ac8c0b247%29%0A%20%20%20%20%20%20%20%20%3B%0A%0A%20%20%20%20%20%20%20%20%0A%20%20%20%20%0A%20%20%20%20%0A%20%20%20%20%20%20%20%20%20%20%20%20var%20marker_be3640c21b9a40e2869b151517d4a6ad%20%3D%20L.marker%28%0A%20%20%20%20%20%20%20%20%20%20%20%20%20%20%20%20%5B47.604935%2C%20-122.324089%5D%2C%0A%20%20%20%20%20%20%20%20%20%20%20%20%20%20%20%20%7B%7D%0A%20%20%20%20%20%20%20%20%20%20%20%20%29.addTo%28map_61b812f7a10c44a58a3fd44cc16961ca%29%3B%0A%20%20%20%20%20%20%20%20%0A%20%20%20%20%0A%20%20%20%20%20%20%20%20%20%20%20%20var%20icon_ad9a42ea19584ba9abcae6b0619110ed%20%3D%20L.AwesomeMarkers.icon%28%0A%20%20%20%20%20%20%20%20%20%20%20%20%20%20%20%20%7B%22extraClasses%22%3A%20%22fa-rotate-0%22%2C%20%22icon%22%3A%20%22info-sign%22%2C%20%22iconColor%22%3A%20%22white%22%2C%20%22markerColor%22%3A%20%22blue%22%2C%20%22prefix%22%3A%20%22glyphicon%22%7D%0A%20%20%20%20%20%20%20%20%20%20%20%20%29%3B%0A%20%20%20%20%20%20%20%20%20%20%20%20marker_be3640c21b9a40e2869b151517d4a6ad.setIcon%28icon_ad9a42ea19584ba9abcae6b0619110ed%29%3B%0A%20%20%20%20%20%20%20%20%0A%20%20%20%20%0A%20%20%20%20%20%20%20%20var%20popup_f5245602bfa0425291c530e967922958%20%3D%20L.popup%28%7B%22maxWidth%22%3A%20%22100%25%22%7D%29%3B%0A%0A%20%20%20%20%20%20%20%20%0A%20%20%20%20%20%20%20%20%20%20%20%20var%20html_a53f51dcc5724856a3000792a731e1ec%20%3D%20%24%28%60%3Cdiv%20id%3D%22html_a53f51dcc5724856a3000792a731e1ec%22%20style%3D%22width%3A%20100.0%25%3B%20height%3A%20100.0%25%3B%22%3EName%3A%20Jefferson%20St%20%26%209th%20Ave%3Cbr%3E%3C/div%3E%60%29%5B0%5D%3B%0A%20%20%20%20%20%20%20%20%20%20%20%20popup_f5245602bfa0425291c530e967922958.setContent%28html_a53f51dcc5724856a3000792a731e1ec%29%3B%0A%20%20%20%20%20%20%20%20%0A%0A%20%20%20%20%20%20%20%20marker_be3640c21b9a40e2869b151517d4a6ad.bindPopup%28popup_f5245602bfa0425291c530e967922958%29%0A%20%20%20%20%20%20%20%20%3B%0A%0A%20%20%20%20%20%20%20%20%0A%20%20%20%20%0A%20%20%20%20%0A%20%20%20%20%20%20%20%20%20%20%20%20var%20marker_b10e373596a944bf8f02cc856986b153%20%3D%20L.marker%28%0A%20%20%20%20%20%20%20%20%20%20%20%20%20%20%20%20%5B47.602932%2C%20-122.330826%5D%2C%0A%20%20%20%20%20%20%20%20%20%20%20%20%20%20%20%20%7B%7D%0A%20%20%20%20%20%20%20%20%20%20%20%20%29.addTo%28map_61b812f7a10c44a58a3fd44cc16961ca%29%3B%0A%20%20%20%20%20%20%20%20%0A%20%20%20%20%0A%20%20%20%20%20%20%20%20%20%20%20%20var%20icon_ed2167c558f148c2ac78612e1caccc32%20%3D%20L.AwesomeMarkers.icon%28%0A%20%20%20%20%20%20%20%20%20%20%20%20%20%20%20%20%7B%22extraClasses%22%3A%20%22fa-rotate-0%22%2C%20%22icon%22%3A%20%22info-sign%22%2C%20%22iconColor%22%3A%20%22white%22%2C%20%22markerColor%22%3A%20%22blue%22%2C%20%22prefix%22%3A%20%22glyphicon%22%7D%0A%20%20%20%20%20%20%20%20%20%20%20%20%29%3B%0A%20%20%20%20%20%20%20%20%20%20%20%20marker_b10e373596a944bf8f02cc856986b153.setIcon%28icon_ed2167c558f148c2ac78612e1caccc32%29%3B%0A%20%20%20%20%20%20%20%20%0A%20%20%20%20%0A%20%20%20%20%20%20%20%20var%20popup_1f1c2f1a353047a1b42c1f1526239cdc%20%3D%20L.popup%28%7B%22maxWidth%22%3A%20%22100%25%22%7D%29%3B%0A%0A%20%20%20%20%20%20%20%20%0A%20%20%20%20%20%20%20%20%20%20%20%20var%20html_ccc2d16c430c422d91707beb6d5f6790%20%3D%20%24%28%60%3Cdiv%20id%3D%22html_ccc2d16c430c422d91707beb6d5f6790%22%20style%3D%22width%3A%20100.0%25%3B%20height%3A%20100.0%25%3B%22%3EName%3A%20James%20St%20%26%203rd%20Ave%3Cbr%3E%3C/div%3E%60%29%5B0%5D%3B%0A%20%20%20%20%20%20%20%20%20%20%20%20popup_1f1c2f1a353047a1b42c1f1526239cdc.setContent%28html_ccc2d16c430c422d91707beb6d5f6790%29%3B%0A%20%20%20%20%20%20%20%20%0A%0A%20%20%20%20%20%20%20%20marker_b10e373596a944bf8f02cc856986b153.bindPopup%28popup_1f1c2f1a353047a1b42c1f1526239cdc%29%0A%20%20%20%20%20%20%20%20%3B%0A%0A%20%20%20%20%20%20%20%20%0A%20%20%20%20%0A%20%20%20%20%0A%20%20%20%20%20%20%20%20%20%20%20%20var%20marker_fba1d5be2dc645f29ce387939fab127a%20%3D%20L.marker%28%0A%20%20%20%20%20%20%20%20%20%20%20%20%20%20%20%20%5B47.774395%2C%20-122.341034%5D%2C%0A%20%20%20%20%20%20%20%20%20%20%20%20%20%20%20%20%7B%7D%0A%20%20%20%20%20%20%20%20%20%20%20%20%29.addTo%28map_61b812f7a10c44a58a3fd44cc16961ca%29%3B%0A%20%20%20%20%20%20%20%20%0A%20%20%20%20%0A%20%20%20%20%20%20%20%20%20%20%20%20var%20icon_ff623ee4f4bf4e308319de1fb08b553e%20%3D%20L.AwesomeMarkers.icon%28%0A%20%20%20%20%20%20%20%20%20%20%20%20%20%20%20%20%7B%22extraClasses%22%3A%20%22fa-rotate-0%22%2C%20%22icon%22%3A%20%22info-sign%22%2C%20%22iconColor%22%3A%20%22white%22%2C%20%22markerColor%22%3A%20%22blue%22%2C%20%22prefix%22%3A%20%22glyphicon%22%7D%0A%20%20%20%20%20%20%20%20%20%20%20%20%29%3B%0A%20%20%20%20%20%20%20%20%20%20%20%20marker_fba1d5be2dc645f29ce387939fab127a.setIcon%28icon_ff623ee4f4bf4e308319de1fb08b553e%29%3B%0A%20%20%20%20%20%20%20%20%0A%20%20%20%20%0A%20%20%20%20%20%20%20%20var%20popup_54e2f492a0c1485c8036868d18cc523a%20%3D%20L.popup%28%7B%22maxWidth%22%3A%20%22100%25%22%7D%29%3B%0A%0A%20%20%20%20%20%20%20%20%0A%20%20%20%20%20%20%20%20%20%20%20%20var%20html_6bdc9926f66d4e4bad0265b89c5c738c%20%3D%20%24%28%60%3Cdiv%20id%3D%22html_6bdc9926f66d4e4bad0265b89c5c738c%22%20style%3D%22width%3A%20100.0%25%3B%20height%3A%20100.0%25%3B%22%3EName%3A%20Aurora%20Village%20Transit%20Center%20-%20Bay%206%3Cbr%3E%3C/div%3E%60%29%5B0%5D%3B%0A%20%20%20%20%20%20%20%20%20%20%20%20popup_54e2f492a0c1485c8036868d18cc523a.setContent%28html_6bdc9926f66d4e4bad0265b89c5c738c%29%3B%0A%20%20%20%20%20%20%20%20%0A%0A%20%20%20%20%20%20%20%20marker_fba1d5be2dc645f29ce387939fab127a.bindPopup%28popup_54e2f492a0c1485c8036868d18cc523a%29%0A%20%20%20%20%20%20%20%20%3B%0A%0A%20%20%20%20%20%20%20%20%0A%20%20%20%20%0A%20%20%20%20%0A%20%20%20%20%20%20%20%20%20%20%20%20var%20marker_68f90e3762044eafbed52e269a918f97%20%3D%20L.marker%28%0A%20%20%20%20%20%20%20%20%20%20%20%20%20%20%20%20%5B47.480907%2C%20-122.20813%5D%2C%0A%20%20%20%20%20%20%20%20%20%20%20%20%20%20%20%20%7B%7D%0A%20%20%20%20%20%20%20%20%20%20%20%20%29.addTo%28map_61b812f7a10c44a58a3fd44cc16961ca%29%3B%0A%20%20%20%20%20%20%20%20%0A%20%20%20%20%0A%20%20%20%20%20%20%20%20%20%20%20%20var%20icon_d345c38166964ebeb3055fa98e6c0e24%20%3D%20L.AwesomeMarkers.icon%28%0A%20%20%20%20%20%20%20%20%20%20%20%20%20%20%20%20%7B%22extraClasses%22%3A%20%22fa-rotate-0%22%2C%20%22icon%22%3A%20%22info-sign%22%2C%20%22iconColor%22%3A%20%22white%22%2C%20%22markerColor%22%3A%20%22blue%22%2C%20%22prefix%22%3A%20%22glyphicon%22%7D%0A%20%20%20%20%20%20%20%20%20%20%20%20%29%3B%0A%20%20%20%20%20%20%20%20%20%20%20%20marker_68f90e3762044eafbed52e269a918f97.setIcon%28icon_d345c38166964ebeb3055fa98e6c0e24%29%3B%0A%20%20%20%20%20%20%20%20%0A%20%20%20%20%0A%20%20%20%20%20%20%20%20var%20popup_ba78f085fd8d4715bf4c8c99f5cddff3%20%3D%20L.popup%28%7B%22maxWidth%22%3A%20%22100%25%22%7D%29%3B%0A%0A%20%20%20%20%20%20%20%20%0A%20%20%20%20%20%20%20%20%20%20%20%20var%20html_514da860ac4a4b3f97eab578d80f397b%20%3D%20%24%28%60%3Cdiv%20id%3D%22html_514da860ac4a4b3f97eab578d80f397b%22%20style%3D%22width%3A%20100.0%25%3B%20height%3A%20100.0%25%3B%22%3EName%3A%20Renton%20Transit%20Center%20-%20Bay%205%3Cbr%3E%3C/div%3E%60%29%5B0%5D%3B%0A%20%20%20%20%20%20%20%20%20%20%20%20popup_ba78f085fd8d4715bf4c8c99f5cddff3.setContent%28html_514da860ac4a4b3f97eab578d80f397b%29%3B%0A%20%20%20%20%20%20%20%20%0A%0A%20%20%20%20%20%20%20%20marker_68f90e3762044eafbed52e269a918f97.bindPopup%28popup_ba78f085fd8d4715bf4c8c99f5cddff3%29%0A%20%20%20%20%20%20%20%20%3B%0A%0A%20%20%20%20%20%20%20%20%0A%20%20%20%20%0A%20%20%20%20%0A%20%20%20%20%20%20%20%20%20%20%20%20var%20marker_d18dee22da624aa8acd38b9bef0729c4%20%3D%20L.marker%28%0A%20%20%20%20%20%20%20%20%20%20%20%20%20%20%20%20%5B47.385052%2C%20-122.232689%5D%2C%0A%20%20%20%20%20%20%20%20%20%20%20%20%20%20%20%20%7B%7D%0A%20%20%20%20%20%20%20%20%20%20%20%20%29.addTo%28map_61b812f7a10c44a58a3fd44cc16961ca%29%3B%0A%20%20%20%20%20%20%20%20%0A%20%20%20%20%0A%20%20%20%20%20%20%20%20%20%20%20%20var%20icon_4086c75ccb214cdd9a6d980323652b1c%20%3D%20L.AwesomeMarkers.icon%28%0A%20%20%20%20%20%20%20%20%20%20%20%20%20%20%20%20%7B%22extraClasses%22%3A%20%22fa-rotate-0%22%2C%20%22icon%22%3A%20%22info-sign%22%2C%20%22iconColor%22%3A%20%22white%22%2C%20%22markerColor%22%3A%20%22blue%22%2C%20%22prefix%22%3A%20%22glyphicon%22%7D%0A%20%20%20%20%20%20%20%20%20%20%20%20%29%3B%0A%20%20%20%20%20%20%20%20%20%20%20%20marker_d18dee22da624aa8acd38b9bef0729c4.setIcon%28icon_4086c75ccb214cdd9a6d980323652b1c%29%3B%0A%20%20%20%20%20%20%20%20%0A%20%20%20%20%0A%20%20%20%20%20%20%20%20var%20popup_df7429cc52c7442d9f2f55a1c57de08c%20%3D%20L.popup%28%7B%22maxWidth%22%3A%20%22100%25%22%7D%29%3B%0A%0A%20%20%20%20%20%20%20%20%0A%20%20%20%20%20%20%20%20%20%20%20%20var%20html_8998e53458854775ae48e2509ff2dd46%20%3D%20%24%28%60%3Cdiv%20id%3D%22html_8998e53458854775ae48e2509ff2dd46%22%20style%3D%22width%3A%20100.0%25%3B%20height%3A%20100.0%25%3B%22%3EName%3A%20Kent%20Sounder%20Station%20-%20Bay%201%3Cbr%3E%3C/div%3E%60%29%5B0%5D%3B%0A%20%20%20%20%20%20%20%20%20%20%20%20popup_df7429cc52c7442d9f2f55a1c57de08c.setContent%28html_8998e53458854775ae48e2509ff2dd46%29%3B%0A%20%20%20%20%20%20%20%20%0A%0A%20%20%20%20%20%20%20%20marker_d18dee22da624aa8acd38b9bef0729c4.bindPopup%28popup_df7429cc52c7442d9f2f55a1c57de08c%29%0A%20%20%20%20%20%20%20%20%3B%0A%0A%20%20%20%20%20%20%20%20%0A%20%20%20%20%0A%20%20%20%20%0A%20%20%20%20%20%20%20%20%20%20%20%20var%20marker_b780e6a625334c3fbf70e4077e94cd0a%20%3D%20L.marker%28%0A%20%20%20%20%20%20%20%20%20%20%20%20%20%20%20%20%5B47.305489%2C%20-122.232079%5D%2C%0A%20%20%20%20%20%20%20%20%20%20%20%20%20%20%20%20%7B%7D%0A%20%20%20%20%20%20%20%20%20%20%20%20%29.addTo%28map_61b812f7a10c44a58a3fd44cc16961ca%29%3B%0A%20%20%20%20%20%20%20%20%0A%20%20%20%20%0A%20%20%20%20%20%20%20%20%20%20%20%20var%20icon_b7d6ad1d1ae94c53ba94a89b4bc1b57b%20%3D%20L.AwesomeMarkers.icon%28%0A%20%20%20%20%20%20%20%20%20%20%20%20%20%20%20%20%7B%22extraClasses%22%3A%20%22fa-rotate-0%22%2C%20%22icon%22%3A%20%22info-sign%22%2C%20%22iconColor%22%3A%20%22white%22%2C%20%22markerColor%22%3A%20%22blue%22%2C%20%22prefix%22%3A%20%22glyphicon%22%7D%0A%20%20%20%20%20%20%20%20%20%20%20%20%29%3B%0A%20%20%20%20%20%20%20%20%20%20%20%20marker_b780e6a625334c3fbf70e4077e94cd0a.setIcon%28icon_b7d6ad1d1ae94c53ba94a89b4bc1b57b%29%3B%0A%20%20%20%20%20%20%20%20%0A%20%20%20%20%0A%20%20%20%20%20%20%20%20var%20popup_0b4d9909fa2942109e311ae6b96dcbb5%20%3D%20L.popup%28%7B%22maxWidth%22%3A%20%22100%25%22%7D%29%3B%0A%0A%20%20%20%20%20%20%20%20%0A%20%20%20%20%20%20%20%20%20%20%20%20var%20html_f606767303dc4ae984578e08380e245d%20%3D%20%24%28%60%3Cdiv%20id%3D%22html_f606767303dc4ae984578e08380e245d%22%20style%3D%22width%3A%20100.0%25%3B%20height%3A%20100.0%25%3B%22%3EName%3A%20Auburn%20Transit%20Center%20-%20Bay%203%3Cbr%3E%3C/div%3E%60%29%5B0%5D%3B%0A%20%20%20%20%20%20%20%20%20%20%20%20popup_0b4d9909fa2942109e311ae6b96dcbb5.setContent%28html_f606767303dc4ae984578e08380e245d%29%3B%0A%20%20%20%20%20%20%20%20%0A%0A%20%20%20%20%20%20%20%20marker_b780e6a625334c3fbf70e4077e94cd0a.bindPopup%28popup_0b4d9909fa2942109e311ae6b96dcbb5%29%0A%20%20%20%20%20%20%20%20%3B%0A%0A%20%20%20%20%20%20%20%20%0A%20%20%20%20%0A%20%20%20%20%0A%20%20%20%20%20%20%20%20%20%20%20%20var%20marker_b267837de27141f6b0681e24d43304fe%20%3D%20L.marker%28%0A%20%20%20%20%20%20%20%20%20%20%20%20%20%20%20%20%5B47.610485%2C%20-122.338356%5D%2C%0A%20%20%20%20%20%20%20%20%20%20%20%20%20%20%20%20%7B%7D%0A%20%20%20%20%20%20%20%20%20%20%20%20%29.addTo%28map_61b812f7a10c44a58a3fd44cc16961ca%29%3B%0A%20%20%20%20%20%20%20%20%0A%20%20%20%20%0A%20%20%20%20%20%20%20%20%20%20%20%20var%20icon_23c18e7b807d41b680952d77f925aa7c%20%3D%20L.AwesomeMarkers.icon%28%0A%20%20%20%20%20%20%20%20%20%20%20%20%20%20%20%20%7B%22extraClasses%22%3A%20%22fa-rotate-0%22%2C%20%22icon%22%3A%20%22info-sign%22%2C%20%22iconColor%22%3A%20%22white%22%2C%20%22markerColor%22%3A%20%22blue%22%2C%20%22prefix%22%3A%20%22glyphicon%22%7D%0A%20%20%20%20%20%20%20%20%20%20%20%20%29%3B%0A%20%20%20%20%20%20%20%20%20%20%20%20marker_b267837de27141f6b0681e24d43304fe.setIcon%28icon_23c18e7b807d41b680952d77f925aa7c%29%3B%0A%20%20%20%20%20%20%20%20%0A%20%20%20%20%0A%20%20%20%20%20%20%20%20var%20popup_4b2d601d1f474ca7a77d790ba005dc01%20%3D%20L.popup%28%7B%22maxWidth%22%3A%20%22100%25%22%7D%29%3B%0A%0A%20%20%20%20%20%20%20%20%0A%20%20%20%20%20%20%20%20%20%20%20%20var%20html_7d00b19dc6114f3e8dd47443c4e6fc7a%20%3D%20%24%28%60%3Cdiv%20id%3D%22html_7d00b19dc6114f3e8dd47443c4e6fc7a%22%20style%3D%22width%3A%20100.0%25%3B%20height%3A%20100.0%25%3B%22%3EName%3A%203rd%20Ave%20%26%20Pike%20St%3Cbr%3E%3C/div%3E%60%29%5B0%5D%3B%0A%20%20%20%20%20%20%20%20%20%20%20%20popup_4b2d601d1f474ca7a77d790ba005dc01.setContent%28html_7d00b19dc6114f3e8dd47443c4e6fc7a%29%3B%0A%20%20%20%20%20%20%20%20%0A%0A%20%20%20%20%20%20%20%20marker_b267837de27141f6b0681e24d43304fe.bindPopup%28popup_4b2d601d1f474ca7a77d790ba005dc01%29%0A%20%20%20%20%20%20%20%20%3B%0A%0A%20%20%20%20%20%20%20%20%0A%20%20%20%20%0A%20%20%20%20%0A%20%20%20%20%20%20%20%20%20%20%20%20var%20marker_8abc4f42fa714abd828fc24ec709d658%20%3D%20L.marker%28%0A%20%20%20%20%20%20%20%20%20%20%20%20%20%20%20%20%5B47.458714%2C%20-122.254272%5D%2C%0A%20%20%20%20%20%20%20%20%20%20%20%20%20%20%20%20%7B%7D%0A%20%20%20%20%20%20%20%20%20%20%20%20%29.addTo%28map_61b812f7a10c44a58a3fd44cc16961ca%29%3B%0A%20%20%20%20%20%20%20%20%0A%20%20%20%20%0A%20%20%20%20%20%20%20%20%20%20%20%20var%20icon_0e8f4eac7e4c4d14bdf3c900e60d4da4%20%3D%20L.AwesomeMarkers.icon%28%0A%20%20%20%20%20%20%20%20%20%20%20%20%20%20%20%20%7B%22extraClasses%22%3A%20%22fa-rotate-0%22%2C%20%22icon%22%3A%20%22info-sign%22%2C%20%22iconColor%22%3A%20%22white%22%2C%20%22markerColor%22%3A%20%22blue%22%2C%20%22prefix%22%3A%20%22glyphicon%22%7D%0A%20%20%20%20%20%20%20%20%20%20%20%20%29%3B%0A%20%20%20%20%20%20%20%20%20%20%20%20marker_8abc4f42fa714abd828fc24ec709d658.setIcon%28icon_0e8f4eac7e4c4d14bdf3c900e60d4da4%29%3B%0A%20%20%20%20%20%20%20%20%0A%20%20%20%20%0A%20%20%20%20%20%20%20%20var%20popup_7f32f44c5c904d38a5f5d763040fd988%20%3D%20L.popup%28%7B%22maxWidth%22%3A%20%22100%25%22%7D%29%3B%0A%0A%20%20%20%20%20%20%20%20%0A%20%20%20%20%20%20%20%20%20%20%20%20var%20html_5ab48555eeb2496f9c209647d281beaf%20%3D%20%24%28%60%3Cdiv%20id%3D%22html_5ab48555eeb2496f9c209647d281beaf%22%20style%3D%22width%3A%20100.0%25%3B%20height%3A%20100.0%25%3B%22%3EName%3A%20Andover%20Park%20W%20%26%20Baker%20Blvd%20-%20Bay%203%3Cbr%3E%3C/div%3E%60%29%5B0%5D%3B%0A%20%20%20%20%20%20%20%20%20%20%20%20popup_7f32f44c5c904d38a5f5d763040fd988.setContent%28html_5ab48555eeb2496f9c209647d281beaf%29%3B%0A%20%20%20%20%20%20%20%20%0A%0A%20%20%20%20%20%20%20%20marker_8abc4f42fa714abd828fc24ec709d658.bindPopup%28popup_7f32f44c5c904d38a5f5d763040fd988%29%0A%20%20%20%20%20%20%20%20%3B%0A%0A%20%20%20%20%20%20%20%20%0A%20%20%20%20%0A%20%20%20%20%0A%20%20%20%20%20%20%20%20%20%20%20%20var%20marker_52badb5f53d84b66a45c4d6a5ed8d855%20%3D%20L.marker%28%0A%20%20%20%20%20%20%20%20%20%20%20%20%20%20%20%20%5B47.496124%2C%20-121.786102%5D%2C%0A%20%20%20%20%20%20%20%20%20%20%20%20%20%20%20%20%7B%7D%0A%20%20%20%20%20%20%20%20%20%20%20%20%29.addTo%28map_61b812f7a10c44a58a3fd44cc16961ca%29%3B%0A%20%20%20%20%20%20%20%20%0A%20%20%20%20%0A%20%20%20%20%20%20%20%20%20%20%20%20var%20icon_91c94a88a30c4c3b8e9c7ec37a2564e4%20%3D%20L.AwesomeMarkers.icon%28%0A%20%20%20%20%20%20%20%20%20%20%20%20%20%20%20%20%7B%22extraClasses%22%3A%20%22fa-rotate-0%22%2C%20%22icon%22%3A%20%22info-sign%22%2C%20%22iconColor%22%3A%20%22white%22%2C%20%22markerColor%22%3A%20%22blue%22%2C%20%22prefix%22%3A%20%22glyphicon%22%7D%0A%20%20%20%20%20%20%20%20%20%20%20%20%29%3B%0A%20%20%20%20%20%20%20%20%20%20%20%20marker_52badb5f53d84b66a45c4d6a5ed8d855.setIcon%28icon_91c94a88a30c4c3b8e9c7ec37a2564e4%29%3B%0A%20%20%20%20%20%20%20%20%0A%20%20%20%20%0A%20%20%20%20%20%20%20%20var%20popup_911f2c8a42b549e685773efa6a34ffb2%20%3D%20L.popup%28%7B%22maxWidth%22%3A%20%22100%25%22%7D%29%3B%0A%0A%20%20%20%20%20%20%20%20%0A%20%20%20%20%20%20%20%20%20%20%20%20var%20html_863090847a9d4e8bb7f7db5fa82a6b81%20%3D%20%24%28%60%3Cdiv%20id%3D%22html_863090847a9d4e8bb7f7db5fa82a6b81%22%20style%3D%22width%3A%20100.0%25%3B%20height%3A%20100.0%25%3B%22%3EName%3A%20Bendigo%20Blvd%20N%20%26%20W%202nd%20St%3Cbr%3E%3C/div%3E%60%29%5B0%5D%3B%0A%20%20%20%20%20%20%20%20%20%20%20%20popup_911f2c8a42b549e685773efa6a34ffb2.setContent%28html_863090847a9d4e8bb7f7db5fa82a6b81%29%3B%0A%20%20%20%20%20%20%20%20%0A%0A%20%20%20%20%20%20%20%20marker_52badb5f53d84b66a45c4d6a5ed8d855.bindPopup%28popup_911f2c8a42b549e685773efa6a34ffb2%29%0A%20%20%20%20%20%20%20%20%3B%0A%0A%20%20%20%20%20%20%20%20%0A%20%20%20%20%0A%3C/script%3E onload=\"this.contentDocument.open();this.contentDocument.write(    decodeURIComponent(this.getAttribute('data-html')));this.contentDocument.close();\" allowfullscreen webkitallowfullscreen mozallowfullscreen></iframe></div></div>"
      ],
      "text/plain": [
       "<folium.folium.Map at 0x7fd2091450d0>"
      ]
     },
     "execution_count": 130,
     "metadata": {},
     "output_type": "execute_result"
    }
   ],
   "source": [
    "df_e_rush=df[(df['ACTUAL_DEPARTURE_SECS_AFTER_MIDNT']>e_start) & (df['ACTUAL_DEPARTURE_SECS_AFTER_MIDNT']<e_end)]\n",
    "\n",
    "top_evening=df_e_rush.groupby('STOP_ID').agg({'PSNGR_BOARDINGS':'mean','STOP_NM':'first'}).nlargest(10,'PSNGR_BOARDINGS')\n",
    "\n",
    "evening=geoloc.merge(top_evening, how='inner', right_on='STOP_ID',left_on=\"stop_id\")\n",
    "evening\n",
    "\n",
    "geo_df_list = [[point.xy[1][0], point.xy[0][0]] for point in evening.geometry ]\n",
    "mapping = folium.Map(location = [47.59789702474227, -122.31735261797544], tiles = \"OpenStreetMap\", zoom_start = 10)\n",
    "i=0\n",
    "for coordinates in geo_df_list[:10]:\n",
    "    mapping.add_child(folium.Marker(location = coordinates,popup =\n",
    "                            \"Name: \" + str(evening.stop_name[i]) + '<br>',\n",
    "                            icon = folium.Icon()))\n",
    "    i = i + 1\n",
    "\n",
    "mapping"
   ]
  },
  {
   "cell_type": "code",
   "execution_count": 132,
   "id": "1b01e191",
   "metadata": {},
   "outputs": [
    {
     "data": {
      "text/html": [
       "<div style=\"width:100%;\"><div style=\"position:relative;width:100%;height:0;padding-bottom:60%;\"><span style=\"color:#565656\">Make this Notebook Trusted to load map: File -> Trust Notebook</span><iframe src=\"about:blank\" style=\"position:absolute;width:100%;height:100%;left:0;top:0;border:none !important;\" data-html=%3C%21DOCTYPE%20html%3E%0A%3Chead%3E%20%20%20%20%0A%20%20%20%20%3Cmeta%20http-equiv%3D%22content-type%22%20content%3D%22text/html%3B%20charset%3DUTF-8%22%20/%3E%0A%20%20%20%20%0A%20%20%20%20%20%20%20%20%3Cscript%3E%0A%20%20%20%20%20%20%20%20%20%20%20%20L_NO_TOUCH%20%3D%20false%3B%0A%20%20%20%20%20%20%20%20%20%20%20%20L_DISABLE_3D%20%3D%20false%3B%0A%20%20%20%20%20%20%20%20%3C/script%3E%0A%20%20%20%20%0A%20%20%20%20%3Cstyle%3Ehtml%2C%20body%20%7Bwidth%3A%20100%25%3Bheight%3A%20100%25%3Bmargin%3A%200%3Bpadding%3A%200%3B%7D%3C/style%3E%0A%20%20%20%20%3Cstyle%3E%23map%20%7Bposition%3Aabsolute%3Btop%3A0%3Bbottom%3A0%3Bright%3A0%3Bleft%3A0%3B%7D%3C/style%3E%0A%20%20%20%20%3Cscript%20src%3D%22https%3A//cdn.jsdelivr.net/npm/leaflet%401.6.0/dist/leaflet.js%22%3E%3C/script%3E%0A%20%20%20%20%3Cscript%20src%3D%22https%3A//code.jquery.com/jquery-1.12.4.min.js%22%3E%3C/script%3E%0A%20%20%20%20%3Cscript%20src%3D%22https%3A//maxcdn.bootstrapcdn.com/bootstrap/3.2.0/js/bootstrap.min.js%22%3E%3C/script%3E%0A%20%20%20%20%3Cscript%20src%3D%22https%3A//cdnjs.cloudflare.com/ajax/libs/Leaflet.awesome-markers/2.0.2/leaflet.awesome-markers.js%22%3E%3C/script%3E%0A%20%20%20%20%3Clink%20rel%3D%22stylesheet%22%20href%3D%22https%3A//cdn.jsdelivr.net/npm/leaflet%401.6.0/dist/leaflet.css%22/%3E%0A%20%20%20%20%3Clink%20rel%3D%22stylesheet%22%20href%3D%22https%3A//maxcdn.bootstrapcdn.com/bootstrap/3.2.0/css/bootstrap.min.css%22/%3E%0A%20%20%20%20%3Clink%20rel%3D%22stylesheet%22%20href%3D%22https%3A//maxcdn.bootstrapcdn.com/bootstrap/3.2.0/css/bootstrap-theme.min.css%22/%3E%0A%20%20%20%20%3Clink%20rel%3D%22stylesheet%22%20href%3D%22https%3A//maxcdn.bootstrapcdn.com/font-awesome/4.6.3/css/font-awesome.min.css%22/%3E%0A%20%20%20%20%3Clink%20rel%3D%22stylesheet%22%20href%3D%22https%3A//cdnjs.cloudflare.com/ajax/libs/Leaflet.awesome-markers/2.0.2/leaflet.awesome-markers.css%22/%3E%0A%20%20%20%20%3Clink%20rel%3D%22stylesheet%22%20href%3D%22https%3A//cdn.jsdelivr.net/gh/python-visualization/folium/folium/templates/leaflet.awesome.rotate.min.css%22/%3E%0A%20%20%20%20%0A%20%20%20%20%20%20%20%20%20%20%20%20%3Cmeta%20name%3D%22viewport%22%20content%3D%22width%3Ddevice-width%2C%0A%20%20%20%20%20%20%20%20%20%20%20%20%20%20%20%20initial-scale%3D1.0%2C%20maximum-scale%3D1.0%2C%20user-scalable%3Dno%22%20/%3E%0A%20%20%20%20%20%20%20%20%20%20%20%20%3Cstyle%3E%0A%20%20%20%20%20%20%20%20%20%20%20%20%20%20%20%20%23map_85a3ca294b374423a2b29d6e1a26b583%20%7B%0A%20%20%20%20%20%20%20%20%20%20%20%20%20%20%20%20%20%20%20%20position%3A%20relative%3B%0A%20%20%20%20%20%20%20%20%20%20%20%20%20%20%20%20%20%20%20%20width%3A%20100.0%25%3B%0A%20%20%20%20%20%20%20%20%20%20%20%20%20%20%20%20%20%20%20%20height%3A%20100.0%25%3B%0A%20%20%20%20%20%20%20%20%20%20%20%20%20%20%20%20%20%20%20%20left%3A%200.0%25%3B%0A%20%20%20%20%20%20%20%20%20%20%20%20%20%20%20%20%20%20%20%20top%3A%200.0%25%3B%0A%20%20%20%20%20%20%20%20%20%20%20%20%20%20%20%20%7D%0A%20%20%20%20%20%20%20%20%20%20%20%20%3C/style%3E%0A%20%20%20%20%20%20%20%20%0A%3C/head%3E%0A%3Cbody%3E%20%20%20%20%0A%20%20%20%20%0A%20%20%20%20%20%20%20%20%20%20%20%20%3Cdiv%20class%3D%22folium-map%22%20id%3D%22map_85a3ca294b374423a2b29d6e1a26b583%22%20%3E%3C/div%3E%0A%20%20%20%20%20%20%20%20%0A%3C/body%3E%0A%3Cscript%3E%20%20%20%20%0A%20%20%20%20%0A%20%20%20%20%20%20%20%20%20%20%20%20var%20map_85a3ca294b374423a2b29d6e1a26b583%20%3D%20L.map%28%0A%20%20%20%20%20%20%20%20%20%20%20%20%20%20%20%20%22map_85a3ca294b374423a2b29d6e1a26b583%22%2C%0A%20%20%20%20%20%20%20%20%20%20%20%20%20%20%20%20%7B%0A%20%20%20%20%20%20%20%20%20%20%20%20%20%20%20%20%20%20%20%20center%3A%20%5B47.59789702474227%2C%20-122.31735261797544%5D%2C%0A%20%20%20%20%20%20%20%20%20%20%20%20%20%20%20%20%20%20%20%20crs%3A%20L.CRS.EPSG3857%2C%0A%20%20%20%20%20%20%20%20%20%20%20%20%20%20%20%20%20%20%20%20zoom%3A%2010%2C%0A%20%20%20%20%20%20%20%20%20%20%20%20%20%20%20%20%20%20%20%20zoomControl%3A%20true%2C%0A%20%20%20%20%20%20%20%20%20%20%20%20%20%20%20%20%20%20%20%20preferCanvas%3A%20false%2C%0A%20%20%20%20%20%20%20%20%20%20%20%20%20%20%20%20%7D%0A%20%20%20%20%20%20%20%20%20%20%20%20%29%3B%0A%0A%20%20%20%20%20%20%20%20%20%20%20%20%0A%0A%20%20%20%20%20%20%20%20%0A%20%20%20%20%0A%20%20%20%20%20%20%20%20%20%20%20%20var%20tile_layer_3ecbf42a44ca4ccea6b72f86b3203441%20%3D%20L.tileLayer%28%0A%20%20%20%20%20%20%20%20%20%20%20%20%20%20%20%20%22https%3A//%7Bs%7D.tile.openstreetmap.org/%7Bz%7D/%7Bx%7D/%7By%7D.png%22%2C%0A%20%20%20%20%20%20%20%20%20%20%20%20%20%20%20%20%7B%22attribution%22%3A%20%22Data%20by%20%5Cu0026copy%3B%20%5Cu003ca%20href%3D%5C%22http%3A//openstreetmap.org%5C%22%5Cu003eOpenStreetMap%5Cu003c/a%5Cu003e%2C%20under%20%5Cu003ca%20href%3D%5C%22http%3A//www.openstreetmap.org/copyright%5C%22%5Cu003eODbL%5Cu003c/a%5Cu003e.%22%2C%20%22detectRetina%22%3A%20false%2C%20%22maxNativeZoom%22%3A%2018%2C%20%22maxZoom%22%3A%2018%2C%20%22minZoom%22%3A%200%2C%20%22noWrap%22%3A%20false%2C%20%22opacity%22%3A%201%2C%20%22subdomains%22%3A%20%22abc%22%2C%20%22tms%22%3A%20false%7D%0A%20%20%20%20%20%20%20%20%20%20%20%20%29.addTo%28map_85a3ca294b374423a2b29d6e1a26b583%29%3B%0A%20%20%20%20%20%20%20%20%0A%20%20%20%20%0A%20%20%20%20%20%20%20%20%20%20%20%20var%20marker_29c3ebc1725544388e089d1bc2823354%20%3D%20L.marker%28%0A%20%20%20%20%20%20%20%20%20%20%20%20%20%20%20%20%5B47.600803%2C%20-122.329758%5D%2C%0A%20%20%20%20%20%20%20%20%20%20%20%20%20%20%20%20%7B%7D%0A%20%20%20%20%20%20%20%20%20%20%20%20%29.addTo%28map_85a3ca294b374423a2b29d6e1a26b583%29%3B%0A%20%20%20%20%20%20%20%20%0A%20%20%20%20%0A%20%20%20%20%20%20%20%20%20%20%20%20var%20icon_8e6b5b1e7e724f53a8e060849ec5fc87%20%3D%20L.AwesomeMarkers.icon%28%0A%20%20%20%20%20%20%20%20%20%20%20%20%20%20%20%20%7B%22extraClasses%22%3A%20%22fa-rotate-0%22%2C%20%22icon%22%3A%20%22info-sign%22%2C%20%22iconColor%22%3A%20%22white%22%2C%20%22markerColor%22%3A%20%22blue%22%2C%20%22prefix%22%3A%20%22glyphicon%22%7D%0A%20%20%20%20%20%20%20%20%20%20%20%20%29%3B%0A%20%20%20%20%20%20%20%20%20%20%20%20marker_29c3ebc1725544388e089d1bc2823354.setIcon%28icon_8e6b5b1e7e724f53a8e060849ec5fc87%29%3B%0A%20%20%20%20%20%20%20%20%0A%20%20%20%20%0A%20%20%20%20%20%20%20%20var%20popup_5a8269dab3934866b5f41e1dcfe5f644%20%3D%20L.popup%28%7B%22maxWidth%22%3A%20%22100%25%22%7D%29%3B%0A%0A%20%20%20%20%20%20%20%20%0A%20%20%20%20%20%20%20%20%20%20%20%20var%20html_ddce46ab5ec441c4a8238e66933911cc%20%3D%20%24%28%60%3Cdiv%20id%3D%22html_ddce46ab5ec441c4a8238e66933911cc%22%20style%3D%22width%3A%20100.0%25%3B%20height%3A%20100.0%25%3B%22%3EName%3A%20Pike%20St%20%26%204th%20Ave%3Cbr%3E%3C/div%3E%60%29%5B0%5D%3B%0A%20%20%20%20%20%20%20%20%20%20%20%20popup_5a8269dab3934866b5f41e1dcfe5f644.setContent%28html_ddce46ab5ec441c4a8238e66933911cc%29%3B%0A%20%20%20%20%20%20%20%20%0A%0A%20%20%20%20%20%20%20%20marker_29c3ebc1725544388e089d1bc2823354.bindPopup%28popup_5a8269dab3934866b5f41e1dcfe5f644%29%0A%20%20%20%20%20%20%20%20%3B%0A%0A%20%20%20%20%20%20%20%20%0A%20%20%20%20%0A%20%20%20%20%0A%20%20%20%20%20%20%20%20%20%20%20%20var%20marker_2353ab8d92dd47fba5f83a398281d38f%20%3D%20L.marker%28%0A%20%20%20%20%20%20%20%20%20%20%20%20%20%20%20%20%5B47.774235%2C%20-122.341301%5D%2C%0A%20%20%20%20%20%20%20%20%20%20%20%20%20%20%20%20%7B%7D%0A%20%20%20%20%20%20%20%20%20%20%20%20%29.addTo%28map_85a3ca294b374423a2b29d6e1a26b583%29%3B%0A%20%20%20%20%20%20%20%20%0A%20%20%20%20%0A%20%20%20%20%20%20%20%20%20%20%20%20var%20icon_2f65c59b4f6f42069c25d9e12173b2db%20%3D%20L.AwesomeMarkers.icon%28%0A%20%20%20%20%20%20%20%20%20%20%20%20%20%20%20%20%7B%22extraClasses%22%3A%20%22fa-rotate-0%22%2C%20%22icon%22%3A%20%22info-sign%22%2C%20%22iconColor%22%3A%20%22white%22%2C%20%22markerColor%22%3A%20%22blue%22%2C%20%22prefix%22%3A%20%22glyphicon%22%7D%0A%20%20%20%20%20%20%20%20%20%20%20%20%29%3B%0A%20%20%20%20%20%20%20%20%20%20%20%20marker_2353ab8d92dd47fba5f83a398281d38f.setIcon%28icon_2f65c59b4f6f42069c25d9e12173b2db%29%3B%0A%20%20%20%20%20%20%20%20%0A%20%20%20%20%0A%20%20%20%20%20%20%20%20var%20popup_c63fdc9275e645a98aba94ee2672fb52%20%3D%20L.popup%28%7B%22maxWidth%22%3A%20%22100%25%22%7D%29%3B%0A%0A%20%20%20%20%20%20%20%20%0A%20%20%20%20%20%20%20%20%20%20%20%20var%20html_6e137f51265a4b9cb9d6e6fa9ea748d5%20%3D%20%24%28%60%3Cdiv%20id%3D%22html_6e137f51265a4b9cb9d6e6fa9ea748d5%22%20style%3D%22width%3A%20100.0%25%3B%20height%3A%20100.0%25%3B%22%3EName%3A%20Jefferson%20St%20%26%209th%20Ave%3Cbr%3E%3C/div%3E%60%29%5B0%5D%3B%0A%20%20%20%20%20%20%20%20%20%20%20%20popup_c63fdc9275e645a98aba94ee2672fb52.setContent%28html_6e137f51265a4b9cb9d6e6fa9ea748d5%29%3B%0A%20%20%20%20%20%20%20%20%0A%0A%20%20%20%20%20%20%20%20marker_2353ab8d92dd47fba5f83a398281d38f.bindPopup%28popup_c63fdc9275e645a98aba94ee2672fb52%29%0A%20%20%20%20%20%20%20%20%3B%0A%0A%20%20%20%20%20%20%20%20%0A%20%20%20%20%0A%20%20%20%20%0A%20%20%20%20%20%20%20%20%20%20%20%20var%20marker_f16a7a1fa68a4024a6dc2e5b42a8b10e%20%3D%20L.marker%28%0A%20%20%20%20%20%20%20%20%20%20%20%20%20%20%20%20%5B47.561203%2C%20-122.387383%5D%2C%0A%20%20%20%20%20%20%20%20%20%20%20%20%20%20%20%20%7B%7D%0A%20%20%20%20%20%20%20%20%20%20%20%20%29.addTo%28map_85a3ca294b374423a2b29d6e1a26b583%29%3B%0A%20%20%20%20%20%20%20%20%0A%20%20%20%20%0A%20%20%20%20%20%20%20%20%20%20%20%20var%20icon_a4d696f67cbb4285b8a7d6ac5fa3d1cb%20%3D%20L.AwesomeMarkers.icon%28%0A%20%20%20%20%20%20%20%20%20%20%20%20%20%20%20%20%7B%22extraClasses%22%3A%20%22fa-rotate-0%22%2C%20%22icon%22%3A%20%22info-sign%22%2C%20%22iconColor%22%3A%20%22white%22%2C%20%22markerColor%22%3A%20%22blue%22%2C%20%22prefix%22%3A%20%22glyphicon%22%7D%0A%20%20%20%20%20%20%20%20%20%20%20%20%29%3B%0A%20%20%20%20%20%20%20%20%20%20%20%20marker_f16a7a1fa68a4024a6dc2e5b42a8b10e.setIcon%28icon_a4d696f67cbb4285b8a7d6ac5fa3d1cb%29%3B%0A%20%20%20%20%20%20%20%20%0A%20%20%20%20%0A%20%20%20%20%20%20%20%20var%20popup_c7c0d58d8df04effae6ef67133973aa2%20%3D%20L.popup%28%7B%22maxWidth%22%3A%20%22100%25%22%7D%29%3B%0A%0A%20%20%20%20%20%20%20%20%0A%20%20%20%20%20%20%20%20%20%20%20%20var%20html_6e0ca31c4d904afbbb9c438635cebd23%20%3D%20%24%28%60%3Cdiv%20id%3D%22html_6e0ca31c4d904afbbb9c438635cebd23%22%20style%3D%22width%3A%20100.0%25%3B%20height%3A%20100.0%25%3B%22%3EName%3A%20James%20St%20%26%203rd%20Ave%3Cbr%3E%3C/div%3E%60%29%5B0%5D%3B%0A%20%20%20%20%20%20%20%20%20%20%20%20popup_c7c0d58d8df04effae6ef67133973aa2.setContent%28html_6e0ca31c4d904afbbb9c438635cebd23%29%3B%0A%20%20%20%20%20%20%20%20%0A%0A%20%20%20%20%20%20%20%20marker_f16a7a1fa68a4024a6dc2e5b42a8b10e.bindPopup%28popup_c7c0d58d8df04effae6ef67133973aa2%29%0A%20%20%20%20%20%20%20%20%3B%0A%0A%20%20%20%20%20%20%20%20%0A%20%20%20%20%0A%20%20%20%20%0A%20%20%20%20%20%20%20%20%20%20%20%20var%20marker_a54e76541fe24cf0baa5053c3e94a35b%20%3D%20L.marker%28%0A%20%20%20%20%20%20%20%20%20%20%20%20%20%20%20%20%5B47.585243%2C%20-122.321495%5D%2C%0A%20%20%20%20%20%20%20%20%20%20%20%20%20%20%20%20%7B%7D%0A%20%20%20%20%20%20%20%20%20%20%20%20%29.addTo%28map_85a3ca294b374423a2b29d6e1a26b583%29%3B%0A%20%20%20%20%20%20%20%20%0A%20%20%20%20%0A%20%20%20%20%20%20%20%20%20%20%20%20var%20icon_c14d9f8ee1014a63b31d0889aae3f22a%20%3D%20L.AwesomeMarkers.icon%28%0A%20%20%20%20%20%20%20%20%20%20%20%20%20%20%20%20%7B%22extraClasses%22%3A%20%22fa-rotate-0%22%2C%20%22icon%22%3A%20%22info-sign%22%2C%20%22iconColor%22%3A%20%22white%22%2C%20%22markerColor%22%3A%20%22blue%22%2C%20%22prefix%22%3A%20%22glyphicon%22%7D%0A%20%20%20%20%20%20%20%20%20%20%20%20%29%3B%0A%20%20%20%20%20%20%20%20%20%20%20%20marker_a54e76541fe24cf0baa5053c3e94a35b.setIcon%28icon_c14d9f8ee1014a63b31d0889aae3f22a%29%3B%0A%20%20%20%20%20%20%20%20%0A%20%20%20%20%0A%20%20%20%20%20%20%20%20var%20popup_291700f151024f78a133748048b8fc48%20%3D%20L.popup%28%7B%22maxWidth%22%3A%20%22100%25%22%7D%29%3B%0A%0A%20%20%20%20%20%20%20%20%0A%20%20%20%20%20%20%20%20%20%20%20%20var%20html_900022d2d22a4065b02dce009bc31051%20%3D%20%24%28%60%3Cdiv%20id%3D%22html_900022d2d22a4065b02dce009bc31051%22%20style%3D%22width%3A%20100.0%25%3B%20height%3A%20100.0%25%3B%22%3EName%3A%20Aurora%20Village%20Transit%20Center%20-%20Bay%206%3Cbr%3E%3C/div%3E%60%29%5B0%5D%3B%0A%20%20%20%20%20%20%20%20%20%20%20%20popup_291700f151024f78a133748048b8fc48.setContent%28html_900022d2d22a4065b02dce009bc31051%29%3B%0A%20%20%20%20%20%20%20%20%0A%0A%20%20%20%20%20%20%20%20marker_a54e76541fe24cf0baa5053c3e94a35b.bindPopup%28popup_291700f151024f78a133748048b8fc48%29%0A%20%20%20%20%20%20%20%20%3B%0A%0A%20%20%20%20%20%20%20%20%0A%20%20%20%20%0A%20%20%20%20%0A%20%20%20%20%20%20%20%20%20%20%20%20var%20marker_c125be1628184e429851bb5c25afb9ba%20%3D%20L.marker%28%0A%20%20%20%20%20%20%20%20%20%20%20%20%20%20%20%20%5B47.619846%2C%20-122.320473%5D%2C%0A%20%20%20%20%20%20%20%20%20%20%20%20%20%20%20%20%7B%7D%0A%20%20%20%20%20%20%20%20%20%20%20%20%29.addTo%28map_85a3ca294b374423a2b29d6e1a26b583%29%3B%0A%20%20%20%20%20%20%20%20%0A%20%20%20%20%0A%20%20%20%20%20%20%20%20%20%20%20%20var%20icon_8284e98e316242e1aa04184e1c5d9dbf%20%3D%20L.AwesomeMarkers.icon%28%0A%20%20%20%20%20%20%20%20%20%20%20%20%20%20%20%20%7B%22extraClasses%22%3A%20%22fa-rotate-0%22%2C%20%22icon%22%3A%20%22info-sign%22%2C%20%22iconColor%22%3A%20%22white%22%2C%20%22markerColor%22%3A%20%22blue%22%2C%20%22prefix%22%3A%20%22glyphicon%22%7D%0A%20%20%20%20%20%20%20%20%20%20%20%20%29%3B%0A%20%20%20%20%20%20%20%20%20%20%20%20marker_c125be1628184e429851bb5c25afb9ba.setIcon%28icon_8284e98e316242e1aa04184e1c5d9dbf%29%3B%0A%20%20%20%20%20%20%20%20%0A%20%20%20%20%0A%20%20%20%20%20%20%20%20var%20popup_56944ccaa2604ac6bbed6d2ba9fe019b%20%3D%20L.popup%28%7B%22maxWidth%22%3A%20%22100%25%22%7D%29%3B%0A%0A%20%20%20%20%20%20%20%20%0A%20%20%20%20%20%20%20%20%20%20%20%20var%20html_ad685b4695c04a9e86ee7fb469887f75%20%3D%20%24%28%60%3Cdiv%20id%3D%22html_ad685b4695c04a9e86ee7fb469887f75%22%20style%3D%22width%3A%20100.0%25%3B%20height%3A%20100.0%25%3B%22%3EName%3A%20Renton%20Transit%20Center%20-%20Bay%205%3Cbr%3E%3C/div%3E%60%29%5B0%5D%3B%0A%20%20%20%20%20%20%20%20%20%20%20%20popup_56944ccaa2604ac6bbed6d2ba9fe019b.setContent%28html_ad685b4695c04a9e86ee7fb469887f75%29%3B%0A%20%20%20%20%20%20%20%20%0A%0A%20%20%20%20%20%20%20%20marker_c125be1628184e429851bb5c25afb9ba.bindPopup%28popup_56944ccaa2604ac6bbed6d2ba9fe019b%29%0A%20%20%20%20%20%20%20%20%3B%0A%0A%20%20%20%20%20%20%20%20%0A%20%20%20%20%0A%20%20%20%20%0A%20%20%20%20%20%20%20%20%20%20%20%20var%20marker_9d8d02a7ae7d4643940bb62f269dd833%20%3D%20L.marker%28%0A%20%20%20%20%20%20%20%20%20%20%20%20%20%20%20%20%5B47.581432%2C%20-122.386436%5D%2C%0A%20%20%20%20%20%20%20%20%20%20%20%20%20%20%20%20%7B%7D%0A%20%20%20%20%20%20%20%20%20%20%20%20%29.addTo%28map_85a3ca294b374423a2b29d6e1a26b583%29%3B%0A%20%20%20%20%20%20%20%20%0A%20%20%20%20%0A%20%20%20%20%20%20%20%20%20%20%20%20var%20icon_361f4ba1ed5d479bb525a947220d46d3%20%3D%20L.AwesomeMarkers.icon%28%0A%20%20%20%20%20%20%20%20%20%20%20%20%20%20%20%20%7B%22extraClasses%22%3A%20%22fa-rotate-0%22%2C%20%22icon%22%3A%20%22info-sign%22%2C%20%22iconColor%22%3A%20%22white%22%2C%20%22markerColor%22%3A%20%22blue%22%2C%20%22prefix%22%3A%20%22glyphicon%22%7D%0A%20%20%20%20%20%20%20%20%20%20%20%20%29%3B%0A%20%20%20%20%20%20%20%20%20%20%20%20marker_9d8d02a7ae7d4643940bb62f269dd833.setIcon%28icon_361f4ba1ed5d479bb525a947220d46d3%29%3B%0A%20%20%20%20%20%20%20%20%0A%20%20%20%20%0A%20%20%20%20%20%20%20%20var%20popup_ffcab821a79f47fb8123fb710b68db7e%20%3D%20L.popup%28%7B%22maxWidth%22%3A%20%22100%25%22%7D%29%3B%0A%0A%20%20%20%20%20%20%20%20%0A%20%20%20%20%20%20%20%20%20%20%20%20var%20html_e66899857fef49c5930501e295248903%20%3D%20%24%28%60%3Cdiv%20id%3D%22html_e66899857fef49c5930501e295248903%22%20style%3D%22width%3A%20100.0%25%3B%20height%3A%20100.0%25%3B%22%3EName%3A%20Kent%20Sounder%20Station%20-%20Bay%201%3Cbr%3E%3C/div%3E%60%29%5B0%5D%3B%0A%20%20%20%20%20%20%20%20%20%20%20%20popup_ffcab821a79f47fb8123fb710b68db7e.setContent%28html_e66899857fef49c5930501e295248903%29%3B%0A%20%20%20%20%20%20%20%20%0A%0A%20%20%20%20%20%20%20%20marker_9d8d02a7ae7d4643940bb62f269dd833.bindPopup%28popup_ffcab821a79f47fb8123fb710b68db7e%29%0A%20%20%20%20%20%20%20%20%3B%0A%0A%20%20%20%20%20%20%20%20%0A%20%20%20%20%0A%20%20%20%20%0A%20%20%20%20%20%20%20%20%20%20%20%20var%20marker_2072c71a00324f76b1d5e347598c7cf0%20%3D%20L.marker%28%0A%20%20%20%20%20%20%20%20%20%20%20%20%20%20%20%20%5B47.383431%2C%20-122.232483%5D%2C%0A%20%20%20%20%20%20%20%20%20%20%20%20%20%20%20%20%7B%7D%0A%20%20%20%20%20%20%20%20%20%20%20%20%29.addTo%28map_85a3ca294b374423a2b29d6e1a26b583%29%3B%0A%20%20%20%20%20%20%20%20%0A%20%20%20%20%0A%20%20%20%20%20%20%20%20%20%20%20%20var%20icon_31474b6f68a8463c829f4a2d9c925997%20%3D%20L.AwesomeMarkers.icon%28%0A%20%20%20%20%20%20%20%20%20%20%20%20%20%20%20%20%7B%22extraClasses%22%3A%20%22fa-rotate-0%22%2C%20%22icon%22%3A%20%22info-sign%22%2C%20%22iconColor%22%3A%20%22white%22%2C%20%22markerColor%22%3A%20%22blue%22%2C%20%22prefix%22%3A%20%22glyphicon%22%7D%0A%20%20%20%20%20%20%20%20%20%20%20%20%29%3B%0A%20%20%20%20%20%20%20%20%20%20%20%20marker_2072c71a00324f76b1d5e347598c7cf0.setIcon%28icon_31474b6f68a8463c829f4a2d9c925997%29%3B%0A%20%20%20%20%20%20%20%20%0A%20%20%20%20%0A%20%20%20%20%20%20%20%20var%20popup_97132255fe294d0aabcd428d18958cfc%20%3D%20L.popup%28%7B%22maxWidth%22%3A%20%22100%25%22%7D%29%3B%0A%0A%20%20%20%20%20%20%20%20%0A%20%20%20%20%20%20%20%20%20%20%20%20var%20html_295c1af7fc72402896bb8b7023fca805%20%3D%20%24%28%60%3Cdiv%20id%3D%22html_295c1af7fc72402896bb8b7023fca805%22%20style%3D%22width%3A%20100.0%25%3B%20height%3A%20100.0%25%3B%22%3EName%3A%20Auburn%20Transit%20Center%20-%20Bay%203%3Cbr%3E%3C/div%3E%60%29%5B0%5D%3B%0A%20%20%20%20%20%20%20%20%20%20%20%20popup_97132255fe294d0aabcd428d18958cfc.setContent%28html_295c1af7fc72402896bb8b7023fca805%29%3B%0A%20%20%20%20%20%20%20%20%0A%0A%20%20%20%20%20%20%20%20marker_2072c71a00324f76b1d5e347598c7cf0.bindPopup%28popup_97132255fe294d0aabcd428d18958cfc%29%0A%20%20%20%20%20%20%20%20%3B%0A%0A%20%20%20%20%20%20%20%20%0A%20%20%20%20%0A%20%20%20%20%0A%20%20%20%20%20%20%20%20%20%20%20%20var%20marker_85a79afddd334010acaef308372c180c%20%3D%20L.marker%28%0A%20%20%20%20%20%20%20%20%20%20%20%20%20%20%20%20%5B47.609642%2C%20-122.337585%5D%2C%0A%20%20%20%20%20%20%20%20%20%20%20%20%20%20%20%20%7B%7D%0A%20%20%20%20%20%20%20%20%20%20%20%20%29.addTo%28map_85a3ca294b374423a2b29d6e1a26b583%29%3B%0A%20%20%20%20%20%20%20%20%0A%20%20%20%20%0A%20%20%20%20%20%20%20%20%20%20%20%20var%20icon_8c1e0bb16f86415db1d168e290d3fcf5%20%3D%20L.AwesomeMarkers.icon%28%0A%20%20%20%20%20%20%20%20%20%20%20%20%20%20%20%20%7B%22extraClasses%22%3A%20%22fa-rotate-0%22%2C%20%22icon%22%3A%20%22info-sign%22%2C%20%22iconColor%22%3A%20%22white%22%2C%20%22markerColor%22%3A%20%22blue%22%2C%20%22prefix%22%3A%20%22glyphicon%22%7D%0A%20%20%20%20%20%20%20%20%20%20%20%20%29%3B%0A%20%20%20%20%20%20%20%20%20%20%20%20marker_85a79afddd334010acaef308372c180c.setIcon%28icon_8c1e0bb16f86415db1d168e290d3fcf5%29%3B%0A%20%20%20%20%20%20%20%20%0A%20%20%20%20%0A%20%20%20%20%20%20%20%20var%20popup_b099b162aad34f2f87a528f9fc244904%20%3D%20L.popup%28%7B%22maxWidth%22%3A%20%22100%25%22%7D%29%3B%0A%0A%20%20%20%20%20%20%20%20%0A%20%20%20%20%20%20%20%20%20%20%20%20var%20html_b35cb361f2534666bd959e927677acbe%20%3D%20%24%28%60%3Cdiv%20id%3D%22html_b35cb361f2534666bd959e927677acbe%22%20style%3D%22width%3A%20100.0%25%3B%20height%3A%20100.0%25%3B%22%3EName%3A%203rd%20Ave%20%26%20Pike%20St%3Cbr%3E%3C/div%3E%60%29%5B0%5D%3B%0A%20%20%20%20%20%20%20%20%20%20%20%20popup_b099b162aad34f2f87a528f9fc244904.setContent%28html_b35cb361f2534666bd959e927677acbe%29%3B%0A%20%20%20%20%20%20%20%20%0A%0A%20%20%20%20%20%20%20%20marker_85a79afddd334010acaef308372c180c.bindPopup%28popup_b099b162aad34f2f87a528f9fc244904%29%0A%20%20%20%20%20%20%20%20%3B%0A%0A%20%20%20%20%20%20%20%20%0A%20%20%20%20%0A%20%20%20%20%0A%20%20%20%20%20%20%20%20%20%20%20%20var%20marker_1ce885e53f7f4cf9be21147894eb62fe%20%3D%20L.marker%28%0A%20%20%20%20%20%20%20%20%20%20%20%20%20%20%20%20%5B47.458714%2C%20-122.254272%5D%2C%0A%20%20%20%20%20%20%20%20%20%20%20%20%20%20%20%20%7B%7D%0A%20%20%20%20%20%20%20%20%20%20%20%20%29.addTo%28map_85a3ca294b374423a2b29d6e1a26b583%29%3B%0A%20%20%20%20%20%20%20%20%0A%20%20%20%20%0A%20%20%20%20%20%20%20%20%20%20%20%20var%20icon_6f2a88352a1849509790fac4a0b0c0da%20%3D%20L.AwesomeMarkers.icon%28%0A%20%20%20%20%20%20%20%20%20%20%20%20%20%20%20%20%7B%22extraClasses%22%3A%20%22fa-rotate-0%22%2C%20%22icon%22%3A%20%22info-sign%22%2C%20%22iconColor%22%3A%20%22white%22%2C%20%22markerColor%22%3A%20%22blue%22%2C%20%22prefix%22%3A%20%22glyphicon%22%7D%0A%20%20%20%20%20%20%20%20%20%20%20%20%29%3B%0A%20%20%20%20%20%20%20%20%20%20%20%20marker_1ce885e53f7f4cf9be21147894eb62fe.setIcon%28icon_6f2a88352a1849509790fac4a0b0c0da%29%3B%0A%20%20%20%20%20%20%20%20%0A%20%20%20%20%0A%20%20%20%20%20%20%20%20var%20popup_6d76246d6d5c4a0fa04dca530f97621c%20%3D%20L.popup%28%7B%22maxWidth%22%3A%20%22100%25%22%7D%29%3B%0A%0A%20%20%20%20%20%20%20%20%0A%20%20%20%20%20%20%20%20%20%20%20%20var%20html_4f01cdfb86a74e69b9f59d613a9b9fb5%20%3D%20%24%28%60%3Cdiv%20id%3D%22html_4f01cdfb86a74e69b9f59d613a9b9fb5%22%20style%3D%22width%3A%20100.0%25%3B%20height%3A%20100.0%25%3B%22%3EName%3A%20Andover%20Park%20W%20%26%20Baker%20Blvd%20-%20Bay%203%3Cbr%3E%3C/div%3E%60%29%5B0%5D%3B%0A%20%20%20%20%20%20%20%20%20%20%20%20popup_6d76246d6d5c4a0fa04dca530f97621c.setContent%28html_4f01cdfb86a74e69b9f59d613a9b9fb5%29%3B%0A%20%20%20%20%20%20%20%20%0A%0A%20%20%20%20%20%20%20%20marker_1ce885e53f7f4cf9be21147894eb62fe.bindPopup%28popup_6d76246d6d5c4a0fa04dca530f97621c%29%0A%20%20%20%20%20%20%20%20%3B%0A%0A%20%20%20%20%20%20%20%20%0A%20%20%20%20%0A%20%20%20%20%0A%20%20%20%20%20%20%20%20%20%20%20%20var%20marker_01d28c024b564fcf989e951c31822dbd%20%3D%20L.marker%28%0A%20%20%20%20%20%20%20%20%20%20%20%20%20%20%20%20%5B47.61536%2C%20-122.19619%5D%2C%0A%20%20%20%20%20%20%20%20%20%20%20%20%20%20%20%20%7B%7D%0A%20%20%20%20%20%20%20%20%20%20%20%20%29.addTo%28map_85a3ca294b374423a2b29d6e1a26b583%29%3B%0A%20%20%20%20%20%20%20%20%0A%20%20%20%20%0A%20%20%20%20%20%20%20%20%20%20%20%20var%20icon_7af1411035504d40923655dc526ec927%20%3D%20L.AwesomeMarkers.icon%28%0A%20%20%20%20%20%20%20%20%20%20%20%20%20%20%20%20%7B%22extraClasses%22%3A%20%22fa-rotate-0%22%2C%20%22icon%22%3A%20%22info-sign%22%2C%20%22iconColor%22%3A%20%22white%22%2C%20%22markerColor%22%3A%20%22blue%22%2C%20%22prefix%22%3A%20%22glyphicon%22%7D%0A%20%20%20%20%20%20%20%20%20%20%20%20%29%3B%0A%20%20%20%20%20%20%20%20%20%20%20%20marker_01d28c024b564fcf989e951c31822dbd.setIcon%28icon_7af1411035504d40923655dc526ec927%29%3B%0A%20%20%20%20%20%20%20%20%0A%20%20%20%20%0A%20%20%20%20%20%20%20%20var%20popup_9bff1188988648b59d7783192a065eea%20%3D%20L.popup%28%7B%22maxWidth%22%3A%20%22100%25%22%7D%29%3B%0A%0A%20%20%20%20%20%20%20%20%0A%20%20%20%20%20%20%20%20%20%20%20%20var%20html_2d39232336d34e2d9acdf1dab077bfde%20%3D%20%24%28%60%3Cdiv%20id%3D%22html_2d39232336d34e2d9acdf1dab077bfde%22%20style%3D%22width%3A%20100.0%25%3B%20height%3A%20100.0%25%3B%22%3EName%3A%20Bendigo%20Blvd%20N%20%26%20W%202nd%20St%3Cbr%3E%3C/div%3E%60%29%5B0%5D%3B%0A%20%20%20%20%20%20%20%20%20%20%20%20popup_9bff1188988648b59d7783192a065eea.setContent%28html_2d39232336d34e2d9acdf1dab077bfde%29%3B%0A%20%20%20%20%20%20%20%20%0A%0A%20%20%20%20%20%20%20%20marker_01d28c024b564fcf989e951c31822dbd.bindPopup%28popup_9bff1188988648b59d7783192a065eea%29%0A%20%20%20%20%20%20%20%20%3B%0A%0A%20%20%20%20%20%20%20%20%0A%20%20%20%20%0A%3C/script%3E onload=\"this.contentDocument.open();this.contentDocument.write(    decodeURIComponent(this.getAttribute('data-html')));this.contentDocument.close();\" allowfullscreen webkitallowfullscreen mozallowfullscreen></iframe></div></div>"
      ],
      "text/plain": [
       "<folium.folium.Map at 0x7fd02004a640>"
      ]
     },
     "execution_count": 132,
     "metadata": {},
     "output_type": "execute_result"
    }
   ],
   "source": [
    "df_m_rush=df[(df['ACTUAL_DEPARTURE_SECS_AFTER_MIDNT']>m_start) & (df['ACTUAL_DEPARTURE_SECS_AFTER_MIDNT']<m_end)]\n",
    "\n",
    "top_evening=df_m_rush.loc[(df_m_rush['OPERATION_DATE'] == '2020-09-01')].groupby('STOP_ID').agg({'PSNGR_ALIGHTINGS':'mean','STOP_NM':'first'}).nlargest(10,'PSNGR_ALIGHTINGS')\n",
    "\n",
    "morning=geoloc.merge(top_evening, how='inner', right_on='STOP_ID',left_on=\"stop_id\")\n",
    "\n",
    "\n",
    "geo_df_list = [[point.xy[1][0], point.xy[0][0]] for point in morning.geometry ]\n",
    "mapping = folium.Map(location = [47.59789702474227, -122.31735261797544], tiles = \"OpenStreetMap\", zoom_start = 10)\n",
    "i=0\n",
    "for coordinates in geo_df_list[:10]:\n",
    "    mapping.add_child(folium.Marker(location = coordinates,popup =\n",
    "                            \"Name: \" + str(evening.stop_name[i]) + '<br>',\n",
    "                            icon = folium.Icon()))\n",
    "    i = i + 1\n",
    "\n",
    "mapping"
   ]
  },
  {
   "cell_type": "code",
   "execution_count": 133,
   "id": "11fde8fc",
   "metadata": {},
   "outputs": [
    {
     "data": {
      "text/html": [
       "<div style=\"width:100%;\"><div style=\"position:relative;width:100%;height:0;padding-bottom:60%;\"><span style=\"color:#565656\">Make this Notebook Trusted to load map: File -> Trust Notebook</span><iframe src=\"about:blank\" style=\"position:absolute;width:100%;height:100%;left:0;top:0;border:none !important;\" data-html=%3C%21DOCTYPE%20html%3E%0A%3Chead%3E%20%20%20%20%0A%20%20%20%20%3Cmeta%20http-equiv%3D%22content-type%22%20content%3D%22text/html%3B%20charset%3DUTF-8%22%20/%3E%0A%20%20%20%20%0A%20%20%20%20%20%20%20%20%3Cscript%3E%0A%20%20%20%20%20%20%20%20%20%20%20%20L_NO_TOUCH%20%3D%20false%3B%0A%20%20%20%20%20%20%20%20%20%20%20%20L_DISABLE_3D%20%3D%20false%3B%0A%20%20%20%20%20%20%20%20%3C/script%3E%0A%20%20%20%20%0A%20%20%20%20%3Cstyle%3Ehtml%2C%20body%20%7Bwidth%3A%20100%25%3Bheight%3A%20100%25%3Bmargin%3A%200%3Bpadding%3A%200%3B%7D%3C/style%3E%0A%20%20%20%20%3Cstyle%3E%23map%20%7Bposition%3Aabsolute%3Btop%3A0%3Bbottom%3A0%3Bright%3A0%3Bleft%3A0%3B%7D%3C/style%3E%0A%20%20%20%20%3Cscript%20src%3D%22https%3A//cdn.jsdelivr.net/npm/leaflet%401.6.0/dist/leaflet.js%22%3E%3C/script%3E%0A%20%20%20%20%3Cscript%20src%3D%22https%3A//code.jquery.com/jquery-1.12.4.min.js%22%3E%3C/script%3E%0A%20%20%20%20%3Cscript%20src%3D%22https%3A//maxcdn.bootstrapcdn.com/bootstrap/3.2.0/js/bootstrap.min.js%22%3E%3C/script%3E%0A%20%20%20%20%3Cscript%20src%3D%22https%3A//cdnjs.cloudflare.com/ajax/libs/Leaflet.awesome-markers/2.0.2/leaflet.awesome-markers.js%22%3E%3C/script%3E%0A%20%20%20%20%3Clink%20rel%3D%22stylesheet%22%20href%3D%22https%3A//cdn.jsdelivr.net/npm/leaflet%401.6.0/dist/leaflet.css%22/%3E%0A%20%20%20%20%3Clink%20rel%3D%22stylesheet%22%20href%3D%22https%3A//maxcdn.bootstrapcdn.com/bootstrap/3.2.0/css/bootstrap.min.css%22/%3E%0A%20%20%20%20%3Clink%20rel%3D%22stylesheet%22%20href%3D%22https%3A//maxcdn.bootstrapcdn.com/bootstrap/3.2.0/css/bootstrap-theme.min.css%22/%3E%0A%20%20%20%20%3Clink%20rel%3D%22stylesheet%22%20href%3D%22https%3A//maxcdn.bootstrapcdn.com/font-awesome/4.6.3/css/font-awesome.min.css%22/%3E%0A%20%20%20%20%3Clink%20rel%3D%22stylesheet%22%20href%3D%22https%3A//cdnjs.cloudflare.com/ajax/libs/Leaflet.awesome-markers/2.0.2/leaflet.awesome-markers.css%22/%3E%0A%20%20%20%20%3Clink%20rel%3D%22stylesheet%22%20href%3D%22https%3A//cdn.jsdelivr.net/gh/python-visualization/folium/folium/templates/leaflet.awesome.rotate.min.css%22/%3E%0A%20%20%20%20%0A%20%20%20%20%20%20%20%20%20%20%20%20%3Cmeta%20name%3D%22viewport%22%20content%3D%22width%3Ddevice-width%2C%0A%20%20%20%20%20%20%20%20%20%20%20%20%20%20%20%20initial-scale%3D1.0%2C%20maximum-scale%3D1.0%2C%20user-scalable%3Dno%22%20/%3E%0A%20%20%20%20%20%20%20%20%20%20%20%20%3Cstyle%3E%0A%20%20%20%20%20%20%20%20%20%20%20%20%20%20%20%20%23map_780a7823251f49c1af62ad925078c0ff%20%7B%0A%20%20%20%20%20%20%20%20%20%20%20%20%20%20%20%20%20%20%20%20position%3A%20relative%3B%0A%20%20%20%20%20%20%20%20%20%20%20%20%20%20%20%20%20%20%20%20width%3A%20100.0%25%3B%0A%20%20%20%20%20%20%20%20%20%20%20%20%20%20%20%20%20%20%20%20height%3A%20100.0%25%3B%0A%20%20%20%20%20%20%20%20%20%20%20%20%20%20%20%20%20%20%20%20left%3A%200.0%25%3B%0A%20%20%20%20%20%20%20%20%20%20%20%20%20%20%20%20%20%20%20%20top%3A%200.0%25%3B%0A%20%20%20%20%20%20%20%20%20%20%20%20%20%20%20%20%7D%0A%20%20%20%20%20%20%20%20%20%20%20%20%3C/style%3E%0A%20%20%20%20%20%20%20%20%0A%3C/head%3E%0A%3Cbody%3E%20%20%20%20%0A%20%20%20%20%0A%20%20%20%20%20%20%20%20%20%20%20%20%3Cdiv%20class%3D%22folium-map%22%20id%3D%22map_780a7823251f49c1af62ad925078c0ff%22%20%3E%3C/div%3E%0A%20%20%20%20%20%20%20%20%0A%3C/body%3E%0A%3Cscript%3E%20%20%20%20%0A%20%20%20%20%0A%20%20%20%20%20%20%20%20%20%20%20%20var%20map_780a7823251f49c1af62ad925078c0ff%20%3D%20L.map%28%0A%20%20%20%20%20%20%20%20%20%20%20%20%20%20%20%20%22map_780a7823251f49c1af62ad925078c0ff%22%2C%0A%20%20%20%20%20%20%20%20%20%20%20%20%20%20%20%20%7B%0A%20%20%20%20%20%20%20%20%20%20%20%20%20%20%20%20%20%20%20%20center%3A%20%5B47.59789702474227%2C%20-122.31735261797544%5D%2C%0A%20%20%20%20%20%20%20%20%20%20%20%20%20%20%20%20%20%20%20%20crs%3A%20L.CRS.EPSG3857%2C%0A%20%20%20%20%20%20%20%20%20%20%20%20%20%20%20%20%20%20%20%20zoom%3A%2010%2C%0A%20%20%20%20%20%20%20%20%20%20%20%20%20%20%20%20%20%20%20%20zoomControl%3A%20true%2C%0A%20%20%20%20%20%20%20%20%20%20%20%20%20%20%20%20%20%20%20%20preferCanvas%3A%20false%2C%0A%20%20%20%20%20%20%20%20%20%20%20%20%20%20%20%20%7D%0A%20%20%20%20%20%20%20%20%20%20%20%20%29%3B%0A%0A%20%20%20%20%20%20%20%20%20%20%20%20%0A%0A%20%20%20%20%20%20%20%20%0A%20%20%20%20%0A%20%20%20%20%20%20%20%20%20%20%20%20var%20tile_layer_70924cd5226347cd8dff5159778e91cd%20%3D%20L.tileLayer%28%0A%20%20%20%20%20%20%20%20%20%20%20%20%20%20%20%20%22https%3A//%7Bs%7D.tile.openstreetmap.org/%7Bz%7D/%7Bx%7D/%7By%7D.png%22%2C%0A%20%20%20%20%20%20%20%20%20%20%20%20%20%20%20%20%7B%22attribution%22%3A%20%22Data%20by%20%5Cu0026copy%3B%20%5Cu003ca%20href%3D%5C%22http%3A//openstreetmap.org%5C%22%5Cu003eOpenStreetMap%5Cu003c/a%5Cu003e%2C%20under%20%5Cu003ca%20href%3D%5C%22http%3A//www.openstreetmap.org/copyright%5C%22%5Cu003eODbL%5Cu003c/a%5Cu003e.%22%2C%20%22detectRetina%22%3A%20false%2C%20%22maxNativeZoom%22%3A%2018%2C%20%22maxZoom%22%3A%2018%2C%20%22minZoom%22%3A%200%2C%20%22noWrap%22%3A%20false%2C%20%22opacity%22%3A%201%2C%20%22subdomains%22%3A%20%22abc%22%2C%20%22tms%22%3A%20false%7D%0A%20%20%20%20%20%20%20%20%20%20%20%20%29.addTo%28map_780a7823251f49c1af62ad925078c0ff%29%3B%0A%20%20%20%20%20%20%20%20%0A%20%20%20%20%0A%20%20%20%20%20%20%20%20%20%20%20%20var%20marker_2a6213dd2e6b457eb34dc4c2ee6ac87f%20%3D%20L.marker%28%0A%20%20%20%20%20%20%20%20%20%20%20%20%20%20%20%20%5B47.615345%2C%20-122.31591%5D%2C%0A%20%20%20%20%20%20%20%20%20%20%20%20%20%20%20%20%7B%7D%0A%20%20%20%20%20%20%20%20%20%20%20%20%29.addTo%28map_780a7823251f49c1af62ad925078c0ff%29%3B%0A%20%20%20%20%20%20%20%20%0A%20%20%20%20%0A%20%20%20%20%20%20%20%20%20%20%20%20var%20icon_0639d499c0e043628ca421a127d077f7%20%3D%20L.AwesomeMarkers.icon%28%0A%20%20%20%20%20%20%20%20%20%20%20%20%20%20%20%20%7B%22extraClasses%22%3A%20%22fa-rotate-0%22%2C%20%22icon%22%3A%20%22info-sign%22%2C%20%22iconColor%22%3A%20%22white%22%2C%20%22markerColor%22%3A%20%22blue%22%2C%20%22prefix%22%3A%20%22glyphicon%22%7D%0A%20%20%20%20%20%20%20%20%20%20%20%20%29%3B%0A%20%20%20%20%20%20%20%20%20%20%20%20marker_2a6213dd2e6b457eb34dc4c2ee6ac87f.setIcon%28icon_0639d499c0e043628ca421a127d077f7%29%3B%0A%20%20%20%20%20%20%20%20%0A%20%20%20%20%0A%20%20%20%20%20%20%20%20var%20popup_7263142f3d51468ba9fa83f2564025de%20%3D%20L.popup%28%7B%22maxWidth%22%3A%20%22100%25%22%7D%29%3B%0A%0A%20%20%20%20%20%20%20%20%0A%20%20%20%20%20%20%20%20%20%20%20%20var%20html_7735e6c0bbcd4464a8d470e1ded58711%20%3D%20%24%28%60%3Cdiv%20id%3D%22html_7735e6c0bbcd4464a8d470e1ded58711%22%20style%3D%22width%3A%20100.0%25%3B%20height%3A%20100.0%25%3B%22%3EName%3A%20Pike%20St%20%26%204th%20Ave%3Cbr%3E%3C/div%3E%60%29%5B0%5D%3B%0A%20%20%20%20%20%20%20%20%20%20%20%20popup_7263142f3d51468ba9fa83f2564025de.setContent%28html_7735e6c0bbcd4464a8d470e1ded58711%29%3B%0A%20%20%20%20%20%20%20%20%0A%0A%20%20%20%20%20%20%20%20marker_2a6213dd2e6b457eb34dc4c2ee6ac87f.bindPopup%28popup_7263142f3d51468ba9fa83f2564025de%29%0A%20%20%20%20%20%20%20%20%3B%0A%0A%20%20%20%20%20%20%20%20%0A%20%20%20%20%0A%20%20%20%20%0A%20%20%20%20%20%20%20%20%20%20%20%20var%20marker_4c2eb553bcb5464392712273a152ddfe%20%3D%20L.marker%28%0A%20%20%20%20%20%20%20%20%20%20%20%20%20%20%20%20%5B47.610073%2C%20-122.336838%5D%2C%0A%20%20%20%20%20%20%20%20%20%20%20%20%20%20%20%20%7B%7D%0A%20%20%20%20%20%20%20%20%20%20%20%20%29.addTo%28map_780a7823251f49c1af62ad925078c0ff%29%3B%0A%20%20%20%20%20%20%20%20%0A%20%20%20%20%0A%20%20%20%20%20%20%20%20%20%20%20%20var%20icon_8a692c6d09564fb7ac205dddd825d2e0%20%3D%20L.AwesomeMarkers.icon%28%0A%20%20%20%20%20%20%20%20%20%20%20%20%20%20%20%20%7B%22extraClasses%22%3A%20%22fa-rotate-0%22%2C%20%22icon%22%3A%20%22info-sign%22%2C%20%22iconColor%22%3A%20%22white%22%2C%20%22markerColor%22%3A%20%22blue%22%2C%20%22prefix%22%3A%20%22glyphicon%22%7D%0A%20%20%20%20%20%20%20%20%20%20%20%20%29%3B%0A%20%20%20%20%20%20%20%20%20%20%20%20marker_4c2eb553bcb5464392712273a152ddfe.setIcon%28icon_8a692c6d09564fb7ac205dddd825d2e0%29%3B%0A%20%20%20%20%20%20%20%20%0A%20%20%20%20%0A%20%20%20%20%20%20%20%20var%20popup_9fd51283621c446ca929784c33116765%20%3D%20L.popup%28%7B%22maxWidth%22%3A%20%22100%25%22%7D%29%3B%0A%0A%20%20%20%20%20%20%20%20%0A%20%20%20%20%20%20%20%20%20%20%20%20var%20html_abd8ea98f1e741c5ab6452525027560a%20%3D%20%24%28%60%3Cdiv%20id%3D%22html_abd8ea98f1e741c5ab6452525027560a%22%20style%3D%22width%3A%20100.0%25%3B%20height%3A%20100.0%25%3B%22%3EName%3A%20Jefferson%20St%20%26%209th%20Ave%3Cbr%3E%3C/div%3E%60%29%5B0%5D%3B%0A%20%20%20%20%20%20%20%20%20%20%20%20popup_9fd51283621c446ca929784c33116765.setContent%28html_abd8ea98f1e741c5ab6452525027560a%29%3B%0A%20%20%20%20%20%20%20%20%0A%0A%20%20%20%20%20%20%20%20marker_4c2eb553bcb5464392712273a152ddfe.bindPopup%28popup_9fd51283621c446ca929784c33116765%29%0A%20%20%20%20%20%20%20%20%3B%0A%0A%20%20%20%20%20%20%20%20%0A%20%20%20%20%0A%20%20%20%20%0A%20%20%20%20%20%20%20%20%20%20%20%20var%20marker_4f775a441b09487bbeff8d58d527335f%20%3D%20L.marker%28%0A%20%20%20%20%20%20%20%20%20%20%20%20%20%20%20%20%5B47.604935%2C%20-122.324089%5D%2C%0A%20%20%20%20%20%20%20%20%20%20%20%20%20%20%20%20%7B%7D%0A%20%20%20%20%20%20%20%20%20%20%20%20%29.addTo%28map_780a7823251f49c1af62ad925078c0ff%29%3B%0A%20%20%20%20%20%20%20%20%0A%20%20%20%20%0A%20%20%20%20%20%20%20%20%20%20%20%20var%20icon_0f748f794bca4d16840d2c6bec4a3ea2%20%3D%20L.AwesomeMarkers.icon%28%0A%20%20%20%20%20%20%20%20%20%20%20%20%20%20%20%20%7B%22extraClasses%22%3A%20%22fa-rotate-0%22%2C%20%22icon%22%3A%20%22info-sign%22%2C%20%22iconColor%22%3A%20%22white%22%2C%20%22markerColor%22%3A%20%22blue%22%2C%20%22prefix%22%3A%20%22glyphicon%22%7D%0A%20%20%20%20%20%20%20%20%20%20%20%20%29%3B%0A%20%20%20%20%20%20%20%20%20%20%20%20marker_4f775a441b09487bbeff8d58d527335f.setIcon%28icon_0f748f794bca4d16840d2c6bec4a3ea2%29%3B%0A%20%20%20%20%20%20%20%20%0A%20%20%20%20%0A%20%20%20%20%20%20%20%20var%20popup_cbed1d6a165243e7861439afd565032e%20%3D%20L.popup%28%7B%22maxWidth%22%3A%20%22100%25%22%7D%29%3B%0A%0A%20%20%20%20%20%20%20%20%0A%20%20%20%20%20%20%20%20%20%20%20%20var%20html_16339ed0784f4a0ba9cd683138c7016a%20%3D%20%24%28%60%3Cdiv%20id%3D%22html_16339ed0784f4a0ba9cd683138c7016a%22%20style%3D%22width%3A%20100.0%25%3B%20height%3A%20100.0%25%3B%22%3EName%3A%20James%20St%20%26%203rd%20Ave%3Cbr%3E%3C/div%3E%60%29%5B0%5D%3B%0A%20%20%20%20%20%20%20%20%20%20%20%20popup_cbed1d6a165243e7861439afd565032e.setContent%28html_16339ed0784f4a0ba9cd683138c7016a%29%3B%0A%20%20%20%20%20%20%20%20%0A%0A%20%20%20%20%20%20%20%20marker_4f775a441b09487bbeff8d58d527335f.bindPopup%28popup_cbed1d6a165243e7861439afd565032e%29%0A%20%20%20%20%20%20%20%20%3B%0A%0A%20%20%20%20%20%20%20%20%0A%20%20%20%20%0A%20%20%20%20%0A%20%20%20%20%20%20%20%20%20%20%20%20var%20marker_f6a63b211b7643a988f482087791cf75%20%3D%20L.marker%28%0A%20%20%20%20%20%20%20%20%20%20%20%20%20%20%20%20%5B47.578995%2C%20-122.410797%5D%2C%0A%20%20%20%20%20%20%20%20%20%20%20%20%20%20%20%20%7B%7D%0A%20%20%20%20%20%20%20%20%20%20%20%20%29.addTo%28map_780a7823251f49c1af62ad925078c0ff%29%3B%0A%20%20%20%20%20%20%20%20%0A%20%20%20%20%0A%20%20%20%20%20%20%20%20%20%20%20%20var%20icon_7a31f420cc1f4e259242791ffc32c0bb%20%3D%20L.AwesomeMarkers.icon%28%0A%20%20%20%20%20%20%20%20%20%20%20%20%20%20%20%20%7B%22extraClasses%22%3A%20%22fa-rotate-0%22%2C%20%22icon%22%3A%20%22info-sign%22%2C%20%22iconColor%22%3A%20%22white%22%2C%20%22markerColor%22%3A%20%22blue%22%2C%20%22prefix%22%3A%20%22glyphicon%22%7D%0A%20%20%20%20%20%20%20%20%20%20%20%20%29%3B%0A%20%20%20%20%20%20%20%20%20%20%20%20marker_f6a63b211b7643a988f482087791cf75.setIcon%28icon_7a31f420cc1f4e259242791ffc32c0bb%29%3B%0A%20%20%20%20%20%20%20%20%0A%20%20%20%20%0A%20%20%20%20%20%20%20%20var%20popup_b024c111741446379086da8690c0bfc8%20%3D%20L.popup%28%7B%22maxWidth%22%3A%20%22100%25%22%7D%29%3B%0A%0A%20%20%20%20%20%20%20%20%0A%20%20%20%20%20%20%20%20%20%20%20%20var%20html_6f24b79ead1145bba8caec5ab4a09dee%20%3D%20%24%28%60%3Cdiv%20id%3D%22html_6f24b79ead1145bba8caec5ab4a09dee%22%20style%3D%22width%3A%20100.0%25%3B%20height%3A%20100.0%25%3B%22%3EName%3A%20Aurora%20Village%20Transit%20Center%20-%20Bay%206%3Cbr%3E%3C/div%3E%60%29%5B0%5D%3B%0A%20%20%20%20%20%20%20%20%20%20%20%20popup_b024c111741446379086da8690c0bfc8.setContent%28html_6f24b79ead1145bba8caec5ab4a09dee%29%3B%0A%20%20%20%20%20%20%20%20%0A%0A%20%20%20%20%20%20%20%20marker_f6a63b211b7643a988f482087791cf75.bindPopup%28popup_b024c111741446379086da8690c0bfc8%29%0A%20%20%20%20%20%20%20%20%3B%0A%0A%20%20%20%20%20%20%20%20%0A%20%20%20%20%0A%20%20%20%20%0A%20%20%20%20%20%20%20%20%20%20%20%20var%20marker_7b13a199412f43b8986165590ad1d951%20%3D%20L.marker%28%0A%20%20%20%20%20%20%20%20%20%20%20%20%20%20%20%20%5B47.602932%2C%20-122.330826%5D%2C%0A%20%20%20%20%20%20%20%20%20%20%20%20%20%20%20%20%7B%7D%0A%20%20%20%20%20%20%20%20%20%20%20%20%29.addTo%28map_780a7823251f49c1af62ad925078c0ff%29%3B%0A%20%20%20%20%20%20%20%20%0A%20%20%20%20%0A%20%20%20%20%20%20%20%20%20%20%20%20var%20icon_968d6e212f0945798b8961d6df58c732%20%3D%20L.AwesomeMarkers.icon%28%0A%20%20%20%20%20%20%20%20%20%20%20%20%20%20%20%20%7B%22extraClasses%22%3A%20%22fa-rotate-0%22%2C%20%22icon%22%3A%20%22info-sign%22%2C%20%22iconColor%22%3A%20%22white%22%2C%20%22markerColor%22%3A%20%22blue%22%2C%20%22prefix%22%3A%20%22glyphicon%22%7D%0A%20%20%20%20%20%20%20%20%20%20%20%20%29%3B%0A%20%20%20%20%20%20%20%20%20%20%20%20marker_7b13a199412f43b8986165590ad1d951.setIcon%28icon_968d6e212f0945798b8961d6df58c732%29%3B%0A%20%20%20%20%20%20%20%20%0A%20%20%20%20%0A%20%20%20%20%20%20%20%20var%20popup_bc23fa551c39466bb3b6d11459d51511%20%3D%20L.popup%28%7B%22maxWidth%22%3A%20%22100%25%22%7D%29%3B%0A%0A%20%20%20%20%20%20%20%20%0A%20%20%20%20%20%20%20%20%20%20%20%20var%20html_570cd163bd46429ea07a44e234fde5b0%20%3D%20%24%28%60%3Cdiv%20id%3D%22html_570cd163bd46429ea07a44e234fde5b0%22%20style%3D%22width%3A%20100.0%25%3B%20height%3A%20100.0%25%3B%22%3EName%3A%20Renton%20Transit%20Center%20-%20Bay%205%3Cbr%3E%3C/div%3E%60%29%5B0%5D%3B%0A%20%20%20%20%20%20%20%20%20%20%20%20popup_bc23fa551c39466bb3b6d11459d51511.setContent%28html_570cd163bd46429ea07a44e234fde5b0%29%3B%0A%20%20%20%20%20%20%20%20%0A%0A%20%20%20%20%20%20%20%20marker_7b13a199412f43b8986165590ad1d951.bindPopup%28popup_bc23fa551c39466bb3b6d11459d51511%29%0A%20%20%20%20%20%20%20%20%3B%0A%0A%20%20%20%20%20%20%20%20%0A%20%20%20%20%0A%20%20%20%20%0A%20%20%20%20%20%20%20%20%20%20%20%20var%20marker_31f32beebd474bc7b9c4fdff3f662852%20%3D%20L.marker%28%0A%20%20%20%20%20%20%20%20%20%20%20%20%20%20%20%20%5B47.561207%2C%20-122.387955%5D%2C%0A%20%20%20%20%20%20%20%20%20%20%20%20%20%20%20%20%7B%7D%0A%20%20%20%20%20%20%20%20%20%20%20%20%29.addTo%28map_780a7823251f49c1af62ad925078c0ff%29%3B%0A%20%20%20%20%20%20%20%20%0A%20%20%20%20%0A%20%20%20%20%20%20%20%20%20%20%20%20var%20icon_117e38a69c9a4318abe71f943f7cf5f0%20%3D%20L.AwesomeMarkers.icon%28%0A%20%20%20%20%20%20%20%20%20%20%20%20%20%20%20%20%7B%22extraClasses%22%3A%20%22fa-rotate-0%22%2C%20%22icon%22%3A%20%22info-sign%22%2C%20%22iconColor%22%3A%20%22white%22%2C%20%22markerColor%22%3A%20%22blue%22%2C%20%22prefix%22%3A%20%22glyphicon%22%7D%0A%20%20%20%20%20%20%20%20%20%20%20%20%29%3B%0A%20%20%20%20%20%20%20%20%20%20%20%20marker_31f32beebd474bc7b9c4fdff3f662852.setIcon%28icon_117e38a69c9a4318abe71f943f7cf5f0%29%3B%0A%20%20%20%20%20%20%20%20%0A%20%20%20%20%0A%20%20%20%20%20%20%20%20var%20popup_c56bcfcf1fd94843aedb525e1bd3fa5d%20%3D%20L.popup%28%7B%22maxWidth%22%3A%20%22100%25%22%7D%29%3B%0A%0A%20%20%20%20%20%20%20%20%0A%20%20%20%20%20%20%20%20%20%20%20%20var%20html_6c1c4ee3b5b649169002f0ce7e4afe2f%20%3D%20%24%28%60%3Cdiv%20id%3D%22html_6c1c4ee3b5b649169002f0ce7e4afe2f%22%20style%3D%22width%3A%20100.0%25%3B%20height%3A%20100.0%25%3B%22%3EName%3A%20Kent%20Sounder%20Station%20-%20Bay%201%3Cbr%3E%3C/div%3E%60%29%5B0%5D%3B%0A%20%20%20%20%20%20%20%20%20%20%20%20popup_c56bcfcf1fd94843aedb525e1bd3fa5d.setContent%28html_6c1c4ee3b5b649169002f0ce7e4afe2f%29%3B%0A%20%20%20%20%20%20%20%20%0A%0A%20%20%20%20%20%20%20%20marker_31f32beebd474bc7b9c4fdff3f662852.bindPopup%28popup_c56bcfcf1fd94843aedb525e1bd3fa5d%29%0A%20%20%20%20%20%20%20%20%3B%0A%0A%20%20%20%20%20%20%20%20%0A%20%20%20%20%0A%20%20%20%20%0A%20%20%20%20%20%20%20%20%20%20%20%20var%20marker_5056bb95746741cda7c8a8f58dfde2f4%20%3D%20L.marker%28%0A%20%20%20%20%20%20%20%20%20%20%20%20%20%20%20%20%5B47.544617%2C%20-122.376167%5D%2C%0A%20%20%20%20%20%20%20%20%20%20%20%20%20%20%20%20%7B%7D%0A%20%20%20%20%20%20%20%20%20%20%20%20%29.addTo%28map_780a7823251f49c1af62ad925078c0ff%29%3B%0A%20%20%20%20%20%20%20%20%0A%20%20%20%20%0A%20%20%20%20%20%20%20%20%20%20%20%20var%20icon_a8d6b18fa6f34112be0b3874a3fb7c80%20%3D%20L.AwesomeMarkers.icon%28%0A%20%20%20%20%20%20%20%20%20%20%20%20%20%20%20%20%7B%22extraClasses%22%3A%20%22fa-rotate-0%22%2C%20%22icon%22%3A%20%22info-sign%22%2C%20%22iconColor%22%3A%20%22white%22%2C%20%22markerColor%22%3A%20%22blue%22%2C%20%22prefix%22%3A%20%22glyphicon%22%7D%0A%20%20%20%20%20%20%20%20%20%20%20%20%29%3B%0A%20%20%20%20%20%20%20%20%20%20%20%20marker_5056bb95746741cda7c8a8f58dfde2f4.setIcon%28icon_a8d6b18fa6f34112be0b3874a3fb7c80%29%3B%0A%20%20%20%20%20%20%20%20%0A%20%20%20%20%0A%20%20%20%20%20%20%20%20var%20popup_1a25c3601c4b434d9de752853481b30a%20%3D%20L.popup%28%7B%22maxWidth%22%3A%20%22100%25%22%7D%29%3B%0A%0A%20%20%20%20%20%20%20%20%0A%20%20%20%20%20%20%20%20%20%20%20%20var%20html_15015385857741a5b221ab404d78723e%20%3D%20%24%28%60%3Cdiv%20id%3D%22html_15015385857741a5b221ab404d78723e%22%20style%3D%22width%3A%20100.0%25%3B%20height%3A%20100.0%25%3B%22%3EName%3A%20Auburn%20Transit%20Center%20-%20Bay%203%3Cbr%3E%3C/div%3E%60%29%5B0%5D%3B%0A%20%20%20%20%20%20%20%20%20%20%20%20popup_1a25c3601c4b434d9de752853481b30a.setContent%28html_15015385857741a5b221ab404d78723e%29%3B%0A%20%20%20%20%20%20%20%20%0A%0A%20%20%20%20%20%20%20%20marker_5056bb95746741cda7c8a8f58dfde2f4.bindPopup%28popup_1a25c3601c4b434d9de752853481b30a%29%0A%20%20%20%20%20%20%20%20%3B%0A%0A%20%20%20%20%20%20%20%20%0A%20%20%20%20%0A%20%20%20%20%0A%20%20%20%20%20%20%20%20%20%20%20%20var%20marker_baa409fdb3ea4512834519a3fae4d46a%20%3D%20L.marker%28%0A%20%20%20%20%20%20%20%20%20%20%20%20%20%20%20%20%5B47.383881%2C%20-122.232483%5D%2C%0A%20%20%20%20%20%20%20%20%20%20%20%20%20%20%20%20%7B%7D%0A%20%20%20%20%20%20%20%20%20%20%20%20%29.addTo%28map_780a7823251f49c1af62ad925078c0ff%29%3B%0A%20%20%20%20%20%20%20%20%0A%20%20%20%20%0A%20%20%20%20%20%20%20%20%20%20%20%20var%20icon_2de3b8ef86284a1ea8a27032cf4136b1%20%3D%20L.AwesomeMarkers.icon%28%0A%20%20%20%20%20%20%20%20%20%20%20%20%20%20%20%20%7B%22extraClasses%22%3A%20%22fa-rotate-0%22%2C%20%22icon%22%3A%20%22info-sign%22%2C%20%22iconColor%22%3A%20%22white%22%2C%20%22markerColor%22%3A%20%22blue%22%2C%20%22prefix%22%3A%20%22glyphicon%22%7D%0A%20%20%20%20%20%20%20%20%20%20%20%20%29%3B%0A%20%20%20%20%20%20%20%20%20%20%20%20marker_baa409fdb3ea4512834519a3fae4d46a.setIcon%28icon_2de3b8ef86284a1ea8a27032cf4136b1%29%3B%0A%20%20%20%20%20%20%20%20%0A%20%20%20%20%0A%20%20%20%20%20%20%20%20var%20popup_add35e7e95bf4b6f8d675e12f3e0f42e%20%3D%20L.popup%28%7B%22maxWidth%22%3A%20%22100%25%22%7D%29%3B%0A%0A%20%20%20%20%20%20%20%20%0A%20%20%20%20%20%20%20%20%20%20%20%20var%20html_1712191e337746199847a4c956dbffdf%20%3D%20%24%28%60%3Cdiv%20id%3D%22html_1712191e337746199847a4c956dbffdf%22%20style%3D%22width%3A%20100.0%25%3B%20height%3A%20100.0%25%3B%22%3EName%3A%203rd%20Ave%20%26%20Pike%20St%3Cbr%3E%3C/div%3E%60%29%5B0%5D%3B%0A%20%20%20%20%20%20%20%20%20%20%20%20popup_add35e7e95bf4b6f8d675e12f3e0f42e.setContent%28html_1712191e337746199847a4c956dbffdf%29%3B%0A%20%20%20%20%20%20%20%20%0A%0A%20%20%20%20%20%20%20%20marker_baa409fdb3ea4512834519a3fae4d46a.bindPopup%28popup_add35e7e95bf4b6f8d675e12f3e0f42e%29%0A%20%20%20%20%20%20%20%20%3B%0A%0A%20%20%20%20%20%20%20%20%0A%20%20%20%20%0A%20%20%20%20%0A%20%20%20%20%20%20%20%20%20%20%20%20var%20marker_0453e3040c4b4802ae822bc9e48c23ba%20%3D%20L.marker%28%0A%20%20%20%20%20%20%20%20%20%20%20%20%20%20%20%20%5B47.610485%2C%20-122.338356%5D%2C%0A%20%20%20%20%20%20%20%20%20%20%20%20%20%20%20%20%7B%7D%0A%20%20%20%20%20%20%20%20%20%20%20%20%29.addTo%28map_780a7823251f49c1af62ad925078c0ff%29%3B%0A%20%20%20%20%20%20%20%20%0A%20%20%20%20%0A%20%20%20%20%20%20%20%20%20%20%20%20var%20icon_0130b7ee15874942907584a531af0b5a%20%3D%20L.AwesomeMarkers.icon%28%0A%20%20%20%20%20%20%20%20%20%20%20%20%20%20%20%20%7B%22extraClasses%22%3A%20%22fa-rotate-0%22%2C%20%22icon%22%3A%20%22info-sign%22%2C%20%22iconColor%22%3A%20%22white%22%2C%20%22markerColor%22%3A%20%22blue%22%2C%20%22prefix%22%3A%20%22glyphicon%22%7D%0A%20%20%20%20%20%20%20%20%20%20%20%20%29%3B%0A%20%20%20%20%20%20%20%20%20%20%20%20marker_0453e3040c4b4802ae822bc9e48c23ba.setIcon%28icon_0130b7ee15874942907584a531af0b5a%29%3B%0A%20%20%20%20%20%20%20%20%0A%20%20%20%20%0A%20%20%20%20%20%20%20%20var%20popup_0267f14581ab41ed8d3eb530776c3a8e%20%3D%20L.popup%28%7B%22maxWidth%22%3A%20%22100%25%22%7D%29%3B%0A%0A%20%20%20%20%20%20%20%20%0A%20%20%20%20%20%20%20%20%20%20%20%20var%20html_93eba7bb85bf421d9dd9599fa9780d0c%20%3D%20%24%28%60%3Cdiv%20id%3D%22html_93eba7bb85bf421d9dd9599fa9780d0c%22%20style%3D%22width%3A%20100.0%25%3B%20height%3A%20100.0%25%3B%22%3EName%3A%20Andover%20Park%20W%20%26%20Baker%20Blvd%20-%20Bay%203%3Cbr%3E%3C/div%3E%60%29%5B0%5D%3B%0A%20%20%20%20%20%20%20%20%20%20%20%20popup_0267f14581ab41ed8d3eb530776c3a8e.setContent%28html_93eba7bb85bf421d9dd9599fa9780d0c%29%3B%0A%20%20%20%20%20%20%20%20%0A%0A%20%20%20%20%20%20%20%20marker_0453e3040c4b4802ae822bc9e48c23ba.bindPopup%28popup_0267f14581ab41ed8d3eb530776c3a8e%29%0A%20%20%20%20%20%20%20%20%3B%0A%0A%20%20%20%20%20%20%20%20%0A%20%20%20%20%0A%20%20%20%20%0A%20%20%20%20%20%20%20%20%20%20%20%20var%20marker_f2beb40063d047809271f8072a6013d0%20%3D%20L.marker%28%0A%20%20%20%20%20%20%20%20%20%20%20%20%20%20%20%20%5B47.763172%2C%20-122.34491%5D%2C%0A%20%20%20%20%20%20%20%20%20%20%20%20%20%20%20%20%7B%7D%0A%20%20%20%20%20%20%20%20%20%20%20%20%29.addTo%28map_780a7823251f49c1af62ad925078c0ff%29%3B%0A%20%20%20%20%20%20%20%20%0A%20%20%20%20%0A%20%20%20%20%20%20%20%20%20%20%20%20var%20icon_50443aeec8a845eea44a1dd85e6a4798%20%3D%20L.AwesomeMarkers.icon%28%0A%20%20%20%20%20%20%20%20%20%20%20%20%20%20%20%20%7B%22extraClasses%22%3A%20%22fa-rotate-0%22%2C%20%22icon%22%3A%20%22info-sign%22%2C%20%22iconColor%22%3A%20%22white%22%2C%20%22markerColor%22%3A%20%22blue%22%2C%20%22prefix%22%3A%20%22glyphicon%22%7D%0A%20%20%20%20%20%20%20%20%20%20%20%20%29%3B%0A%20%20%20%20%20%20%20%20%20%20%20%20marker_f2beb40063d047809271f8072a6013d0.setIcon%28icon_50443aeec8a845eea44a1dd85e6a4798%29%3B%0A%20%20%20%20%20%20%20%20%0A%20%20%20%20%0A%20%20%20%20%20%20%20%20var%20popup_5d2b69f29684474ab60d06d608ce6b8d%20%3D%20L.popup%28%7B%22maxWidth%22%3A%20%22100%25%22%7D%29%3B%0A%0A%20%20%20%20%20%20%20%20%0A%20%20%20%20%20%20%20%20%20%20%20%20var%20html_1d48388ac4c447beb93137b0a369034a%20%3D%20%24%28%60%3Cdiv%20id%3D%22html_1d48388ac4c447beb93137b0a369034a%22%20style%3D%22width%3A%20100.0%25%3B%20height%3A%20100.0%25%3B%22%3EName%3A%20Bendigo%20Blvd%20N%20%26%20W%202nd%20St%3Cbr%3E%3C/div%3E%60%29%5B0%5D%3B%0A%20%20%20%20%20%20%20%20%20%20%20%20popup_5d2b69f29684474ab60d06d608ce6b8d.setContent%28html_1d48388ac4c447beb93137b0a369034a%29%3B%0A%20%20%20%20%20%20%20%20%0A%0A%20%20%20%20%20%20%20%20marker_f2beb40063d047809271f8072a6013d0.bindPopup%28popup_5d2b69f29684474ab60d06d608ce6b8d%29%0A%20%20%20%20%20%20%20%20%3B%0A%0A%20%20%20%20%20%20%20%20%0A%20%20%20%20%0A%3C/script%3E onload=\"this.contentDocument.open();this.contentDocument.write(    decodeURIComponent(this.getAttribute('data-html')));this.contentDocument.close();\" allowfullscreen webkitallowfullscreen mozallowfullscreen></iframe></div></div>"
      ],
      "text/plain": [
       "<folium.folium.Map at 0x7fd1ff8d9730>"
      ]
     },
     "execution_count": 133,
     "metadata": {},
     "output_type": "execute_result"
    }
   ],
   "source": [
    "df_m_rush=df[(df['ACTUAL_DEPARTURE_SECS_AFTER_MIDNT']>m_start) & (df['ACTUAL_DEPARTURE_SECS_AFTER_MIDNT']<m_end)]\n",
    "\n",
    "top_evening=df_m_rush.loc[(df_m_rush['OPERATION_DATE'] == '2020-09-01')].groupby('STOP_ID').agg({'PSNGR_BOARDINGS':'mean','STOP_NM':'first'}).nlargest(10,'PSNGR_BOARDINGS')\n",
    "\n",
    "morning=geoloc.merge(top_evening, how='inner', right_on='STOP_ID',left_on=\"stop_id\")\n",
    "\n",
    "\n",
    "geo_df_list = [[point.xy[1][0], point.xy[0][0]] for point in morning.geometry ]\n",
    "mapping = folium.Map(location = [47.59789702474227, -122.31735261797544], tiles = \"OpenStreetMap\", zoom_start = 10)\n",
    "i=0\n",
    "for coordinates in geo_df_list[:10]:\n",
    "    mapping.add_child(folium.Marker(location = coordinates,popup =\n",
    "                            \"Name: \" + str(evening.stop_name[i]) + '<br>',\n",
    "                            icon = folium.Icon()))\n",
    "    i = i + 1\n",
    "\n",
    "mapping"
   ]
  },
  {
   "cell_type": "code",
   "execution_count": null,
   "id": "2390499c",
   "metadata": {},
   "outputs": [],
   "source": []
  }
 ],
 "metadata": {
  "kernelspec": {
   "display_name": "Python 3",
   "language": "python",
   "name": "python3"
  },
  "language_info": {
   "codemirror_mode": {
    "name": "ipython",
    "version": 3
   },
   "file_extension": ".py",
   "mimetype": "text/x-python",
   "name": "python",
   "nbconvert_exporter": "python",
   "pygments_lexer": "ipython3",
   "version": "3.8.8"
  }
 },
 "nbformat": 4,
 "nbformat_minor": 5
}
